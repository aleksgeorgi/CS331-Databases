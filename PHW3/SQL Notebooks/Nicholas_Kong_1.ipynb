{
 "cells": [
  {
   "cell_type": "markdown",
   "metadata": {},
   "source": [
    "-- Chapter 4 Exercise 1\n",
    "-- Propositon \n",
    "-- There exists rows in the Order table from the Sales schema\n",
    "-- such that we will filter to show the latest order date "
   ]
  },
  {
   "cell_type": "code",
   "execution_count": null,
   "metadata": {},
   "outputs": [],
   "source": [
    "USE Northwinds2022TSQLV7\n",
    "\n",
    "SELECT orderid, orderdate, CustomerId, EmployeeId\n",
    "\n",
    "FROM Sales.[Order]\n",
    "\n",
    "WHERE orderdate =  (SELECT MAX(orderdate) FROM Sales.[Order])\n",
    "\n",
    "Order By OrderId DESC"
   ]
  },
  {
   "cell_type": "markdown",
   "metadata": {},
   "source": [
    "-- Chapter 4 Exercise 3\n",
    "-- Propositon \n",
    "-- There exists rows in the Order table from the Sales schema\n",
    "-- such that we will filter to show only the dates on or after May 1 2016"
   ]
  },
  {
   "cell_type": "code",
   "execution_count": null,
   "metadata": {},
   "outputs": [],
   "source": [
    "USE Northwinds2022TSQLV7\n",
    "\n",
    "SELECT HumanResources.Employee.EmployeeId, EmployeeFirstName, EmployeeLastName\n",
    "\n",
    "From HumanResources.Employee\n",
    "\n",
    "WHERE HumanResources.Employee.EmployeeId NOT IN\n",
    "\n",
    "(SELECT DISTINCT  O.EmployeeId FROM Sales.[Order] as O \n",
    "\n",
    "WHERE O.OrderDate >= '20160501'\n",
    "\n",
    ")"
   ]
  },
  {
   "cell_type": "markdown",
   "metadata": {},
   "source": [
    "Chapter 4 Sample Code #1\n",
    "---------------------------------------------------------------------\n",
    "-- Scalar Subqueries\n",
    "---------------------------------------------------------------------\n",
    "\n",
    "--Proposition Find the order with the maximum order ID from the 'Sales.Orders' table and retrieve its order details.\""
   ]
  },
  {
   "cell_type": "code",
   "execution_count": null,
   "metadata": {},
   "outputs": [],
   "source": [
    "USE Northwinds2022TSQLV7\n",
    "\n",
    "-- Order with the maximum order ID\n",
    "DECLARE @maxid AS INT = (SELECT MAX(orderid)\n",
    "                         FROM Sales.[Order]);\n",
    "\n",
    "SELECT OrderID, OrderDate, EmployeeID, CustomerId\n",
    "FROM Sales.[Order]\n",
    "WHERE OrderID = @maxid;\n",
    "GO\n"
   ]
  },
  {
   "cell_type": "markdown",
   "metadata": {},
   "source": [
    "Chapter 4 Sample Code #2\n",
    "\n",
    "---------------------------------------------------------------------\n",
    "-- Scalar Subqueries\n",
    "---------------------------------------------------------------------\n",
    "\n",
    "--Proposition Retrieve the order details (orderid, orderdate, employeeid, customerid) from the 'Sales.Orders' table\n",
    "-- where the orderid is equal to the maximum orderid found in the same table.\"\n"
   ]
  },
  {
   "cell_type": "code",
   "execution_count": null,
   "metadata": {},
   "outputs": [],
   "source": [
    "USE Northwinds2022TSQLV7\n",
    "\n",
    "SELECT orderid, orderdate, EmployeeId, CustomerId\n",
    "FROM Sales.[Order]\n",
    "WHERE orderid = (SELECT MAX(O.orderid)\n",
    "                 FROM Sales.[Order] AS O);"
   ]
  },
  {
   "cell_type": "markdown",
   "metadata": {},
   "source": [
    "Chapter 4 Sample Code #3\n",
    "\n",
    "---------------------------------------------------------------------\n",
    "-- Scalar Subqueries\n",
    "---------------------------------------------------------------------\n",
    "\n",
    "--Proposition Retrieve the order IDs from the 'Sales.Orders' table for orders\n",
    "-- associated with employees whose last names start with 'C' (case-insensitive).\"\n",
    "\n",
    "-- Scalar subquery expected to return one value"
   ]
  },
  {
   "cell_type": "code",
   "execution_count": null,
   "metadata": {},
   "outputs": [],
   "source": [
    "USE Northwinds2022TSQLV7\n",
    "\n",
    "SELECT orderid\n",
    "FROM Sales.[Order]\n",
    "WHERE EmployeeId IN\n",
    "  (SELECT E.EmployeeId\n",
    "   FROM HumanResources.Employee AS E\n",
    "   WHERE E.EmployeeLastName LIKE N'C%');\n",
    "GO\n"
   ]
  },
  {
   "cell_type": "markdown",
   "metadata": {},
   "source": [
    "Chapter 4 Sample Code #4\n",
    "\n",
    "---------------------------------------------------------------------\n",
    "-- Scalar Subqueries\n",
    "---------------------------------------------------------------------\n",
    "\n",
    "--Proposition Retrieve the order IDs from the 'Sales.Orders' table for orders\n",
    "-- associated with employees whose last names start with 'D' (case-insensitive).\"\n",
    "\n",
    "-- Scalar subquery expected to return one value\n",
    "\n"
   ]
  },
  {
   "cell_type": "code",
   "execution_count": null,
   "metadata": {},
   "outputs": [],
   "source": [
    "USE Northwinds2022TSQLV7\n",
    "\n",
    "SELECT orderid\n",
    "FROM Sales.[Order]\n",
    "WHERE EmployeeId IN\n",
    "  (SELECT E.EmployeeId\n",
    "   FROM HumanResources.Employee AS E\n",
    "   WHERE E.EmployeeLastName LIKE N'D%');\n",
    "GO"
   ]
  },
  {
   "cell_type": "markdown",
   "metadata": {},
   "source": [
    "Chapter 4 Sample Code #5\n",
    "\n",
    "---------------------------------------------------------------------\n",
    "-- Scalar Subqueries\n",
    "---------------------------------------------------------------------\n",
    "\n",
    "--Proposition Retrieve the order IDs from the 'Sales.Orders' table for orders\n",
    "-- associated with employees whose last names start with 'A' (case-insensitive).\"\n",
    "\n",
    "-- Scalar subquery expected to return one value\n"
   ]
  },
  {
   "cell_type": "code",
   "execution_count": null,
   "metadata": {},
   "outputs": [],
   "source": [
    "USE Northwinds2022TSQLV7\n",
    "\n",
    "\n",
    "SELECT orderid\n",
    "FROM Sales.[Order]\n",
    "WHERE EmployeeId IN\n",
    "  (SELECT E.EmployeeId\n",
    "   FROM HumanResources.Employee AS E\n",
    "   WHERE E.EmployeeLastName LIKE N'A%');\n",
    "GO"
   ]
  },
  {
   "cell_type": "markdown",
   "metadata": {},
   "source": [
    "Chapter 4 Sample Code #6\n",
    "\n",
    "---------------------------------------------------------------------\n",
    "-- Multi-Valued Subqueries\n",
    "---------------------------------------------------------------------\n",
    "\n",
    "--Proposition Retrieve the order IDs from the 'Sales.Orders' table for orders\n",
    "-- associated with employees whose last names start with 'D' (case-insensitive).\"\n",
    "\n",
    "\n"
   ]
  },
  {
   "cell_type": "code",
   "execution_count": null,
   "metadata": {},
   "outputs": [],
   "source": [
    "USE Northwinds2022TSQLV7\n",
    "\n",
    "\n",
    "SELECT OrderId\n",
    "FROM Sales.[Order]\n",
    "WHERE EmployeeId IN\n",
    "  (SELECT E.EmployeeId\n",
    "   FROM HumanResources.Employee AS E\n",
    "\n",
    "   WHERE E.EmployeeLastName LIKE N'D%');"
   ]
  },
  {
   "cell_type": "markdown",
   "metadata": {},
   "source": [
    "Chapter 4 Sample Code #7\n",
    "\n",
    "---------------------------------------------------------------------\n",
    "-- Multi-Valued Subqueries\n",
    "---------------------------------------------------------------------\n",
    "\n",
    "--Proposition Retrieve the order IDs from the 'Sales.Orders' table for orders\n",
    "-- associated with employees whose last names start with 'D' (case-insensitive).\"\n"
   ]
  },
  {
   "cell_type": "code",
   "execution_count": null,
   "metadata": {},
   "outputs": [],
   "source": [
    "USE Northwinds2022TSQLV7\n",
    "\n",
    "SELECT O.orderid\n",
    "FROM HumanResources.Employee AS E\n",
    "  INNER JOIN Sales.[Order] AS O\n",
    "    ON E.EmployeeId = O.EmployeeId\n",
    "WHERE E.EmployeeLastName LIKE N'D%';"
   ]
  },
  {
   "cell_type": "markdown",
   "metadata": {},
   "source": [
    "Chapter 4 Sample Code #8\n",
    "\n",
    "---------------------------------------------------------------------\n",
    "-- Multi-Valued Subqueries\n",
    "---------------------------------------------------------------------\n",
    "\n",
    "--Retrieve the customer IDs (custid), order IDs (orderid), order dates (orderdate),\n",
    "--and employee IDs (empid) from the 'Sales.Orders' table for orders placed by customers located in the USA.\"\n",
    "\n",
    "-- Orders placed by US customers"
   ]
  },
  {
   "cell_type": "code",
   "execution_count": null,
   "metadata": {},
   "outputs": [],
   "source": [
    "USE Northwinds2022TSQLV7\n",
    "\n",
    "SELECT CustomerId, OrderId, OrderDate, EmployeeId\n",
    "FROM Sales.[Order]\n",
    "WHERE CustomerID IN\n",
    "  (SELECT C.CustomerId\n",
    "   FROM Sales.[Customer] AS C\n",
    "   WHERE C.CustomerCountry = N'USA');"
   ]
  },
  {
   "cell_type": "markdown",
   "metadata": {},
   "source": [
    "Chapter 4 Sample Code #9\n",
    "\n",
    "---------------------------------------------------------------------\n",
    "-- Multi-Valued Subqueries\n",
    "---------------------------------------------------------------------\n",
    "\n",
    "-- Proposition \"Retrieve the customer IDs (custid) and company names (companyname) from the 'Sales.Customers' table \n",
    "-- for customers who have not placed any orders in the 'Sales.Orders' table.\"\n",
    "\n",
    "-- Customers who placed no orders"
   ]
  },
  {
   "cell_type": "code",
   "execution_count": null,
   "metadata": {},
   "outputs": [],
   "source": [
    "USE Northwinds2022TSQLV7\n",
    "\n",
    "SELECT CustomerId, CustomerCompanyName\n",
    "FROM Sales.Customer\n",
    "WHERE CustomerId NOT IN\n",
    "  (SELECT O.CustomerId\n",
    "   FROM Sales.[Order] AS O);"
   ]
  },
  {
   "cell_type": "markdown",
   "metadata": {},
   "source": [
    "Chapter 4 Sample Code #10\n",
    "\n",
    "---------------------------------------------------------------------\n",
    "-- Multi-Valued Subqueries\n",
    "---------------------------------------------------------------------\n",
    "\n",
    "--Proposition \"Find missing order IDs within a specific range of order IDs and\n",
    "-- identify those that are not present in the 'dbo.Orders' table.\"\n",
    "\n",
    "-- Missing order IDs\n"
   ]
  },
  {
   "cell_type": "code",
   "execution_count": null,
   "metadata": {},
   "outputs": [],
   "source": [
    "USE Northwinds2022TSQLV7\n",
    "\n",
    "DROP TABLE IF EXISTS dbo.Orders;\n",
    "CREATE TABLE dbo.Orders(orderid INT NOT NULL CONSTRAINT PK_Orders PRIMARY KEY);\n",
    "\n",
    "INSERT INTO dbo.Orders(orderid)\n",
    "  SELECT OrderId\n",
    "  FROM Sales.[Order]\n",
    "  WHERE orderid % 2 = 0;\n",
    "\n",
    "SELECT n\n",
    "FROM dbo.Nums\n",
    "WHERE n BETWEEN (SELECT MIN(O.orderid) FROM dbo.Orders AS O)\n",
    "            AND (SELECT MAX(O.orderid) FROM dbo.Orders AS O)\n",
    "  AND n NOT IN (SELECT O.orderid FROM dbo.Orders AS O);\n",
    "\n",
    "-- CLeanup\n",
    "DROP TABLE IF EXISTS dbo.Orders;"
   ]
  },
  {
   "cell_type": "markdown",
   "metadata": {},
   "source": [
    "-- Homework 5 Excercise 1\n",
    "-- Proposition Retrieve all records from the view 'Sales.VEmpOrders' \n",
    "-- and arrange them in ascending order by 'empid' and 'orderyear'.\"\n",
    "-- Ascending order is by default"
   ]
  },
  {
   "cell_type": "code",
   "execution_count": null,
   "metadata": {},
   "outputs": [],
   "source": [
    "Drop VIEW IF EXISTS Sales.VEmpOrders;\n",
    "GO\n",
    "CREATE VIEW Sales.VEmpOrders\n",
    "AS\n",
    "SELECT\n",
    "    EmployeeId,\n",
    "    YEAR(orderdate) AS orderyear,\n",
    "    SUM(Quantity) AS total_quantity\n",
    "FROM\n",
    "    Sales.[Order] AS O \n",
    "\tINNER JOIN Sales.OrderDetail AS OD\n",
    "\tON O.orderid = OD.orderid\n",
    "GROUP BY\n",
    "    EmployeeId,\n",
    "    YEAR(OrderDate);\n",
    "GO\n",
    "\n",
    "-- table expression\n",
    "-- querying the view with specified ordering\n",
    "SELECT * FROM Sales.VEmpOrders ORDER BY EmployeeId ASC, orderyear;\n"
   ]
  },
  {
   "cell_type": "markdown",
   "metadata": {},
   "source": [
    "Chapter 5 Exercise 2\n",
    "-- Proposition Calculate a running total of the 'total_quantity' for each employee and year in the 'Sales.VEmpOrders' view. For each row in the  result, sum the 'total_quantity' values for that employee up to and including the current year.\""
   ]
  },
  {
   "cell_type": "code",
   "execution_count": null,
   "metadata": {},
   "outputs": [],
   "source": [
    "USE Northwinds2022TSQLV7\n",
    "\n",
    "Select EmployeeId, orderyear, total_quantity,\n",
    "\n",
    "(SELECT SUM(total_quantity)\n",
    "FROM Sales.VEmpOrders AS V2\n",
    "WHERE V2.EmployeeId = V1.EmployeeId\n",
    "AND V2.orderyear <= V1.orderyear) AS runqty\n",
    "FROM Sales.VEmpOrders AS V1\n",
    "ORDER BY EmployeeId, orderyear;"
   ]
  },
  {
   "cell_type": "markdown",
   "metadata": {},
   "source": [
    "\n",
    " Chapter 5 Sample Code #1\n",
    " --Proposition \"Calculate the year-over-year growth of the number of distinct customers \n",
    " --who placed orders for each year in the 'Sales.[Order]' table.\"\n",
    "\n",
    "---------------------------------------------------------------------\n",
    "-- Multiple References\n",
    "---------------------------------------------------------------------\n",
    "\n"
   ]
  },
  {
   "cell_type": "code",
   "execution_count": null,
   "metadata": {},
   "outputs": [],
   "source": [
    "USE Northwinds2022TSQLV7\n",
    "\n",
    "WITH USACusts AS\n",
    "(\n",
    "  SELECT CustomerId, CustomerCompanyName\n",
    "  FROM Sales.[Customer]\n",
    "  WHERE CustomerCountry = N'USA'\n",
    ")\n",
    "SELECT * FROM USACusts;"
   ]
  },
  {
   "cell_type": "markdown",
   "metadata": {},
   "source": [
    "Chapter 5 Sample Code #2\n",
    "---------------------------------------------------------------------\n",
    "-- SCHEMABINDING\n",
    "---------------------------------------------------------------------\n",
    "\n",
    "-- Proposition \"Create a schema-bound view named 'Sales.USACusts' that selects specific columns from the \n",
    "-- 'Sales.Customers' table for customers located in the USA. Additionally, demonstrate that schema binding \n",
    "-- restricts schema changes by attempting to drop a column from the 'Sales.Customers' table and observing any errors.\"\n",
    "\n",
    "-- Create the USA Custs View\n",
    "\n",
    "---------------------------------------------------------------------\n",
    "-- Views Described\n",
    "---------------------------------------------------------------------"
   ]
  },
  {
   "cell_type": "code",
   "execution_count": null,
   "metadata": {},
   "outputs": [],
   "source": [
    "-- Creating USACusts View\n",
    "DROP VIEW IF EXISTS Sales.USACusts;\n",
    "GO\n",
    "CREATE VIEW Sales.USACusts\n",
    "AS\n",
    "\n",
    "SELECT\n",
    "  CustomerId, CustomerCompanyName, CustomerContactName, CustomerContactTitle, CustomerAddress,\n",
    "  CustomerCity, CustomerRegion, CustomerPostalCode, CustomerCountry, CustomerPhoneNumber, CustomerFaxNumber\n",
    "FROM Sales.Customer\n",
    "WHERE CustomerCountry = N'USA';\n",
    "GO\n",
    "\n",
    "SELECT CustomerId, \n",
    "FROM Sales.USACusts;\n",
    "GO\n",
    "\n",
    "-- after creating USACusts view run the code below\n",
    "\n",
    "ALTER VIEW Sales.USACusts WITH SCHEMABINDING\n",
    "AS\n",
    "\n",
    "SELECT\n",
    "  CustomerId, CustomerCompanyName, CustomerContactName, CustomerContactTitle, CustomerAddress,\n",
    "  CustomerCity, CustomerRegion, CustomerPostalCode, CustomerCountry, CustomerPhoneNumber, CustomerFaxNumber\n",
    "FROM Sales.Customer\n",
    "WHERE CustomerCountry = N'USA';\n",
    "GO\n",
    "\n",
    "-- Try a schema change\n",
    "/*\n",
    "ALTER TABLE Sales.Customers DROP COLUMN address;\n",
    "*/\n",
    "GO\n",
    "\n"
   ]
  },
  {
   "cell_type": "markdown",
   "metadata": {},
   "source": [
    "Chapter 5 Sample Code #3\n",
    "\n",
    "\n",
    "---------------------------------------------------------------------\n",
    "-- SCHEMABINDING\n",
    "---------------------------------------------------------------------\n",
    "\n",
    "-- Proposition \"Create a schema-bound view named 'Sales.USACusts' that selects specific columns from the \n",
    "-- 'Sales.Customers' table for customers located in the USA. Additionally, demonstrate that schema binding \n",
    "-- restricts schema changes by attempting to drop a column from the 'Sales.Customers' table and observing any errors.\"\n",
    "\n",
    "\n",
    "\n",
    "---------------------------------------------------------------------\n",
    "-- Views Described\n",
    "---------------------------------------------------------------------\n"
   ]
  },
  {
   "cell_type": "code",
   "execution_count": null,
   "metadata": {},
   "outputs": [],
   "source": [
    "---------------------------------------------------------------------\n",
    "-- Views Described\n",
    "---------------------------------------------------------------------\n",
    "\n",
    "\n",
    "\n",
    "-- Drop the existing view if it exists\n",
    "IF OBJECT_ID('Sales.USACusts', 'V') IS NOT NULL\n",
    "    DROP VIEW Sales.USACusts;\n",
    "GO\n",
    "\n",
    "-- Create the view with schema binding\n",
    "CREATE VIEW Sales.USACusts WITH SCHEMABINDING\n",
    "AS\n",
    "SELECT\n",
    "  CustomerId, CustomerCompanyName, CustomerContactName, CustomerContactTitle, CustomerAddress,\n",
    "  CustomerCity, CustomerRegion, CustomerPostalCode, CustomerCountry, CustomerPhoneNumber, CustomerFaxNumber\n",
    "FROM Sales.Customer\n",
    "WHERE CustomerCountry = N'USA';\n",
    "GO\n"
   ]
  },
  {
   "cell_type": "markdown",
   "metadata": {},
   "source": [
    "Chapter 5 Sample Code #4\n",
    "\n",
    "---------------------------------------------------------------------\n",
    "-- CHECK OPTION\n",
    "---------------------------------------------------------------------\n",
    "\n",
    "-- Propositon Demonstrate the behavior of a view named 'Sales.USACusts' before and after adding the CHECK OPTION clause. \n",
    "--Initially, insert a row through the view and observe that it is accepted but not visible when querying the view. \n",
    "--Then, add the CHECK OPTION to the view, attempt to insert another row through the view, and observe that it is prevented due to the CHECK OPTION.\n",
    "--Finally, clean up the data by deleting rows with 'custid' greater than 91 and drop the 'Sales.USACusts' view.\"\n"
   ]
  },
  {
   "cell_type": "code",
   "execution_count": null,
   "metadata": {},
   "outputs": [],
   "source": [
    "-- Notice that you can insert a row through the view\n",
    "-- Drop the existing view if it exists\n",
    "IF OBJECT_ID('Sales.USACusts', 'V') IS NOT NULL\n",
    "    DROP VIEW Sales.USACusts;\n",
    "GO\n",
    "\n",
    "-- Create the view with schema binding\n",
    "CREATE VIEW Sales.USACusts\n",
    "AS\n",
    "SELECT\n",
    "  CustomerId, CustomerCompanyName AS companyname,\n",
    "  CustomerContactName AS contactname, CustomerContactTitle AS contacttitle,\n",
    "  CustomerAddress AS address, CustomerCity AS city, CustomerRegion AS region,\n",
    "  CustomerPostalCode AS postalcode, CustomerCountry AS country,\n",
    "  CustomerPhoneNumber AS phone, CustomerFaxNumber AS fax\n",
    "FROM Sales.Customer\n",
    "WHERE CustomerCountry = N'USA';\n",
    "GO\n",
    "\n",
    "-- Add CHECK OPTION to the view\n",
    "ALTER VIEW Sales.USACusts WITH SCHEMABINDING\n",
    "AS\n",
    "SELECT\n",
    "  CustomerId, CustomerCompanyName AS companyname,\n",
    "  CustomerContactName AS contactname, CustomerContactTitle AS contacttitle,\n",
    "  CustomerAddress AS address, CustomerCity AS city, CustomerRegion AS region,\n",
    "  CustomerPostalCode AS postalcode, CustomerCountry AS country,\n",
    "  CustomerPhoneNumber AS phone, CustomerFaxNumber AS fax\n",
    "FROM Sales.Customer\n",
    "WHERE CustomerCountry = N'USA'\n",
    "WITH CHECK OPTION;\n",
    "GO\n",
    "\n",
    "-- Notice that you can't insert a row through the view\n",
    "/*\n",
    "INSERT INTO Sales.USACusts(\n",
    "  companyname, contactname, contacttitle, address,\n",
    "  city, region, postalcode, country, phone, fax)\n",
    " VALUES(\n",
    "  N'Customer FGHIJ', N'Contact FGHIJ', N'Title FGHIJ', N'Address FGHIJ',\n",
    "  N'London', NULL, N'12345', N'UK', N'012-3456789', N'012-3456789');\n",
    "*/\n",
    "GO\n",
    "\n",
    "-- Cleanup\n",
    "DELETE FROM Sales.Customer\n",
    "WHERE CustomerId > 91;\n",
    "\n",
    "-- Drop the view\n",
    "DROP VIEW IF EXISTS Sales.USACusts;\n",
    "GO\n"
   ]
  }
 ],
 "metadata": {
  "language_info": {
   "name": "python"
  },
  "orig_nbformat": 4
 },
 "nbformat": 4,
 "nbformat_minor": 2
}

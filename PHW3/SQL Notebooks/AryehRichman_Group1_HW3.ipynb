{
    "metadata": {
        "kernelspec": {
            "name": "SQL",
            "display_name": "SQL",
            "language": "sql"
        },
        "language_info": {
            "name": "sql",
            "version": ""
        }
    },
    "nbformat_minor": 2,
    "nbformat": 4,
    "cells": [
        {
            "cell_type": "markdown",
            "source": [
                "\\-----------------------\n",
                "\n",
                "Correlated Subqueries\n",
                "\n",
                "\\-----------------------\n",
                "\n",
                "Proposition: Write a query that returns each customers most recent order along with its associated order date and employee id.\n",
                "\n",
                "  \n",
                "\n",
                "This is a correlated subquery. Therefore the inner query also depends on attributes from the outer query.\n",
                "\n",
                "In this case, the inner query is working on every row of the Sales.Order table from the outer query.  The inner query selects the maximum OrderId of all orders where the CustomerId matches the CustomerId of the row in the outer query that the inner query is working on.  If this maximum OrderId matches the OrderId of the outer query row, that row is included in the output table as that customers most recent order."
            ],
            "metadata": {
                "language": "sql",
                "azdata_cell_guid": "c115d37d-e21d-4751-b675-bb5064cdbee1"
            },
            "attachments": {}
        },
        {
            "cell_type": "code",
            "source": [
                "USE Northwinds2022TSQLV7;\n",
                "\n",
                "SELECT CustomerId, OrderId, OrderDate, EmployeeId\n",
                "FROM Sales.[Order] AS O1\n",
                "WHERE orderid =\n",
                "  (SELECT MAX(O2.OrderId)\n",
                "   FROM Sales.[Order] AS O2\n",
                "   WHERE O2.CustomerId = O1.CustomerId)\n",
                "ORDER BY O1.CustomerId;"
            ],
            "metadata": {
                "azdata_cell_guid": "1535d147-de1e-4a03-aef8-a57d2f955923",
                "language": "sql"
            },
            "outputs": [
                {
                    "output_type": "display_data",
                    "data": {
                        "text/html": "(89 rows affected)"
                    },
                    "metadata": {}
                },
                {
                    "output_type": "display_data",
                    "data": {
                        "text/html": "Total execution time: 00:00:00.027"
                    },
                    "metadata": {}
                },
                {
                    "output_type": "execute_result",
                    "metadata": {},
                    "execution_count": 117,
                    "data": {
                        "application/vnd.dataresource+json": {
                            "schema": {
                                "fields": [
                                    {
                                        "name": "CustomerId"
                                    },
                                    {
                                        "name": "OrderId"
                                    },
                                    {
                                        "name": "OrderDate"
                                    },
                                    {
                                        "name": "EmployeeId"
                                    }
                                ]
                            },
                            "data": [
                                {
                                    "CustomerId": "1",
                                    "OrderId": "11011",
                                    "OrderDate": "2016-04-09",
                                    "EmployeeId": "3"
                                },
                                {
                                    "CustomerId": "2",
                                    "OrderId": "10926",
                                    "OrderDate": "2016-03-04",
                                    "EmployeeId": "4"
                                },
                                {
                                    "CustomerId": "3",
                                    "OrderId": "10856",
                                    "OrderDate": "2016-01-28",
                                    "EmployeeId": "3"
                                },
                                {
                                    "CustomerId": "4",
                                    "OrderId": "11016",
                                    "OrderDate": "2016-04-10",
                                    "EmployeeId": "9"
                                },
                                {
                                    "CustomerId": "5",
                                    "OrderId": "10924",
                                    "OrderDate": "2016-03-04",
                                    "EmployeeId": "3"
                                },
                                {
                                    "CustomerId": "6",
                                    "OrderId": "11058",
                                    "OrderDate": "2016-04-29",
                                    "EmployeeId": "9"
                                },
                                {
                                    "CustomerId": "7",
                                    "OrderId": "10826",
                                    "OrderDate": "2016-01-12",
                                    "EmployeeId": "6"
                                },
                                {
                                    "CustomerId": "8",
                                    "OrderId": "10970",
                                    "OrderDate": "2016-03-24",
                                    "EmployeeId": "9"
                                },
                                {
                                    "CustomerId": "9",
                                    "OrderId": "11076",
                                    "OrderDate": "2016-05-06",
                                    "EmployeeId": "4"
                                },
                                {
                                    "CustomerId": "10",
                                    "OrderId": "11048",
                                    "OrderDate": "2016-04-24",
                                    "EmployeeId": "7"
                                },
                                {
                                    "CustomerId": "11",
                                    "OrderId": "11023",
                                    "OrderDate": "2016-04-14",
                                    "EmployeeId": "1"
                                },
                                {
                                    "CustomerId": "12",
                                    "OrderId": "11054",
                                    "OrderDate": "2016-04-28",
                                    "EmployeeId": "8"
                                },
                                {
                                    "CustomerId": "13",
                                    "OrderId": "10259",
                                    "OrderDate": "2014-07-18",
                                    "EmployeeId": "4"
                                },
                                {
                                    "CustomerId": "14",
                                    "OrderId": "11041",
                                    "OrderDate": "2016-04-22",
                                    "EmployeeId": "3"
                                },
                                {
                                    "CustomerId": "15",
                                    "OrderId": "11042",
                                    "OrderDate": "2016-04-22",
                                    "EmployeeId": "2"
                                },
                                {
                                    "CustomerId": "16",
                                    "OrderId": "10848",
                                    "OrderDate": "2016-01-23",
                                    "EmployeeId": "7"
                                },
                                {
                                    "CustomerId": "17",
                                    "OrderId": "11067",
                                    "OrderDate": "2016-05-04",
                                    "EmployeeId": "1"
                                },
                                {
                                    "CustomerId": "18",
                                    "OrderId": "10890",
                                    "OrderDate": "2016-02-16",
                                    "EmployeeId": "7"
                                },
                                {
                                    "CustomerId": "19",
                                    "OrderId": "11056",
                                    "OrderDate": "2016-04-28",
                                    "EmployeeId": "8"
                                },
                                {
                                    "CustomerId": "20",
                                    "OrderId": "11072",
                                    "OrderDate": "2016-05-05",
                                    "EmployeeId": "4"
                                },
                                {
                                    "CustomerId": "21",
                                    "OrderId": "10725",
                                    "OrderDate": "2015-10-31",
                                    "EmployeeId": "4"
                                },
                                {
                                    "CustomerId": "23",
                                    "OrderId": "10789",
                                    "OrderDate": "2015-12-22",
                                    "EmployeeId": "1"
                                },
                                {
                                    "CustomerId": "24",
                                    "OrderId": "11050",
                                    "OrderDate": "2016-04-27",
                                    "EmployeeId": "8"
                                },
                                {
                                    "CustomerId": "25",
                                    "OrderId": "11012",
                                    "OrderDate": "2016-04-09",
                                    "EmployeeId": "1"
                                },
                                {
                                    "CustomerId": "26",
                                    "OrderId": "10971",
                                    "OrderDate": "2016-03-24",
                                    "EmployeeId": "2"
                                },
                                {
                                    "CustomerId": "27",
                                    "OrderId": "11060",
                                    "OrderDate": "2016-04-30",
                                    "EmployeeId": "2"
                                },
                                {
                                    "CustomerId": "28",
                                    "OrderId": "10963",
                                    "OrderDate": "2016-03-19",
                                    "EmployeeId": "9"
                                },
                                {
                                    "CustomerId": "29",
                                    "OrderId": "10928",
                                    "OrderDate": "2016-03-05",
                                    "EmployeeId": "1"
                                },
                                {
                                    "CustomerId": "30",
                                    "OrderId": "11037",
                                    "OrderDate": "2016-04-21",
                                    "EmployeeId": "7"
                                },
                                {
                                    "CustomerId": "31",
                                    "OrderId": "11049",
                                    "OrderDate": "2016-04-24",
                                    "EmployeeId": "3"
                                },
                                {
                                    "CustomerId": "32",
                                    "OrderId": "11061",
                                    "OrderDate": "2016-04-30",
                                    "EmployeeId": "4"
                                },
                                {
                                    "CustomerId": "33",
                                    "OrderId": "10785",
                                    "OrderDate": "2015-12-18",
                                    "EmployeeId": "1"
                                },
                                {
                                    "CustomerId": "34",
                                    "OrderId": "11052",
                                    "OrderDate": "2016-04-27",
                                    "EmployeeId": "3"
                                },
                                {
                                    "CustomerId": "35",
                                    "OrderId": "11055",
                                    "OrderDate": "2016-04-28",
                                    "EmployeeId": "7"
                                },
                                {
                                    "CustomerId": "36",
                                    "OrderId": "10660",
                                    "OrderDate": "2015-09-08",
                                    "EmployeeId": "8"
                                },
                                {
                                    "CustomerId": "37",
                                    "OrderId": "11063",
                                    "OrderDate": "2016-04-30",
                                    "EmployeeId": "3"
                                },
                                {
                                    "CustomerId": "38",
                                    "OrderId": "10933",
                                    "OrderDate": "2016-03-06",
                                    "EmployeeId": "6"
                                },
                                {
                                    "CustomerId": "39",
                                    "OrderId": "11028",
                                    "OrderDate": "2016-04-16",
                                    "EmployeeId": "2"
                                },
                                {
                                    "CustomerId": "40",
                                    "OrderId": "10973",
                                    "OrderDate": "2016-03-24",
                                    "EmployeeId": "6"
                                },
                                {
                                    "CustomerId": "41",
                                    "OrderId": "11051",
                                    "OrderDate": "2016-04-27",
                                    "EmployeeId": "7"
                                },
                                {
                                    "CustomerId": "42",
                                    "OrderId": "10810",
                                    "OrderDate": "2016-01-01",
                                    "EmployeeId": "2"
                                },
                                {
                                    "CustomerId": "43",
                                    "OrderId": "10545",
                                    "OrderDate": "2015-05-22",
                                    "EmployeeId": "8"
                                },
                                {
                                    "CustomerId": "44",
                                    "OrderId": "11070",
                                    "OrderDate": "2016-05-05",
                                    "EmployeeId": "2"
                                },
                                {
                                    "CustomerId": "45",
                                    "OrderId": "10884",
                                    "OrderDate": "2016-02-12",
                                    "EmployeeId": "4"
                                },
                                {
                                    "CustomerId": "46",
                                    "OrderId": "11071",
                                    "OrderDate": "2016-05-05",
                                    "EmployeeId": "1"
                                },
                                {
                                    "CustomerId": "47",
                                    "OrderId": "11039",
                                    "OrderDate": "2016-04-21",
                                    "EmployeeId": "1"
                                },
                                {
                                    "CustomerId": "48",
                                    "OrderId": "11018",
                                    "OrderDate": "2016-04-13",
                                    "EmployeeId": "4"
                                },
                                {
                                    "CustomerId": "49",
                                    "OrderId": "10950",
                                    "OrderDate": "2016-03-16",
                                    "EmployeeId": "1"
                                },
                                {
                                    "CustomerId": "50",
                                    "OrderId": "11004",
                                    "OrderDate": "2016-04-07",
                                    "EmployeeId": "3"
                                },
                                {
                                    "CustomerId": "51",
                                    "OrderId": "10724",
                                    "OrderDate": "2015-10-30",
                                    "EmployeeId": "8"
                                },
                                {
                                    "CustomerId": "52",
                                    "OrderId": "10945",
                                    "OrderDate": "2016-03-12",
                                    "EmployeeId": "4"
                                },
                                {
                                    "CustomerId": "53",
                                    "OrderId": "11057",
                                    "OrderDate": "2016-04-29",
                                    "EmployeeId": "3"
                                },
                                {
                                    "CustomerId": "54",
                                    "OrderId": "10986",
                                    "OrderDate": "2016-03-30",
                                    "EmployeeId": "8"
                                },
                                {
                                    "CustomerId": "55",
                                    "OrderId": "11034",
                                    "OrderDate": "2016-04-20",
                                    "EmployeeId": "8"
                                },
                                {
                                    "CustomerId": "56",
                                    "OrderId": "11020",
                                    "OrderDate": "2016-04-14",
                                    "EmployeeId": "2"
                                },
                                {
                                    "CustomerId": "58",
                                    "OrderId": "11073",
                                    "OrderDate": "2016-05-05",
                                    "EmployeeId": "2"
                                },
                                {
                                    "CustomerId": "59",
                                    "OrderId": "11053",
                                    "OrderDate": "2016-04-27",
                                    "EmployeeId": "2"
                                },
                                {
                                    "CustomerId": "60",
                                    "OrderId": "11007",
                                    "OrderDate": "2016-04-08",
                                    "EmployeeId": "8"
                                },
                                {
                                    "CustomerId": "61",
                                    "OrderId": "10989",
                                    "OrderDate": "2016-03-31",
                                    "EmployeeId": "2"
                                },
                                {
                                    "CustomerId": "62",
                                    "OrderId": "11068",
                                    "OrderDate": "2016-05-04",
                                    "EmployeeId": "8"
                                },
                                {
                                    "CustomerId": "63",
                                    "OrderId": "11021",
                                    "OrderDate": "2016-04-14",
                                    "EmployeeId": "3"
                                },
                                {
                                    "CustomerId": "64",
                                    "OrderId": "11019",
                                    "OrderDate": "2016-04-13",
                                    "EmployeeId": "6"
                                },
                                {
                                    "CustomerId": "65",
                                    "OrderId": "11077",
                                    "OrderDate": "2016-05-06",
                                    "EmployeeId": "1"
                                },
                                {
                                    "CustomerId": "66",
                                    "OrderId": "11062",
                                    "OrderDate": "2016-04-30",
                                    "EmployeeId": "4"
                                },
                                {
                                    "CustomerId": "67",
                                    "OrderId": "11059",
                                    "OrderDate": "2016-04-29",
                                    "EmployeeId": "2"
                                },
                                {
                                    "CustomerId": "68",
                                    "OrderId": "11075",
                                    "OrderDate": "2016-05-06",
                                    "EmployeeId": "8"
                                },
                                {
                                    "CustomerId": "69",
                                    "OrderId": "11013",
                                    "OrderDate": "2016-04-09",
                                    "EmployeeId": "2"
                                },
                                {
                                    "CustomerId": "70",
                                    "OrderId": "11015",
                                    "OrderDate": "2016-04-10",
                                    "EmployeeId": "2"
                                },
                                {
                                    "CustomerId": "71",
                                    "OrderId": "11064",
                                    "OrderDate": "2016-05-01",
                                    "EmployeeId": "1"
                                },
                                {
                                    "CustomerId": "72",
                                    "OrderId": "10869",
                                    "OrderDate": "2016-02-04",
                                    "EmployeeId": "5"
                                },
                                {
                                    "CustomerId": "73",
                                    "OrderId": "11074",
                                    "OrderDate": "2016-05-06",
                                    "EmployeeId": "7"
                                },
                                {
                                    "CustomerId": "74",
                                    "OrderId": "11043",
                                    "OrderDate": "2016-04-22",
                                    "EmployeeId": "5"
                                },
                                {
                                    "CustomerId": "75",
                                    "OrderId": "10974",
                                    "OrderDate": "2016-03-25",
                                    "EmployeeId": "3"
                                },
                                {
                                    "CustomerId": "76",
                                    "OrderId": "11038",
                                    "OrderDate": "2016-04-21",
                                    "EmployeeId": "1"
                                },
                                {
                                    "CustomerId": "77",
                                    "OrderId": "10992",
                                    "OrderDate": "2016-04-01",
                                    "EmployeeId": "1"
                                },
                                {
                                    "CustomerId": "78",
                                    "OrderId": "11003",
                                    "OrderDate": "2016-04-06",
                                    "EmployeeId": "3"
                                },
                                {
                                    "CustomerId": "79",
                                    "OrderId": "10967",
                                    "OrderDate": "2016-03-23",
                                    "EmployeeId": "2"
                                },
                                {
                                    "CustomerId": "80",
                                    "OrderId": "11069",
                                    "OrderDate": "2016-05-04",
                                    "EmployeeId": "1"
                                },
                                {
                                    "CustomerId": "81",
                                    "OrderId": "10839",
                                    "OrderDate": "2016-01-19",
                                    "EmployeeId": "3"
                                },
                                {
                                    "CustomerId": "82",
                                    "OrderId": "10822",
                                    "OrderDate": "2016-01-08",
                                    "EmployeeId": "6"
                                },
                                {
                                    "CustomerId": "83",
                                    "OrderId": "10994",
                                    "OrderDate": "2016-04-02",
                                    "EmployeeId": "2"
                                },
                                {
                                    "CustomerId": "84",
                                    "OrderId": "10850",
                                    "OrderDate": "2016-01-23",
                                    "EmployeeId": "1"
                                },
                                {
                                    "CustomerId": "85",
                                    "OrderId": "10739",
                                    "OrderDate": "2015-11-12",
                                    "EmployeeId": "3"
                                },
                                {
                                    "CustomerId": "86",
                                    "OrderId": "11046",
                                    "OrderDate": "2016-04-23",
                                    "EmployeeId": "8"
                                },
                                {
                                    "CustomerId": "87",
                                    "OrderId": "11025",
                                    "OrderDate": "2016-04-15",
                                    "EmployeeId": "6"
                                },
                                {
                                    "CustomerId": "88",
                                    "OrderId": "10935",
                                    "OrderDate": "2016-03-09",
                                    "EmployeeId": "4"
                                },
                                {
                                    "CustomerId": "89",
                                    "OrderId": "11066",
                                    "OrderDate": "2016-05-01",
                                    "EmployeeId": "7"
                                },
                                {
                                    "CustomerId": "90",
                                    "OrderId": "11005",
                                    "OrderDate": "2016-04-07",
                                    "EmployeeId": "2"
                                },
                                {
                                    "CustomerId": "91",
                                    "OrderId": "11044",
                                    "OrderDate": "2016-04-23",
                                    "EmployeeId": "4"
                                }
                            ]
                        },
                        "text/html": [
                            "<table>",
                            "<tr><th>CustomerId</th><th>OrderId</th><th>OrderDate</th><th>EmployeeId</th></tr>",
                            "<tr><td>1</td><td>11011</td><td>2016-04-09</td><td>3</td></tr>",
                            "<tr><td>2</td><td>10926</td><td>2016-03-04</td><td>4</td></tr>",
                            "<tr><td>3</td><td>10856</td><td>2016-01-28</td><td>3</td></tr>",
                            "<tr><td>4</td><td>11016</td><td>2016-04-10</td><td>9</td></tr>",
                            "<tr><td>5</td><td>10924</td><td>2016-03-04</td><td>3</td></tr>",
                            "<tr><td>6</td><td>11058</td><td>2016-04-29</td><td>9</td></tr>",
                            "<tr><td>7</td><td>10826</td><td>2016-01-12</td><td>6</td></tr>",
                            "<tr><td>8</td><td>10970</td><td>2016-03-24</td><td>9</td></tr>",
                            "<tr><td>9</td><td>11076</td><td>2016-05-06</td><td>4</td></tr>",
                            "<tr><td>10</td><td>11048</td><td>2016-04-24</td><td>7</td></tr>",
                            "<tr><td>11</td><td>11023</td><td>2016-04-14</td><td>1</td></tr>",
                            "<tr><td>12</td><td>11054</td><td>2016-04-28</td><td>8</td></tr>",
                            "<tr><td>13</td><td>10259</td><td>2014-07-18</td><td>4</td></tr>",
                            "<tr><td>14</td><td>11041</td><td>2016-04-22</td><td>3</td></tr>",
                            "<tr><td>15</td><td>11042</td><td>2016-04-22</td><td>2</td></tr>",
                            "<tr><td>16</td><td>10848</td><td>2016-01-23</td><td>7</td></tr>",
                            "<tr><td>17</td><td>11067</td><td>2016-05-04</td><td>1</td></tr>",
                            "<tr><td>18</td><td>10890</td><td>2016-02-16</td><td>7</td></tr>",
                            "<tr><td>19</td><td>11056</td><td>2016-04-28</td><td>8</td></tr>",
                            "<tr><td>20</td><td>11072</td><td>2016-05-05</td><td>4</td></tr>",
                            "<tr><td>21</td><td>10725</td><td>2015-10-31</td><td>4</td></tr>",
                            "<tr><td>23</td><td>10789</td><td>2015-12-22</td><td>1</td></tr>",
                            "<tr><td>24</td><td>11050</td><td>2016-04-27</td><td>8</td></tr>",
                            "<tr><td>25</td><td>11012</td><td>2016-04-09</td><td>1</td></tr>",
                            "<tr><td>26</td><td>10971</td><td>2016-03-24</td><td>2</td></tr>",
                            "<tr><td>27</td><td>11060</td><td>2016-04-30</td><td>2</td></tr>",
                            "<tr><td>28</td><td>10963</td><td>2016-03-19</td><td>9</td></tr>",
                            "<tr><td>29</td><td>10928</td><td>2016-03-05</td><td>1</td></tr>",
                            "<tr><td>30</td><td>11037</td><td>2016-04-21</td><td>7</td></tr>",
                            "<tr><td>31</td><td>11049</td><td>2016-04-24</td><td>3</td></tr>",
                            "<tr><td>32</td><td>11061</td><td>2016-04-30</td><td>4</td></tr>",
                            "<tr><td>33</td><td>10785</td><td>2015-12-18</td><td>1</td></tr>",
                            "<tr><td>34</td><td>11052</td><td>2016-04-27</td><td>3</td></tr>",
                            "<tr><td>35</td><td>11055</td><td>2016-04-28</td><td>7</td></tr>",
                            "<tr><td>36</td><td>10660</td><td>2015-09-08</td><td>8</td></tr>",
                            "<tr><td>37</td><td>11063</td><td>2016-04-30</td><td>3</td></tr>",
                            "<tr><td>38</td><td>10933</td><td>2016-03-06</td><td>6</td></tr>",
                            "<tr><td>39</td><td>11028</td><td>2016-04-16</td><td>2</td></tr>",
                            "<tr><td>40</td><td>10973</td><td>2016-03-24</td><td>6</td></tr>",
                            "<tr><td>41</td><td>11051</td><td>2016-04-27</td><td>7</td></tr>",
                            "<tr><td>42</td><td>10810</td><td>2016-01-01</td><td>2</td></tr>",
                            "<tr><td>43</td><td>10545</td><td>2015-05-22</td><td>8</td></tr>",
                            "<tr><td>44</td><td>11070</td><td>2016-05-05</td><td>2</td></tr>",
                            "<tr><td>45</td><td>10884</td><td>2016-02-12</td><td>4</td></tr>",
                            "<tr><td>46</td><td>11071</td><td>2016-05-05</td><td>1</td></tr>",
                            "<tr><td>47</td><td>11039</td><td>2016-04-21</td><td>1</td></tr>",
                            "<tr><td>48</td><td>11018</td><td>2016-04-13</td><td>4</td></tr>",
                            "<tr><td>49</td><td>10950</td><td>2016-03-16</td><td>1</td></tr>",
                            "<tr><td>50</td><td>11004</td><td>2016-04-07</td><td>3</td></tr>",
                            "<tr><td>51</td><td>10724</td><td>2015-10-30</td><td>8</td></tr>",
                            "<tr><td>52</td><td>10945</td><td>2016-03-12</td><td>4</td></tr>",
                            "<tr><td>53</td><td>11057</td><td>2016-04-29</td><td>3</td></tr>",
                            "<tr><td>54</td><td>10986</td><td>2016-03-30</td><td>8</td></tr>",
                            "<tr><td>55</td><td>11034</td><td>2016-04-20</td><td>8</td></tr>",
                            "<tr><td>56</td><td>11020</td><td>2016-04-14</td><td>2</td></tr>",
                            "<tr><td>58</td><td>11073</td><td>2016-05-05</td><td>2</td></tr>",
                            "<tr><td>59</td><td>11053</td><td>2016-04-27</td><td>2</td></tr>",
                            "<tr><td>60</td><td>11007</td><td>2016-04-08</td><td>8</td></tr>",
                            "<tr><td>61</td><td>10989</td><td>2016-03-31</td><td>2</td></tr>",
                            "<tr><td>62</td><td>11068</td><td>2016-05-04</td><td>8</td></tr>",
                            "<tr><td>63</td><td>11021</td><td>2016-04-14</td><td>3</td></tr>",
                            "<tr><td>64</td><td>11019</td><td>2016-04-13</td><td>6</td></tr>",
                            "<tr><td>65</td><td>11077</td><td>2016-05-06</td><td>1</td></tr>",
                            "<tr><td>66</td><td>11062</td><td>2016-04-30</td><td>4</td></tr>",
                            "<tr><td>67</td><td>11059</td><td>2016-04-29</td><td>2</td></tr>",
                            "<tr><td>68</td><td>11075</td><td>2016-05-06</td><td>8</td></tr>",
                            "<tr><td>69</td><td>11013</td><td>2016-04-09</td><td>2</td></tr>",
                            "<tr><td>70</td><td>11015</td><td>2016-04-10</td><td>2</td></tr>",
                            "<tr><td>71</td><td>11064</td><td>2016-05-01</td><td>1</td></tr>",
                            "<tr><td>72</td><td>10869</td><td>2016-02-04</td><td>5</td></tr>",
                            "<tr><td>73</td><td>11074</td><td>2016-05-06</td><td>7</td></tr>",
                            "<tr><td>74</td><td>11043</td><td>2016-04-22</td><td>5</td></tr>",
                            "<tr><td>75</td><td>10974</td><td>2016-03-25</td><td>3</td></tr>",
                            "<tr><td>76</td><td>11038</td><td>2016-04-21</td><td>1</td></tr>",
                            "<tr><td>77</td><td>10992</td><td>2016-04-01</td><td>1</td></tr>",
                            "<tr><td>78</td><td>11003</td><td>2016-04-06</td><td>3</td></tr>",
                            "<tr><td>79</td><td>10967</td><td>2016-03-23</td><td>2</td></tr>",
                            "<tr><td>80</td><td>11069</td><td>2016-05-04</td><td>1</td></tr>",
                            "<tr><td>81</td><td>10839</td><td>2016-01-19</td><td>3</td></tr>",
                            "<tr><td>82</td><td>10822</td><td>2016-01-08</td><td>6</td></tr>",
                            "<tr><td>83</td><td>10994</td><td>2016-04-02</td><td>2</td></tr>",
                            "<tr><td>84</td><td>10850</td><td>2016-01-23</td><td>1</td></tr>",
                            "<tr><td>85</td><td>10739</td><td>2015-11-12</td><td>3</td></tr>",
                            "<tr><td>86</td><td>11046</td><td>2016-04-23</td><td>8</td></tr>",
                            "<tr><td>87</td><td>11025</td><td>2016-04-15</td><td>6</td></tr>",
                            "<tr><td>88</td><td>10935</td><td>2016-03-09</td><td>4</td></tr>",
                            "<tr><td>89</td><td>11066</td><td>2016-05-01</td><td>7</td></tr>",
                            "<tr><td>90</td><td>11005</td><td>2016-04-07</td><td>2</td></tr>",
                            "<tr><td>91</td><td>11044</td><td>2016-04-23</td><td>4</td></tr>",
                            "</table>"
                        ]
                    }
                }
            ],
            "execution_count": 117
        },
        {
            "cell_type": "markdown",
            "source": [
                "\\-----------------------\n",
                "\n",
                "Correlated Subqueries\n",
                "\n",
                "\\-----------------------\n",
                "\n",
                "Proposition: Write a query that, for each order, returns the percentage of the total amount the customer has paid attributed to that specific order.\n",
                "\n",
                "First, I created the view which the query uses. I had to do this since I could find the view in TSQLV4 but not in Northwinds2022TSQLV7.\n",
                "\n",
                "This is a correlated subquery. Therefore the inner query also depends on attributes from the outer query. The inner query retains all of the rows from Sales.OrderValues which have the same CustomerId as the current outer query row we are working on and sums all of the cost values.  This result, which represents the customers total spending, is then used to divide the cost value of each individual row from the outer query.\n",
                "\n",
                "In this case"
            ],
            "metadata": {
                "language": "sql",
                "azdata_cell_guid": "1f2929de-d632-40a2-855c-532dad933d96"
            },
            "attachments": {}
        },
        {
            "cell_type": "code",
            "source": [
                "USE Northwinds2022TSQLV7;\n",
                "GO\n",
                "\n",
                "CREATE VIEW Sales.OrderValues\n",
                "WITH SCHEMABINDING\n",
                "AS\n",
                "SELECT O.OrderId, O.CustomerId, O.EmployeeId, O.ShipperId, O.OrderDate, O.RequiredDate, O.ShipToDate,  SUM(OD.Quantity) AS qty, CAST(SUM(OD.Quantity * OD.UnitPrice * (1 - OD.DiscountPercentage))\n",
                "AS NUMERIC(12, 2)) AS val\n",
                "FROM Sales.[Order] AS O\n",
                "  JOIN Sales.[OrderDetail] AS OD\n",
                "      ON O.OrderId = OD.OrderId\n",
                "GROUP BY O.OrderId, O.CustomerId, O.EmployeeId, O.ShipperId, O.OrderDate, O.RequiredDate, O.ShipToDate;\n",
                "GO\n",
                "\n",
                "SELECT OrderId, CustomerId, val,\n",
                "  CAST(100. * val / (SELECT SUM(O2.val)\n",
                "                     FROM Sales.OrderValues AS O2\n",
                "                     WHERE O2.CustomerId = O1.CustomerId)\n",
                "       AS NUMERIC(5,2)) AS pct\n",
                "FROM Sales.OrderValues AS O1\n",
                "ORDER BY CustomerId, OrderId;"
            ],
            "metadata": {
                "language": "sql",
                "azdata_cell_guid": "971497f2-5593-4ec7-a207-6a2645668092"
            },
            "outputs": [
                {
                    "output_type": "display_data",
                    "data": {
                        "text/html": "Commands completed successfully."
                    },
                    "metadata": {}
                },
                {
                    "output_type": "error",
                    "evalue": "Msg 2714, Level 16, State 3, Procedure OrderValues, Line 2\nThere is already an object named 'OrderValues' in the database.",
                    "ename": "",
                    "traceback": []
                },
                {
                    "output_type": "display_data",
                    "data": {
                        "text/html": "(830 rows affected)"
                    },
                    "metadata": {}
                },
                {
                    "output_type": "display_data",
                    "data": {
                        "text/html": "Total execution time: 00:00:00.036"
                    },
                    "metadata": {}
                },
                {
                    "output_type": "execute_result",
                    "metadata": {},
                    "execution_count": 118,
                    "data": {
                        "application/vnd.dataresource+json": {
                            "schema": {
                                "fields": [
                                    {
                                        "name": "OrderId"
                                    },
                                    {
                                        "name": "CustomerId"
                                    },
                                    {
                                        "name": "val"
                                    },
                                    {
                                        "name": "pct"
                                    }
                                ]
                            },
                            "data": [
                                {
                                    "OrderId": "10643",
                                    "CustomerId": "1",
                                    "val": "814.50",
                                    "pct": "19.06"
                                },
                                {
                                    "OrderId": "10692",
                                    "CustomerId": "1",
                                    "val": "878.00",
                                    "pct": "20.55"
                                },
                                {
                                    "OrderId": "10702",
                                    "CustomerId": "1",
                                    "val": "330.00",
                                    "pct": "7.72"
                                },
                                {
                                    "OrderId": "10835",
                                    "CustomerId": "1",
                                    "val": "845.80",
                                    "pct": "19.79"
                                },
                                {
                                    "OrderId": "10952",
                                    "CustomerId": "1",
                                    "val": "471.20",
                                    "pct": "11.03"
                                },
                                {
                                    "OrderId": "11011",
                                    "CustomerId": "1",
                                    "val": "933.50",
                                    "pct": "21.85"
                                },
                                {
                                    "OrderId": "10308",
                                    "CustomerId": "2",
                                    "val": "88.80",
                                    "pct": "6.33"
                                },
                                {
                                    "OrderId": "10625",
                                    "CustomerId": "2",
                                    "val": "479.75",
                                    "pct": "34.20"
                                },
                                {
                                    "OrderId": "10759",
                                    "CustomerId": "2",
                                    "val": "320.00",
                                    "pct": "22.81"
                                },
                                {
                                    "OrderId": "10926",
                                    "CustomerId": "2",
                                    "val": "514.40",
                                    "pct": "36.67"
                                },
                                {
                                    "OrderId": "10365",
                                    "CustomerId": "3",
                                    "val": "403.20",
                                    "pct": "5.74"
                                },
                                {
                                    "OrderId": "10507",
                                    "CustomerId": "3",
                                    "val": "749.06",
                                    "pct": "10.66"
                                },
                                {
                                    "OrderId": "10535",
                                    "CustomerId": "3",
                                    "val": "1940.85",
                                    "pct": "27.63"
                                },
                                {
                                    "OrderId": "10573",
                                    "CustomerId": "3",
                                    "val": "2082.00",
                                    "pct": "29.64"
                                },
                                {
                                    "OrderId": "10677",
                                    "CustomerId": "3",
                                    "val": "813.37",
                                    "pct": "11.58"
                                },
                                {
                                    "OrderId": "10682",
                                    "CustomerId": "3",
                                    "val": "375.50",
                                    "pct": "5.35"
                                },
                                {
                                    "OrderId": "10856",
                                    "CustomerId": "3",
                                    "val": "660.00",
                                    "pct": "9.40"
                                },
                                {
                                    "OrderId": "10355",
                                    "CustomerId": "4",
                                    "val": "480.00",
                                    "pct": "3.58"
                                },
                                {
                                    "OrderId": "10383",
                                    "CustomerId": "4",
                                    "val": "899.00",
                                    "pct": "6.71"
                                },
                                {
                                    "OrderId": "10453",
                                    "CustomerId": "4",
                                    "val": "407.70",
                                    "pct": "3.04"
                                },
                                {
                                    "OrderId": "10558",
                                    "CustomerId": "4",
                                    "val": "2142.90",
                                    "pct": "16.00"
                                },
                                {
                                    "OrderId": "10707",
                                    "CustomerId": "4",
                                    "val": "1641.00",
                                    "pct": "12.25"
                                },
                                {
                                    "OrderId": "10741",
                                    "CustomerId": "4",
                                    "val": "228.00",
                                    "pct": "1.70"
                                },
                                {
                                    "OrderId": "10743",
                                    "CustomerId": "4",
                                    "val": "319.20",
                                    "pct": "2.38"
                                },
                                {
                                    "OrderId": "10768",
                                    "CustomerId": "4",
                                    "val": "1477.00",
                                    "pct": "11.03"
                                },
                                {
                                    "OrderId": "10793",
                                    "CustomerId": "4",
                                    "val": "191.10",
                                    "pct": "1.43"
                                },
                                {
                                    "OrderId": "10864",
                                    "CustomerId": "4",
                                    "val": "282.00",
                                    "pct": "2.11"
                                },
                                {
                                    "OrderId": "10920",
                                    "CustomerId": "4",
                                    "val": "390.00",
                                    "pct": "2.91"
                                },
                                {
                                    "OrderId": "10953",
                                    "CustomerId": "4",
                                    "val": "4441.25",
                                    "pct": "33.17"
                                },
                                {
                                    "OrderId": "11016",
                                    "CustomerId": "4",
                                    "val": "491.50",
                                    "pct": "3.67"
                                },
                                {
                                    "OrderId": "10278",
                                    "CustomerId": "5",
                                    "val": "1488.80",
                                    "pct": "5.97"
                                },
                                {
                                    "OrderId": "10280",
                                    "CustomerId": "5",
                                    "val": "613.20",
                                    "pct": "2.46"
                                },
                                {
                                    "OrderId": "10384",
                                    "CustomerId": "5",
                                    "val": "2222.40",
                                    "pct": "8.92"
                                },
                                {
                                    "OrderId": "10444",
                                    "CustomerId": "5",
                                    "val": "1031.70",
                                    "pct": "4.14"
                                },
                                {
                                    "OrderId": "10445",
                                    "CustomerId": "5",
                                    "val": "174.90",
                                    "pct": "0.70"
                                },
                                {
                                    "OrderId": "10524",
                                    "CustomerId": "5",
                                    "val": "3192.65",
                                    "pct": "12.81"
                                },
                                {
                                    "OrderId": "10572",
                                    "CustomerId": "5",
                                    "val": "1501.09",
                                    "pct": "6.02"
                                },
                                {
                                    "OrderId": "10626",
                                    "CustomerId": "5",
                                    "val": "1503.60",
                                    "pct": "6.03"
                                },
                                {
                                    "OrderId": "10654",
                                    "CustomerId": "5",
                                    "val": "601.83",
                                    "pct": "2.41"
                                },
                                {
                                    "OrderId": "10672",
                                    "CustomerId": "5",
                                    "val": "3815.25",
                                    "pct": "15.31"
                                },
                                {
                                    "OrderId": "10689",
                                    "CustomerId": "5",
                                    "val": "472.50",
                                    "pct": "1.90"
                                },
                                {
                                    "OrderId": "10733",
                                    "CustomerId": "5",
                                    "val": "1459.00",
                                    "pct": "5.85"
                                },
                                {
                                    "OrderId": "10778",
                                    "CustomerId": "5",
                                    "val": "96.50",
                                    "pct": "0.39"
                                },
                                {
                                    "OrderId": "10837",
                                    "CustomerId": "5",
                                    "val": "1064.50",
                                    "pct": "4.27"
                                },
                                {
                                    "OrderId": "10857",
                                    "CustomerId": "5",
                                    "val": "2048.21",
                                    "pct": "8.22"
                                },
                                {
                                    "OrderId": "10866",
                                    "CustomerId": "5",
                                    "val": "1096.20",
                                    "pct": "4.40"
                                },
                                {
                                    "OrderId": "10875",
                                    "CustomerId": "5",
                                    "val": "709.55",
                                    "pct": "2.85"
                                },
                                {
                                    "OrderId": "10924",
                                    "CustomerId": "5",
                                    "val": "1835.70",
                                    "pct": "7.36"
                                },
                                {
                                    "OrderId": "10501",
                                    "CustomerId": "6",
                                    "val": "149.00",
                                    "pct": "4.60"
                                },
                                {
                                    "OrderId": "10509",
                                    "CustomerId": "6",
                                    "val": "136.80",
                                    "pct": "4.22"
                                },
                                {
                                    "OrderId": "10582",
                                    "CustomerId": "6",
                                    "val": "330.00",
                                    "pct": "10.19"
                                },
                                {
                                    "OrderId": "10614",
                                    "CustomerId": "6",
                                    "val": "464.00",
                                    "pct": "14.32"
                                },
                                {
                                    "OrderId": "10853",
                                    "CustomerId": "6",
                                    "val": "625.00",
                                    "pct": "19.29"
                                },
                                {
                                    "OrderId": "10956",
                                    "CustomerId": "6",
                                    "val": "677.00",
                                    "pct": "20.90"
                                },
                                {
                                    "OrderId": "11058",
                                    "CustomerId": "6",
                                    "val": "858.00",
                                    "pct": "26.48"
                                },
                                {
                                    "OrderId": "10265",
                                    "CustomerId": "7",
                                    "val": "1176.00",
                                    "pct": "6.35"
                                },
                                {
                                    "OrderId": "10297",
                                    "CustomerId": "7",
                                    "val": "1420.00",
                                    "pct": "7.66"
                                },
                                {
                                    "OrderId": "10360",
                                    "CustomerId": "7",
                                    "val": "7390.20",
                                    "pct": "39.87"
                                },
                                {
                                    "OrderId": "10436",
                                    "CustomerId": "7",
                                    "val": "1994.52",
                                    "pct": "10.76"
                                },
                                {
                                    "OrderId": "10449",
                                    "CustomerId": "7",
                                    "val": "1838.20",
                                    "pct": "9.92"
                                },
                                {
                                    "OrderId": "10559",
                                    "CustomerId": "7",
                                    "val": "520.41",
                                    "pct": "2.81"
                                },
                                {
                                    "OrderId": "10566",
                                    "CustomerId": "7",
                                    "val": "1761.00",
                                    "pct": "9.50"
                                },
                                {
                                    "OrderId": "10584",
                                    "CustomerId": "7",
                                    "val": "593.75",
                                    "pct": "3.20"
                                },
                                {
                                    "OrderId": "10628",
                                    "CustomerId": "7",
                                    "val": "450.00",
                                    "pct": "2.43"
                                },
                                {
                                    "OrderId": "10679",
                                    "CustomerId": "7",
                                    "val": "660.00",
                                    "pct": "3.56"
                                },
                                {
                                    "OrderId": "10826",
                                    "CustomerId": "7",
                                    "val": "730.00",
                                    "pct": "3.94"
                                },
                                {
                                    "OrderId": "10326",
                                    "CustomerId": "8",
                                    "val": "982.00",
                                    "pct": "23.20"
                                },
                                {
                                    "OrderId": "10801",
                                    "CustomerId": "8",
                                    "val": "3026.85",
                                    "pct": "71.51"
                                },
                                {
                                    "OrderId": "10970",
                                    "CustomerId": "8",
                                    "val": "224.00",
                                    "pct": "5.29"
                                },
                                {
                                    "OrderId": "10331",
                                    "CustomerId": "9",
                                    "val": "88.50",
                                    "pct": "0.40"
                                },
                                {
                                    "OrderId": "10340",
                                    "CustomerId": "9",
                                    "val": "2436.18",
                                    "pct": "11.09"
                                },
                                {
                                    "OrderId": "10362",
                                    "CustomerId": "9",
                                    "val": "1549.60",
                                    "pct": "7.06"
                                },
                                {
                                    "OrderId": "10470",
                                    "CustomerId": "9",
                                    "val": "1820.80",
                                    "pct": "8.29"
                                },
                                {
                                    "OrderId": "10511",
                                    "CustomerId": "9",
                                    "val": "2550.00",
                                    "pct": "11.61"
                                },
                                {
                                    "OrderId": "10525",
                                    "CustomerId": "9",
                                    "val": "818.40",
                                    "pct": "3.73"
                                },
                                {
                                    "OrderId": "10663",
                                    "CustomerId": "9",
                                    "val": "1930.40",
                                    "pct": "8.79"
                                },
                                {
                                    "OrderId": "10715",
                                    "CustomerId": "9",
                                    "val": "1296.00",
                                    "pct": "5.90"
                                },
                                {
                                    "OrderId": "10730",
                                    "CustomerId": "9",
                                    "val": "484.26",
                                    "pct": "2.20"
                                },
                                {
                                    "OrderId": "10732",
                                    "CustomerId": "9",
                                    "val": "360.00",
                                    "pct": "1.64"
                                },
                                {
                                    "OrderId": "10755",
                                    "CustomerId": "9",
                                    "val": "1948.50",
                                    "pct": "8.87"
                                },
                                {
                                    "OrderId": "10827",
                                    "CustomerId": "9",
                                    "val": "843.00",
                                    "pct": "3.84"
                                },
                                {
                                    "OrderId": "10871",
                                    "CustomerId": "9",
                                    "val": "1979.23",
                                    "pct": "9.01"
                                },
                                {
                                    "OrderId": "10876",
                                    "CustomerId": "9",
                                    "val": "917.00",
                                    "pct": "4.18"
                                },
                                {
                                    "OrderId": "10932",
                                    "CustomerId": "9",
                                    "val": "1788.63",
                                    "pct": "8.14"
                                },
                                {
                                    "OrderId": "10940",
                                    "CustomerId": "9",
                                    "val": "360.00",
                                    "pct": "1.64"
                                },
                                {
                                    "OrderId": "11076",
                                    "CustomerId": "9",
                                    "val": "792.75",
                                    "pct": "3.61"
                                },
                                {
                                    "OrderId": "10389",
                                    "CustomerId": "10",
                                    "val": "1832.80",
                                    "pct": "8.81"
                                },
                                {
                                    "OrderId": "10410",
                                    "CustomerId": "10",
                                    "val": "802.00",
                                    "pct": "3.86"
                                },
                                {
                                    "OrderId": "10411",
                                    "CustomerId": "10",
                                    "val": "966.80",
                                    "pct": "4.65"
                                },
                                {
                                    "OrderId": "10431",
                                    "CustomerId": "10",
                                    "val": "1892.25",
                                    "pct": "9.10"
                                },
                                {
                                    "OrderId": "10492",
                                    "CustomerId": "10",
                                    "val": "851.20",
                                    "pct": "4.09"
                                },
                                {
                                    "OrderId": "10742",
                                    "CustomerId": "10",
                                    "val": "3118.00",
                                    "pct": "14.99"
                                },
                                {
                                    "OrderId": "10918",
                                    "CustomerId": "10",
                                    "val": "1447.50",
                                    "pct": "6.96"
                                },
                                {
                                    "OrderId": "10944",
                                    "CustomerId": "10",
                                    "val": "1025.33",
                                    "pct": "4.93"
                                },
                                {
                                    "OrderId": "10949",
                                    "CustomerId": "10",
                                    "val": "4422.00",
                                    "pct": "21.26"
                                },
                                {
                                    "OrderId": "10975",
                                    "CustomerId": "10",
                                    "val": "717.50",
                                    "pct": "3.45"
                                },
                                {
                                    "OrderId": "10982",
                                    "CustomerId": "10",
                                    "val": "1014.00",
                                    "pct": "4.87"
                                },
                                {
                                    "OrderId": "11027",
                                    "CustomerId": "10",
                                    "val": "877.73",
                                    "pct": "4.22"
                                },
                                {
                                    "OrderId": "11045",
                                    "CustomerId": "10",
                                    "val": "1309.50",
                                    "pct": "6.30"
                                },
                                {
                                    "OrderId": "11048",
                                    "CustomerId": "10",
                                    "val": "525.00",
                                    "pct": "2.52"
                                },
                                {
                                    "OrderId": "10289",
                                    "CustomerId": "11",
                                    "val": "479.40",
                                    "pct": "7.87"
                                },
                                {
                                    "OrderId": "10471",
                                    "CustomerId": "11",
                                    "val": "1328.00",
                                    "pct": "21.81"
                                },
                                {
                                    "OrderId": "10484",
                                    "CustomerId": "11",
                                    "val": "386.20",
                                    "pct": "6.34"
                                },
                                {
                                    "OrderId": "10538",
                                    "CustomerId": "11",
                                    "val": "139.80",
                                    "pct": "2.30"
                                },
                                {
                                    "OrderId": "10539",
                                    "CustomerId": "11",
                                    "val": "355.50",
                                    "pct": "5.84"
                                },
                                {
                                    "OrderId": "10578",
                                    "CustomerId": "11",
                                    "val": "477.00",
                                    "pct": "7.83"
                                },
                                {
                                    "OrderId": "10599",
                                    "CustomerId": "11",
                                    "val": "493.00",
                                    "pct": "8.10"
                                },
                                {
                                    "OrderId": "10943",
                                    "CustomerId": "11",
                                    "val": "711.00",
                                    "pct": "11.68"
                                },
                                {
                                    "OrderId": "10947",
                                    "CustomerId": "11",
                                    "val": "220.00",
                                    "pct": "3.61"
                                },
                                {
                                    "OrderId": "11023",
                                    "CustomerId": "11",
                                    "val": "1500.00",
                                    "pct": "24.63"
                                },
                                {
                                    "OrderId": "10521",
                                    "CustomerId": "12",
                                    "val": "225.50",
                                    "pct": "12.43"
                                },
                                {
                                    "OrderId": "10782",
                                    "CustomerId": "12",
                                    "val": "12.50",
                                    "pct": "0.69"
                                },
                                {
                                    "OrderId": "10819",
                                    "CustomerId": "12",
                                    "val": "477.00",
                                    "pct": "26.28"
                                },
                                {
                                    "OrderId": "10881",
                                    "CustomerId": "12",
                                    "val": "150.00",
                                    "pct": "8.27"
                                },
                                {
                                    "OrderId": "10937",
                                    "CustomerId": "12",
                                    "val": "644.80",
                                    "pct": "35.53"
                                },
                                {
                                    "OrderId": "11054",
                                    "CustomerId": "12",
                                    "val": "305.00",
                                    "pct": "16.81"
                                },
                                {
                                    "OrderId": "10259",
                                    "CustomerId": "13",
                                    "val": "100.80",
                                    "pct": "100.00"
                                },
                                {
                                    "OrderId": "10254",
                                    "CustomerId": "14",
                                    "val": "556.62",
                                    "pct": "4.51"
                                },
                                {
                                    "OrderId": "10370",
                                    "CustomerId": "14",
                                    "val": "1117.60",
                                    "pct": "9.05"
                                },
                                {
                                    "OrderId": "10519",
                                    "CustomerId": "14",
                                    "val": "2314.20",
                                    "pct": "18.74"
                                },
                                {
                                    "OrderId": "10731",
                                    "CustomerId": "14",
                                    "val": "1890.50",
                                    "pct": "15.31"
                                },
                                {
                                    "OrderId": "10746",
                                    "CustomerId": "14",
                                    "val": "2311.70",
                                    "pct": "18.72"
                                },
                                {
                                    "OrderId": "10966",
                                    "CustomerId": "14",
                                    "val": "1098.46",
                                    "pct": "8.90"
                                },
                                {
                                    "OrderId": "11029",
                                    "CustomerId": "14",
                                    "val": "1286.80",
                                    "pct": "10.42"
                                },
                                {
                                    "OrderId": "11041",
                                    "CustomerId": "14",
                                    "val": "1773.00",
                                    "pct": "14.36"
                                },
                                {
                                    "OrderId": "10290",
                                    "CustomerId": "15",
                                    "val": "2169.00",
                                    "pct": "56.92"
                                },
                                {
                                    "OrderId": "10466",
                                    "CustomerId": "15",
                                    "val": "216.00",
                                    "pct": "5.67"
                                },
                                {
                                    "OrderId": "10494",
                                    "CustomerId": "15",
                                    "val": "912.00",
                                    "pct": "23.93"
                                },
                                {
                                    "OrderId": "10969",
                                    "CustomerId": "15",
                                    "val": "108.00",
                                    "pct": "2.83"
                                },
                                {
                                    "OrderId": "11042",
                                    "CustomerId": "15",
                                    "val": "405.75",
                                    "pct": "10.65"
                                },
                                {
                                    "OrderId": "10435",
                                    "CustomerId": "16",
                                    "val": "631.60",
                                    "pct": "36.74"
                                },
                                {
                                    "OrderId": "10462",
                                    "CustomerId": "16",
                                    "val": "156.00",
                                    "pct": "9.07"
                                },
                                {
                                    "OrderId": "10848",
                                    "CustomerId": "16",
                                    "val": "931.50",
                                    "pct": "54.19"
                                },
                                {
                                    "OrderId": "10363",
                                    "CustomerId": "17",
                                    "val": "447.20",
                                    "pct": "11.88"
                                },
                                {
                                    "OrderId": "10391",
                                    "CustomerId": "17",
                                    "val": "86.40",
                                    "pct": "2.30"
                                },
                                {
                                    "OrderId": "10797",
                                    "CustomerId": "17",
                                    "val": "420.00",
                                    "pct": "11.16"
                                },
                                {
                                    "OrderId": "10825",
                                    "CustomerId": "17",
                                    "val": "1030.76",
                                    "pct": "27.39"
                                },
                                {
                                    "OrderId": "11036",
                                    "CustomerId": "17",
                                    "val": "1692.00",
                                    "pct": "44.96"
                                },
                                {
                                    "OrderId": "11067",
                                    "CustomerId": "17",
                                    "val": "86.85",
                                    "pct": "2.31"
                                },
                                {
                                    "OrderId": "10311",
                                    "CustomerId": "18",
                                    "val": "268.80",
                                    "pct": "16.63"
                                },
                                {
                                    "OrderId": "10609",
                                    "CustomerId": "18",
                                    "val": "424.00",
                                    "pct": "26.24"
                                },
                                {
                                    "OrderId": "10683",
                                    "CustomerId": "18",
                                    "val": "63.00",
                                    "pct": "3.90"
                                },
                                {
                                    "OrderId": "10890",
                                    "CustomerId": "18",
                                    "val": "860.10",
                                    "pct": "53.23"
                                },
                                {
                                    "OrderId": "10364",
                                    "CustomerId": "19",
                                    "val": "950.00",
                                    "pct": "6.44"
                                },
                                {
                                    "OrderId": "10400",
                                    "CustomerId": "19",
                                    "val": "3063.00",
                                    "pct": "20.75"
                                },
                                {
                                    "OrderId": "10532",
                                    "CustomerId": "19",
                                    "val": "796.35",
                                    "pct": "5.39"
                                },
                                {
                                    "OrderId": "10726",
                                    "CustomerId": "19",
                                    "val": "655.00",
                                    "pct": "4.44"
                                },
                                {
                                    "OrderId": "10987",
                                    "CustomerId": "19",
                                    "val": "2772.00",
                                    "pct": "18.78"
                                },
                                {
                                    "OrderId": "11024",
                                    "CustomerId": "19",
                                    "val": "1966.81",
                                    "pct": "13.32"
                                },
                                {
                                    "OrderId": "11047",
                                    "CustomerId": "19",
                                    "val": "817.88",
                                    "pct": "5.54"
                                },
                                {
                                    "OrderId": "11056",
                                    "CustomerId": "19",
                                    "val": "3740.00",
                                    "pct": "25.34"
                                },
                                {
                                    "OrderId": "10258",
                                    "CustomerId": "20",
                                    "val": "1614.88",
                                    "pct": "1.54"
                                },
                                {
                                    "OrderId": "10263",
                                    "CustomerId": "20",
                                    "val": "1873.80",
                                    "pct": "1.79"
                                },
                                {
                                    "OrderId": "10351",
                                    "CustomerId": "20",
                                    "val": "5398.73",
                                    "pct": "5.15"
                                },
                                {
                                    "OrderId": "10368",
                                    "CustomerId": "20",
                                    "val": "1689.78",
                                    "pct": "1.61"
                                },
                                {
                                    "OrderId": "10382",
                                    "CustomerId": "20",
                                    "val": "2900.00",
                                    "pct": "2.77"
                                },
                                {
                                    "OrderId": "10390",
                                    "CustomerId": "20",
                                    "val": "2090.88",
                                    "pct": "1.99"
                                },
                                {
                                    "OrderId": "10402",
                                    "CustomerId": "20",
                                    "val": "2713.50",
                                    "pct": "2.59"
                                },
                                {
                                    "OrderId": "10403",
                                    "CustomerId": "20",
                                    "val": "855.02",
                                    "pct": "0.82"
                                },
                                {
                                    "OrderId": "10430",
                                    "CustomerId": "20",
                                    "val": "4899.20",
                                    "pct": "4.67"
                                },
                                {
                                    "OrderId": "10442",
                                    "CustomerId": "20",
                                    "val": "1792.00",
                                    "pct": "1.71"
                                },
                                {
                                    "OrderId": "10514",
                                    "CustomerId": "20",
                                    "val": "8623.45",
                                    "pct": "8.22"
                                },
                                {
                                    "OrderId": "10571",
                                    "CustomerId": "20",
                                    "val": "550.59",
                                    "pct": "0.52"
                                },
                                {
                                    "OrderId": "10595",
                                    "CustomerId": "20",
                                    "val": "4725.00",
                                    "pct": "4.51"
                                },
                                {
                                    "OrderId": "10633",
                                    "CustomerId": "20",
                                    "val": "5510.59",
                                    "pct": "5.25"
                                },
                                {
                                    "OrderId": "10667",
                                    "CustomerId": "20",
                                    "val": "1536.80",
                                    "pct": "1.47"
                                },
                                {
                                    "OrderId": "10698",
                                    "CustomerId": "20",
                                    "val": "3436.44",
                                    "pct": "3.28"
                                },
                                {
                                    "OrderId": "10764",
                                    "CustomerId": "20",
                                    "val": "2286.00",
                                    "pct": "2.18"
                                },
                                {
                                    "OrderId": "10771",
                                    "CustomerId": "20",
                                    "val": "344.00",
                                    "pct": "0.33"
                                },
                                {
                                    "OrderId": "10773",
                                    "CustomerId": "20",
                                    "val": "2030.40",
                                    "pct": "1.94"
                                },
                                {
                                    "OrderId": "10776",
                                    "CustomerId": "20",
                                    "val": "6635.28",
                                    "pct": "6.33"
                                },
                                {
                                    "OrderId": "10795",
                                    "CustomerId": "20",
                                    "val": "2158.00",
                                    "pct": "2.06"
                                },
                                {
                                    "OrderId": "10836",
                                    "CustomerId": "20",
                                    "val": "4705.50",
                                    "pct": "4.49"
                                },
                                {
                                    "OrderId": "10854",
                                    "CustomerId": "20",
                                    "val": "2966.50",
                                    "pct": "2.83"
                                },
                                {
                                    "OrderId": "10895",
                                    "CustomerId": "20",
                                    "val": "6379.40",
                                    "pct": "6.08"
                                },
                                {
                                    "OrderId": "10968",
                                    "CustomerId": "20",
                                    "val": "1408.00",
                                    "pct": "1.34"
                                },
                                {
                                    "OrderId": "10979",
                                    "CustomerId": "20",
                                    "val": "4813.50",
                                    "pct": "4.59"
                                },
                                {
                                    "OrderId": "10990",
                                    "CustomerId": "20",
                                    "val": "4288.85",
                                    "pct": "4.09"
                                },
                                {
                                    "OrderId": "11008",
                                    "CustomerId": "20",
                                    "val": "4680.90",
                                    "pct": "4.46"
                                },
                                {
                                    "OrderId": "11017",
                                    "CustomerId": "20",
                                    "val": "6750.00",
                                    "pct": "6.44"
                                },
                                {
                                    "OrderId": "11072",
                                    "CustomerId": "20",
                                    "val": "5218.00",
                                    "pct": "4.98"
                                },
                                {
                                    "OrderId": "10347",
                                    "CustomerId": "21",
                                    "val": "814.42",
                                    "pct": "19.83"
                                },
                                {
                                    "OrderId": "10386",
                                    "CustomerId": "21",
                                    "val": "166.00",
                                    "pct": "4.04"
                                },
                                {
                                    "OrderId": "10414",
                                    "CustomerId": "21",
                                    "val": "224.83",
                                    "pct": "5.47"
                                },
                                {
                                    "OrderId": "10512",
                                    "CustomerId": "21",
                                    "val": "525.30",
                                    "pct": "12.79"
                                },
                                {
                                    "OrderId": "10581",
                                    "CustomerId": "21",
                                    "val": "310.00",
                                    "pct": "7.55"
                                },
                                {
                                    "OrderId": "10650",
                                    "CustomerId": "21",
                                    "val": "1779.20",
                                    "pct": "43.32"
                                },
                                {
                                    "OrderId": "10725",
                                    "CustomerId": "21",
                                    "val": "287.80",
                                    "pct": "7.01"
                                },
                                {
                                    "OrderId": "10408",
                                    "CustomerId": "23",
                                    "val": "1622.40",
                                    "pct": "13.91"
                                },
                                {
                                    "OrderId": "10480",
                                    "CustomerId": "23",
                                    "val": "756.00",
                                    "pct": "6.48"
                                },
                                {
                                    "OrderId": "10634",
                                    "CustomerId": "23",
                                    "val": "4985.50",
                                    "pct": "42.73"
                                },
                                {
                                    "OrderId": "10763",
                                    "CustomerId": "23",
                                    "val": "616.00",
                                    "pct": "5.28"
                                },
                                {
                                    "OrderId": "10789",
                                    "CustomerId": "23",
                                    "val": "3687.00",
                                    "pct": "31.60"
                                },
                                {
                                    "OrderId": "10264",
                                    "CustomerId": "24",
                                    "val": "695.63",
                                    "pct": "2.35"
                                },
                                {
                                    "OrderId": "10327",
                                    "CustomerId": "24",
                                    "val": "1810.00",
                                    "pct": "6.12"
                                },
                                {
                                    "OrderId": "10378",
                                    "CustomerId": "24",
                                    "val": "103.20",
                                    "pct": "0.35"
                                },
                                {
                                    "OrderId": "10434",
                                    "CustomerId": "24",
                                    "val": "321.12",
                                    "pct": "1.09"
                                },
                                {
                                    "OrderId": "10460",
                                    "CustomerId": "24",
                                    "val": "176.10",
                                    "pct": "0.60"
                                },
                                {
                                    "OrderId": "10533",
                                    "CustomerId": "24",
                                    "val": "2222.20",
                                    "pct": "7.52"
                                },
                                {
                                    "OrderId": "10561",
                                    "CustomerId": "24",
                                    "val": "2844.50",
                                    "pct": "9.62"
                                },
                                {
                                    "OrderId": "10703",
                                    "CustomerId": "24",
                                    "val": "2545.00",
                                    "pct": "8.61"
                                },
                                {
                                    "OrderId": "10762",
                                    "CustomerId": "24",
                                    "val": "4337.00",
                                    "pct": "14.67"
                                },
                                {
                                    "OrderId": "10774",
                                    "CustomerId": "24",
                                    "val": "868.75",
                                    "pct": "2.94"
                                },
                                {
                                    "OrderId": "10824",
                                    "CustomerId": "24",
                                    "val": "250.80",
                                    "pct": "0.85"
                                },
                                {
                                    "OrderId": "10880",
                                    "CustomerId": "24",
                                    "val": "1500.00",
                                    "pct": "5.07"
                                },
                                {
                                    "OrderId": "10902",
                                    "CustomerId": "24",
                                    "val": "863.43",
                                    "pct": "2.92"
                                },
                                {
                                    "OrderId": "10955",
                                    "CustomerId": "24",
                                    "val": "74.40",
                                    "pct": "0.25"
                                },
                                {
                                    "OrderId": "10977",
                                    "CustomerId": "24",
                                    "val": "2233.00",
                                    "pct": "7.55"
                                },
                                {
                                    "OrderId": "10980",
                                    "CustomerId": "24",
                                    "val": "248.00",
                                    "pct": "0.84"
                                },
                                {
                                    "OrderId": "10993",
                                    "CustomerId": "24",
                                    "val": "4895.44",
                                    "pct": "16.56"
                                },
                                {
                                    "OrderId": "11001",
                                    "CustomerId": "24",
                                    "val": "2769.00",
                                    "pct": "9.36"
                                },
                                {
                                    "OrderId": "11050",
                                    "CustomerId": "24",
                                    "val": "810.00",
                                    "pct": "2.74"
                                },
                                {
                                    "OrderId": "10267",
                                    "CustomerId": "25",
                                    "val": "3536.60",
                                    "pct": "13.27"
                                },
                                {
                                    "OrderId": "10337",
                                    "CustomerId": "25",
                                    "val": "2467.00",
                                    "pct": "9.25"
                                },
                                {
                                    "OrderId": "10342",
                                    "CustomerId": "25",
                                    "val": "1840.64",
                                    "pct": "6.91"
                                },
                                {
                                    "OrderId": "10396",
                                    "CustomerId": "25",
                                    "val": "1903.80",
                                    "pct": "7.14"
                                },
                                {
                                    "OrderId": "10488",
                                    "CustomerId": "25",
                                    "val": "1512.00",
                                    "pct": "5.67"
                                },
                                {
                                    "OrderId": "10560",
                                    "CustomerId": "25",
                                    "val": "1072.43",
                                    "pct": "4.02"
                                },
                                {
                                    "OrderId": "10623",
                                    "CustomerId": "25",
                                    "val": "1336.95",
                                    "pct": "5.02"
                                },
                                {
                                    "OrderId": "10653",
                                    "CustomerId": "25",
                                    "val": "1083.15",
                                    "pct": "4.06"
                                },
                                {
                                    "OrderId": "10670",
                                    "CustomerId": "25",
                                    "val": "2301.75",
                                    "pct": "8.63"
                                },
                                {
                                    "OrderId": "10675",
                                    "CustomerId": "25",
                                    "val": "1423.00",
                                    "pct": "5.34"
                                },
                                {
                                    "OrderId": "10717",
                                    "CustomerId": "25",
                                    "val": "1270.75",
                                    "pct": "4.77"
                                },
                                {
                                    "OrderId": "10791",
                                    "CustomerId": "25",
                                    "val": "1829.76",
                                    "pct": "6.86"
                                },
                                {
                                    "OrderId": "10859",
                                    "CustomerId": "25",
                                    "val": "1078.69",
                                    "pct": "4.05"
                                },
                                {
                                    "OrderId": "10929",
                                    "CustomerId": "25",
                                    "val": "1174.75",
                                    "pct": "4.41"
                                },
                                {
                                    "OrderId": "11012",
                                    "CustomerId": "25",
                                    "val": "2825.30",
                                    "pct": "10.60"
                                },
                                {
                                    "OrderId": "10671",
                                    "CustomerId": "26",
                                    "val": "920.10",
                                    "pct": "29.01"
                                },
                                {
                                    "OrderId": "10860",
                                    "CustomerId": "26",
                                    "val": "519.00",
                                    "pct": "16.36"
                                },
                                {
                                    "OrderId": "10971",
                                    "CustomerId": "26",
                                    "val": "1733.06",
                                    "pct": "54.63"
                                },
                                {
                                    "OrderId": "10422",
                                    "CustomerId": "27",
                                    "val": "49.80",
                                    "pct": "3.22"
                                },
                                {
                                    "OrderId": "10710",
                                    "CustomerId": "27",
                                    "val": "93.50",
                                    "pct": "6.05"
                                },
                                {
                                    "OrderId": "10753",
                                    "CustomerId": "27",
                                    "val": "88.00",
                                    "pct": "5.69"
                                },
                                {
                                    "OrderId": "10807",
                                    "CustomerId": "27",
                                    "val": "18.40",
                                    "pct": "1.19"
                                },
                                {
                                    "OrderId": "11026",
                                    "CustomerId": "27",
                                    "val": "1030.00",
                                    "pct": "66.64"
                                },
                                {
                                    "OrderId": "11060",
                                    "CustomerId": "27",
                                    "val": "266.00",
                                    "pct": "17.21"
                                },
                                {
                                    "OrderId": "10328",
                                    "CustomerId": "28",
                                    "val": "1168.00",
                                    "pct": "18.17"
                                },
                                {
                                    "OrderId": "10352",
                                    "CustomerId": "28",
                                    "val": "136.30",
                                    "pct": "2.12"
                                },
                                {
                                    "OrderId": "10464",
                                    "CustomerId": "28",
                                    "val": "1609.28",
                                    "pct": "25.04"
                                },
                                {
                                    "OrderId": "10491",
                                    "CustomerId": "28",
                                    "val": "259.51",
                                    "pct": "4.04"
                                },
                                {
                                    "OrderId": "10551",
                                    "CustomerId": "28",
                                    "val": "1677.30",
                                    "pct": "26.10"
                                },
                                {
                                    "OrderId": "10604",
                                    "CustomerId": "28",
                                    "val": "230.85",
                                    "pct": "3.59"
                                },
                                {
                                    "OrderId": "10664",
                                    "CustomerId": "28",
                                    "val": "1288.39",
                                    "pct": "20.05"
                                },
                                {
                                    "OrderId": "10963",
                                    "CustomerId": "28",
                                    "val": "57.80",
                                    "pct": "0.90"
                                },
                                {
                                    "OrderId": "10366",
                                    "CustomerId": "29",
                                    "val": "136.00",
                                    "pct": "16.25"
                                },
                                {
                                    "OrderId": "10426",
                                    "CustomerId": "29",
                                    "val": "338.20",
                                    "pct": "40.42"
                                },
                                {
                                    "OrderId": "10568",
                                    "CustomerId": "29",
                                    "val": "155.00",
                                    "pct": "18.53"
                                },
                                {
                                    "OrderId": "10887",
                                    "CustomerId": "29",
                                    "val": "70.00",
                                    "pct": "8.37"
                                },
                                {
                                    "OrderId": "10928",
                                    "CustomerId": "29",
                                    "val": "137.50",
                                    "pct": "16.43"
                                },
                                {
                                    "OrderId": "10303",
                                    "CustomerId": "30",
                                    "val": "1117.80",
                                    "pct": "9.77"
                                },
                                {
                                    "OrderId": "10550",
                                    "CustomerId": "30",
                                    "val": "683.30",
                                    "pct": "5.97"
                                },
                                {
                                    "OrderId": "10629",
                                    "CustomerId": "30",
                                    "val": "2775.05",
                                    "pct": "24.24"
                                },
                                {
                                    "OrderId": "10872",
                                    "CustomerId": "30",
                                    "val": "2058.46",
                                    "pct": "17.98"
                                },
                                {
                                    "OrderId": "10874",
                                    "CustomerId": "30",
                                    "val": "310.00",
                                    "pct": "2.71"
                                },
                                {
                                    "OrderId": "10888",
                                    "CustomerId": "30",
                                    "val": "605.00",
                                    "pct": "5.29"
                                },
                                {
                                    "OrderId": "10911",
                                    "CustomerId": "30",
                                    "val": "858.00",
                                    "pct": "7.50"
                                },
                                {
                                    "OrderId": "10948",
                                    "CustomerId": "30",
                                    "val": "2362.25",
                                    "pct": "20.64"
                                },
                                {
                                    "OrderId": "11009",
                                    "CustomerId": "30",
                                    "val": "616.50",
                                    "pct": "5.39"
                                },
                                {
                                    "OrderId": "11037",
                                    "CustomerId": "30",
                                    "val": "60.00",
                                    "pct": "0.52"
                                },
                                {
                                    "OrderId": "10423",
                                    "CustomerId": "31",
                                    "val": "1020.00",
                                    "pct": "12.12"
                                },
                                {
                                    "OrderId": "10652",
                                    "CustomerId": "31",
                                    "val": "318.84",
                                    "pct": "3.79"
                                },
                                {
                                    "OrderId": "10685",
                                    "CustomerId": "31",
                                    "val": "801.10",
                                    "pct": "9.52"
                                },
                                {
                                    "OrderId": "10709",
                                    "CustomerId": "31",
                                    "val": "3424.00",
                                    "pct": "40.69"
                                },
                                {
                                    "OrderId": "10734",
                                    "CustomerId": "31",
                                    "val": "1498.35",
                                    "pct": "17.81"
                                },
                                {
                                    "OrderId": "10777",
                                    "CustomerId": "31",
                                    "val": "224.00",
                                    "pct": "2.66"
                                },
                                {
                                    "OrderId": "10790",
                                    "CustomerId": "31",
                                    "val": "722.50",
                                    "pct": "8.59"
                                },
                                {
                                    "OrderId": "10959",
                                    "CustomerId": "31",
                                    "val": "131.75",
                                    "pct": "1.57"
                                },
                                {
                                    "OrderId": "11049",
                                    "CustomerId": "31",
                                    "val": "273.60",
                                    "pct": "3.25"
                                },
                                {
                                    "OrderId": "10528",
                                    "CustomerId": "32",
                                    "val": "392.20",
                                    "pct": "2.12"
                                },
                                {
                                    "OrderId": "10589",
                                    "CustomerId": "32",
                                    "val": "72.00",
                                    "pct": "0.39"
                                },
                                {
                                    "OrderId": "10616",
                                    "CustomerId": "32",
                                    "val": "4807.00",
                                    "pct": "25.97"
                                },
                                {
                                    "OrderId": "10617",
                                    "CustomerId": "32",
                                    "val": "1402.50",
                                    "pct": "7.58"
                                },
                                {
                                    "OrderId": "10656",
                                    "CustomerId": "32",
                                    "val": "604.22",
                                    "pct": "3.26"
                                },
                                {
                                    "OrderId": "10681",
                                    "CustomerId": "32",
                                    "val": "1287.40",
                                    "pct": "6.96"
                                },
                                {
                                    "OrderId": "10816",
                                    "CustomerId": "32",
                                    "val": "8446.45",
                                    "pct": "45.64"
                                },
                                {
                                    "OrderId": "10936",
                                    "CustomerId": "32",
                                    "val": "456.00",
                                    "pct": "2.46"
                                },
                                {
                                    "OrderId": "11006",
                                    "CustomerId": "32",
                                    "val": "329.69",
                                    "pct": "1.78"
                                },
                                {
                                    "OrderId": "11040",
                                    "CustomerId": "32",
                                    "val": "200.00",
                                    "pct": "1.08"
                                },
                                {
                                    "OrderId": "11061",
                                    "CustomerId": "32",
                                    "val": "510.00",
                                    "pct": "2.76"
                                },
                                {
                                    "OrderId": "10268",
                                    "CustomerId": "33",
                                    "val": "1101.20",
                                    "pct": "73.97"
                                },
                                {
                                    "OrderId": "10785",
                                    "CustomerId": "33",
                                    "val": "387.50",
                                    "pct": "26.03"
                                },
                                {
                                    "OrderId": "10250",
                                    "CustomerId": "34",
                                    "val": "1552.60",
                                    "pct": "4.73"
                                },
                                {
                                    "OrderId": "10253",
                                    "CustomerId": "34",
                                    "val": "1444.80",
                                    "pct": "4.40"
                                },
                                {
                                    "OrderId": "10541",
                                    "CustomerId": "34",
                                    "val": "1946.52",
                                    "pct": "5.93"
                                },
                                {
                                    "OrderId": "10645",
                                    "CustomerId": "34",
                                    "val": "1535.00",
                                    "pct": "4.67"
                                },
                                {
                                    "OrderId": "10690",
                                    "CustomerId": "34",
                                    "val": "862.50",
                                    "pct": "2.63"
                                },
                                {
                                    "OrderId": "10770",
                                    "CustomerId": "34",
                                    "val": "236.25",
                                    "pct": "0.72"
                                },
                                {
                                    "OrderId": "10783",
                                    "CustomerId": "34",
                                    "val": "1442.50",
                                    "pct": "4.39"
                                },
                                {
                                    "OrderId": "10886",
                                    "CustomerId": "34",
                                    "val": "3127.50",
                                    "pct": "9.52"
                                },
                                {
                                    "OrderId": "10903",
                                    "CustomerId": "34",
                                    "val": "932.05",
                                    "pct": "2.84"
                                },
                                {
                                    "OrderId": "10922",
                                    "CustomerId": "34",
                                    "val": "742.50",
                                    "pct": "2.26"
                                },
                                {
                                    "OrderId": "10925",
                                    "CustomerId": "34",
                                    "val": "475.15",
                                    "pct": "1.45"
                                },
                                {
                                    "OrderId": "10981",
                                    "CustomerId": "34",
                                    "val": "15810.00",
                                    "pct": "48.14"
                                },
                                {
                                    "OrderId": "11022",
                                    "CustomerId": "34",
                                    "val": "1402.00",
                                    "pct": "4.27"
                                },
                                {
                                    "OrderId": "11052",
                                    "CustomerId": "34",
                                    "val": "1332.00",
                                    "pct": "4.06"
                                },
                                {
                                    "OrderId": "10257",
                                    "CustomerId": "35",
                                    "val": "1119.90",
                                    "pct": "4.92"
                                },
                                {
                                    "OrderId": "10395",
                                    "CustomerId": "35",
                                    "val": "2122.92",
                                    "pct": "9.32"
                                },
                                {
                                    "OrderId": "10476",
                                    "CustomerId": "35",
                                    "val": "180.48",
                                    "pct": "0.79"
                                },
                                {
                                    "OrderId": "10486",
                                    "CustomerId": "35",
                                    "val": "1272.00",
                                    "pct": "5.59"
                                },
                                {
                                    "OrderId": "10490",
                                    "CustomerId": "35",
                                    "val": "3163.20",
                                    "pct": "13.89"
                                },
                                {
                                    "OrderId": "10498",
                                    "CustomerId": "35",
                                    "val": "575.00",
                                    "pct": "2.53"
                                },
                                {
                                    "OrderId": "10552",
                                    "CustomerId": "35",
                                    "val": "880.50",
                                    "pct": "3.87"
                                },
                                {
                                    "OrderId": "10601",
                                    "CustomerId": "35",
                                    "val": "2285.00",
                                    "pct": "10.04"
                                },
                                {
                                    "OrderId": "10613",
                                    "CustomerId": "35",
                                    "val": "353.20",
                                    "pct": "1.55"
                                },
                                {
                                    "OrderId": "10641",
                                    "CustomerId": "35",
                                    "val": "2054.00",
                                    "pct": "9.02"
                                },
                                {
                                    "OrderId": "10705",
                                    "CustomerId": "35",
                                    "val": "378.00",
                                    "pct": "1.66"
                                },
                                {
                                    "OrderId": "10796",
                                    "CustomerId": "35",
                                    "val": "2341.36",
                                    "pct": "10.28"
                                },
                                {
                                    "OrderId": "10863",
                                    "CustomerId": "35",
                                    "val": "441.15",
                                    "pct": "1.94"
                                },
                                {
                                    "OrderId": "10901",
                                    "CustomerId": "35",
                                    "val": "934.50",
                                    "pct": "4.10"
                                },
                                {
                                    "OrderId": "10957",
                                    "CustomerId": "35",
                                    "val": "1762.70",
                                    "pct": "7.74"
                                },
                                {
                                    "OrderId": "10960",
                                    "CustomerId": "35",
                                    "val": "265.35",
                                    "pct": "1.17"
                                },
                                {
                                    "OrderId": "10976",
                                    "CustomerId": "35",
                                    "val": "912.00",
                                    "pct": "4.01"
                                },
                                {
                                    "OrderId": "11055",
                                    "CustomerId": "35",
                                    "val": "1727.50",
                                    "pct": "7.59"
                                },
                                {
                                    "OrderId": "10375",
                                    "CustomerId": "36",
                                    "val": "338.00",
                                    "pct": "11.03"
                                },
                                {
                                    "OrderId": "10394",
                                    "CustomerId": "36",
                                    "val": "442.00",
                                    "pct": "14.43"
                                },
                                {
                                    "OrderId": "10415",
                                    "CustomerId": "36",
                                    "val": "102.40",
                                    "pct": "3.34"
                                },
                                {
                                    "OrderId": "10600",
                                    "CustomerId": "36",
                                    "val": "479.80",
                                    "pct": "15.66"
                                },
                                {
                                    "OrderId": "10660",
                                    "CustomerId": "36",
                                    "val": "1701.00",
                                    "pct": "55.53"
                                },
                                {
                                    "OrderId": "10298",
                                    "CustomerId": "37",
                                    "val": "2645.00",
                                    "pct": "5.29"
                                },
                                {
                                    "OrderId": "10309",
                                    "CustomerId": "37",
                                    "val": "1762.00",
                                    "pct": "3.53"
                                },
                                {
                                    "OrderId": "10335",
                                    "CustomerId": "37",
                                    "val": "2036.16",
                                    "pct": "4.07"
                                },
                                {
                                    "OrderId": "10373",
                                    "CustomerId": "37",
                                    "val": "1366.40",
                                    "pct": "2.73"
                                },
                                {
                                    "OrderId": "10380",
                                    "CustomerId": "37",
                                    "val": "1313.82",
                                    "pct": "2.63"
                                },
                                {
                                    "OrderId": "10429",
                                    "CustomerId": "37",
                                    "val": "1441.38",
                                    "pct": "2.88"
                                },
                                {
                                    "OrderId": "10503",
                                    "CustomerId": "37",
                                    "val": "2048.50",
                                    "pct": "4.10"
                                },
                                {
                                    "OrderId": "10516",
                                    "CustomerId": "37",
                                    "val": "2381.05",
                                    "pct": "4.76"
                                },
                                {
                                    "OrderId": "10567",
                                    "CustomerId": "37",
                                    "val": "2519.00",
                                    "pct": "5.04"
                                },
                                {
                                    "OrderId": "10646",
                                    "CustomerId": "37",
                                    "val": "1446.00",
                                    "pct": "2.89"
                                },
                                {
                                    "OrderId": "10661",
                                    "CustomerId": "37",
                                    "val": "562.60",
                                    "pct": "1.13"
                                },
                                {
                                    "OrderId": "10687",
                                    "CustomerId": "37",
                                    "val": "4960.90",
                                    "pct": "9.93"
                                },
                                {
                                    "OrderId": "10701",
                                    "CustomerId": "37",
                                    "val": "2864.50",
                                    "pct": "5.73"
                                },
                                {
                                    "OrderId": "10712",
                                    "CustomerId": "37",
                                    "val": "1233.48",
                                    "pct": "2.47"
                                },
                                {
                                    "OrderId": "10736",
                                    "CustomerId": "37",
                                    "val": "997.00",
                                    "pct": "1.99"
                                },
                                {
                                    "OrderId": "10897",
                                    "CustomerId": "37",
                                    "val": "10835.24",
                                    "pct": "21.68"
                                },
                                {
                                    "OrderId": "10912",
                                    "CustomerId": "37",
                                    "val": "6200.55",
                                    "pct": "12.41"
                                },
                                {
                                    "OrderId": "10985",
                                    "CustomerId": "37",
                                    "val": "2023.38",
                                    "pct": "4.05"
                                },
                                {
                                    "OrderId": "11063",
                                    "CustomerId": "37",
                                    "val": "1342.95",
                                    "pct": "2.69"
                                },
                                {
                                    "OrderId": "10315",
                                    "CustomerId": "38",
                                    "val": "516.80",
                                    "pct": "8.41"
                                },
                                {
                                    "OrderId": "10318",
                                    "CustomerId": "38",
                                    "val": "240.40",
                                    "pct": "3.91"
                                },
                                {
                                    "OrderId": "10321",
                                    "CustomerId": "38",
                                    "val": "144.00",
                                    "pct": "2.34"
                                },
                                {
                                    "OrderId": "10473",
                                    "CustomerId": "38",
                                    "val": "230.40",
                                    "pct": "3.75"
                                },
                                {
                                    "OrderId": "10621",
                                    "CustomerId": "38",
                                    "val": "758.50",
                                    "pct": "12.34"
                                },
                                {
                                    "OrderId": "10674",
                                    "CustomerId": "38",
                                    "val": "45.00",
                                    "pct": "0.73"
                                },
                                {
                                    "OrderId": "10749",
                                    "CustomerId": "38",
                                    "val": "1080.00",
                                    "pct": "17.57"
                                },
                                {
                                    "OrderId": "10798",
                                    "CustomerId": "38",
                                    "val": "446.60",
                                    "pct": "7.27"
                                },
                                {
                                    "OrderId": "10829",
                                    "CustomerId": "38",
                                    "val": "1764.00",
                                    "pct": "28.70"
                                },
                                {
                                    "OrderId": "10933",
                                    "CustomerId": "38",
                                    "val": "920.60",
                                    "pct": "14.98"
                                },
                                {
                                    "OrderId": "10323",
                                    "CustomerId": "39",
                                    "val": "164.40",
                                    "pct": "0.53"
                                },
                                {
                                    "OrderId": "10325",
                                    "CustomerId": "39",
                                    "val": "1497.00",
                                    "pct": "4.84"
                                },
                                {
                                    "OrderId": "10456",
                                    "CustomerId": "39",
                                    "val": "557.60",
                                    "pct": "1.80"
                                },
                                {
                                    "OrderId": "10457",
                                    "CustomerId": "39",
                                    "val": "1584.00",
                                    "pct": "5.12"
                                },
                                {
                                    "OrderId": "10468",
                                    "CustomerId": "39",
                                    "val": "717.60",
                                    "pct": "2.32"
                                },
                                {
                                    "OrderId": "10506",
                                    "CustomerId": "39",
                                    "val": "415.80",
                                    "pct": "1.35"
                                },
                                {
                                    "OrderId": "10542",
                                    "CustomerId": "39",
                                    "val": "469.11",
                                    "pct": "1.52"
                                },
                                {
                                    "OrderId": "10630",
                                    "CustomerId": "39",
                                    "val": "903.60",
                                    "pct": "2.92"
                                },
                                {
                                    "OrderId": "10718",
                                    "CustomerId": "39",
                                    "val": "3463.00",
                                    "pct": "11.20"
                                },
                                {
                                    "OrderId": "10799",
                                    "CustomerId": "39",
                                    "val": "1553.50",
                                    "pct": "5.03"
                                },
                                {
                                    "OrderId": "10817",
                                    "CustomerId": "39",
                                    "val": "10952.85",
                                    "pct": "35.44"
                                },
                                {
                                    "OrderId": "10849",
                                    "CustomerId": "39",
                                    "val": "967.82",
                                    "pct": "3.13"
                                },
                                {
                                    "OrderId": "10893",
                                    "CustomerId": "39",
                                    "val": "5502.11",
                                    "pct": "17.80"
                                },
                                {
                                    "OrderId": "11028",
                                    "CustomerId": "39",
                                    "val": "2160.00",
                                    "pct": "6.99"
                                },
                                {
                                    "OrderId": "10858",
                                    "CustomerId": "40",
                                    "val": "649.00",
                                    "pct": "32.58"
                                },
                                {
                                    "OrderId": "10927",
                                    "CustomerId": "40",
                                    "val": "800.00",
                                    "pct": "40.16"
                                },
                                {
                                    "OrderId": "10972",
                                    "CustomerId": "40",
                                    "val": "251.50",
                                    "pct": "12.63"
                                },
                                {
                                    "OrderId": "10973",
                                    "CustomerId": "40",
                                    "val": "291.55",
                                    "pct": "14.64"
                                },
                                {
                                    "OrderId": "10350",
                                    "CustomerId": "41",
                                    "val": "642.06",
                                    "pct": "6.88"
                                },
                                {
                                    "OrderId": "10358",
                                    "CustomerId": "41",
                                    "val": "429.40",
                                    "pct": "4.60"
                                },
                                {
                                    "OrderId": "10371",
                                    "CustomerId": "41",
                                    "val": "72.96",
                                    "pct": "0.78"
                                },
                                {
                                    "OrderId": "10413",
                                    "CustomerId": "41",
                                    "val": "2123.20",
                                    "pct": "22.76"
                                },
                                {
                                    "OrderId": "10425",
                                    "CustomerId": "41",
                                    "val": "360.00",
                                    "pct": "3.86"
                                },
                                {
                                    "OrderId": "10454",
                                    "CustomerId": "41",
                                    "val": "331.20",
                                    "pct": "3.55"
                                },
                                {
                                    "OrderId": "10493",
                                    "CustomerId": "41",
                                    "val": "608.40",
                                    "pct": "6.52"
                                },
                                {
                                    "OrderId": "10500",
                                    "CustomerId": "41",
                                    "val": "523.26",
                                    "pct": "5.61"
                                },
                                {
                                    "OrderId": "10610",
                                    "CustomerId": "41",
                                    "val": "299.25",
                                    "pct": "3.21"
                                },
                                {
                                    "OrderId": "10631",
                                    "CustomerId": "41",
                                    "val": "55.80",
                                    "pct": "0.60"
                                },
                                {
                                    "OrderId": "10787",
                                    "CustomerId": "41",
                                    "val": "2622.76",
                                    "pct": "28.12"
                                },
                                {
                                    "OrderId": "10832",
                                    "CustomerId": "41",
                                    "val": "475.11",
                                    "pct": "5.09"
                                },
                                {
                                    "OrderId": "10923",
                                    "CustomerId": "41",
                                    "val": "748.80",
                                    "pct": "8.03"
                                },
                                {
                                    "OrderId": "11051",
                                    "CustomerId": "41",
                                    "val": "36.00",
                                    "pct": "0.39"
                                },
                                {
                                    "OrderId": "10495",
                                    "CustomerId": "42",
                                    "val": "278.00",
                                    "pct": "53.21"
                                },
                                {
                                    "OrderId": "10620",
                                    "CustomerId": "42",
                                    "val": "57.50",
                                    "pct": "11.00"
                                },
                                {
                                    "OrderId": "10810",
                                    "CustomerId": "42",
                                    "val": "187.00",
                                    "pct": "35.79"
                                },
                                {
                                    "OrderId": "10482",
                                    "CustomerId": "43",
                                    "val": "147.00",
                                    "pct": "41.18"
                                },
                                {
                                    "OrderId": "10545",
                                    "CustomerId": "43",
                                    "val": "210.00",
                                    "pct": "58.82"
                                },
                                {
                                    "OrderId": "10279",
                                    "CustomerId": "44",
                                    "val": "351.00",
                                    "pct": "1.82"
                                },
                                {
                                    "OrderId": "10284",
                                    "CustomerId": "44",
                                    "val": "1170.38",
                                    "pct": "6.08"
                                },
                                {
                                    "OrderId": "10343",
                                    "CustomerId": "44",
                                    "val": "1584.00",
                                    "pct": "8.22"
                                },
                                {
                                    "OrderId": "10497",
                                    "CustomerId": "44",
                                    "val": "1380.60",
                                    "pct": "7.17"
                                },
                                {
                                    "OrderId": "10522",
                                    "CustomerId": "44",
                                    "val": "2318.24",
                                    "pct": "12.04"
                                },
                                {
                                    "OrderId": "10534",
                                    "CustomerId": "44",
                                    "val": "465.70",
                                    "pct": "2.42"
                                },
                                {
                                    "OrderId": "10536",
                                    "CustomerId": "44",
                                    "val": "1645.00",
                                    "pct": "8.54"
                                },
                                {
                                    "OrderId": "10557",
                                    "CustomerId": "44",
                                    "val": "1152.50",
                                    "pct": "5.98"
                                },
                                {
                                    "OrderId": "10592",
                                    "CustomerId": "44",
                                    "val": "516.47",
                                    "pct": "2.68"
                                },
                                {
                                    "OrderId": "10593",
                                    "CustomerId": "44",
                                    "val": "1994.40",
                                    "pct": "10.35"
                                },
                                {
                                    "OrderId": "10772",
                                    "CustomerId": "44",
                                    "val": "3603.22",
                                    "pct": "18.71"
                                },
                                {
                                    "OrderId": "10862",
                                    "CustomerId": "44",
                                    "val": "581.00",
                                    "pct": "3.02"
                                },
                                {
                                    "OrderId": "10891",
                                    "CustomerId": "44",
                                    "val": "368.93",
                                    "pct": "1.92"
                                },
                                {
                                    "OrderId": "10934",
                                    "CustomerId": "44",
                                    "val": "500.00",
                                    "pct": "2.60"
                                },
                                {
                                    "OrderId": "11070",
                                    "CustomerId": "44",
                                    "val": "1629.98",
                                    "pct": "8.46"
                                },
                                {
                                    "OrderId": "10579",
                                    "CustomerId": "45",
                                    "val": "317.75",
                                    "pct": "10.33"
                                },
                                {
                                    "OrderId": "10719",
                                    "CustomerId": "45",
                                    "val": "844.25",
                                    "pct": "27.44"
                                },
                                {
                                    "OrderId": "10735",
                                    "CustomerId": "45",
                                    "val": "536.40",
                                    "pct": "17.44"
                                },
                                {
                                    "OrderId": "10884",
                                    "CustomerId": "45",
                                    "val": "1378.07",
                                    "pct": "44.79"
                                },
                                {
                                    "OrderId": "10283",
                                    "CustomerId": "46",
                                    "val": "1414.80",
                                    "pct": "8.80"
                                },
                                {
                                    "OrderId": "10296",
                                    "CustomerId": "46",
                                    "val": "1050.60",
                                    "pct": "6.53"
                                },
                                {
                                    "OrderId": "10330",
                                    "CustomerId": "46",
                                    "val": "1649.00",
                                    "pct": "10.26"
                                },
                                {
                                    "OrderId": "10357",
                                    "CustomerId": "46",
                                    "val": "1167.68",
                                    "pct": "7.26"
                                },
                                {
                                    "OrderId": "10381",
                                    "CustomerId": "46",
                                    "val": "112.00",
                                    "pct": "0.70"
                                },
                                {
                                    "OrderId": "10461",
                                    "CustomerId": "46",
                                    "val": "1538.70",
                                    "pct": "9.57"
                                },
                                {
                                    "OrderId": "10499",
                                    "CustomerId": "46",
                                    "val": "1412.00",
                                    "pct": "8.78"
                                },
                                {
                                    "OrderId": "10543",
                                    "CustomerId": "46",
                                    "val": "1504.50",
                                    "pct": "9.36"
                                },
                                {
                                    "OrderId": "10780",
                                    "CustomerId": "46",
                                    "val": "720.00",
                                    "pct": "4.48"
                                },
                                {
                                    "OrderId": "10823",
                                    "CustomerId": "46",
                                    "val": "2826.00",
                                    "pct": "17.58"
                                },
                                {
                                    "OrderId": "10899",
                                    "CustomerId": "46",
                                    "val": "122.40",
                                    "pct": "0.76"
                                },
                                {
                                    "OrderId": "10997",
                                    "CustomerId": "46",
                                    "val": "1885.00",
                                    "pct": "11.73"
                                },
                                {
                                    "OrderId": "11065",
                                    "CustomerId": "46",
                                    "val": "189.42",
                                    "pct": "1.18"
                                },
                                {
                                    "OrderId": "11071",
                                    "CustomerId": "46",
                                    "val": "484.50",
                                    "pct": "3.01"
                                },
                                {
                                    "OrderId": "10405",
                                    "CustomerId": "47",
                                    "val": "400.00",
                                    "pct": "2.43"
                                },
                                {
                                    "OrderId": "10485",
                                    "CustomerId": "47",
                                    "val": "1584.00",
                                    "pct": "9.61"
                                },
                                {
                                    "OrderId": "10638",
                                    "CustomerId": "47",
                                    "val": "2720.05",
                                    "pct": "16.51"
                                },
                                {
                                    "OrderId": "10697",
                                    "CustomerId": "47",
                                    "val": "805.43",
                                    "pct": "4.89"
                                },
                                {
                                    "OrderId": "10729",
                                    "CustomerId": "47",
                                    "val": "1850.00",
                                    "pct": "11.23"
                                },
                                {
                                    "OrderId": "10811",
                                    "CustomerId": "47",
                                    "val": "852.00",
                                    "pct": "5.17"
                                },
                                {
                                    "OrderId": "10838",
                                    "CustomerId": "47",
                                    "val": "1938.38",
                                    "pct": "11.76"
                                },
                                {
                                    "OrderId": "10840",
                                    "CustomerId": "47",
                                    "val": "211.20",
                                    "pct": "1.28"
                                },
                                {
                                    "OrderId": "10919",
                                    "CustomerId": "47",
                                    "val": "1122.80",
                                    "pct": "6.81"
                                },
                                {
                                    "OrderId": "10954",
                                    "CustomerId": "47",
                                    "val": "1659.54",
                                    "pct": "10.07"
                                },
                                {
                                    "OrderId": "11014",
                                    "CustomerId": "47",
                                    "val": "243.18",
                                    "pct": "1.48"
                                },
                                {
                                    "OrderId": "11039",
                                    "CustomerId": "47",
                                    "val": "3090.00",
                                    "pct": "18.75"
                                },
                                {
                                    "OrderId": "10307",
                                    "CustomerId": "48",
                                    "val": "424.00",
                                    "pct": "9.96"
                                },
                                {
                                    "OrderId": "10317",
                                    "CustomerId": "48",
                                    "val": "288.00",
                                    "pct": "6.76"
                                },
                                {
                                    "OrderId": "10544",
                                    "CustomerId": "48",
                                    "val": "417.20",
                                    "pct": "9.80"
                                },
                                {
                                    "OrderId": "10662",
                                    "CustomerId": "48",
                                    "val": "125.00",
                                    "pct": "2.94"
                                },
                                {
                                    "OrderId": "10665",
                                    "CustomerId": "48",
                                    "val": "1295.00",
                                    "pct": "30.41"
                                },
                                {
                                    "OrderId": "10867",
                                    "CustomerId": "48",
                                    "val": "98.40",
                                    "pct": "2.31"
                                },
                                {
                                    "OrderId": "10883",
                                    "CustomerId": "48",
                                    "val": "36.00",
                                    "pct": "0.85"
                                },
                                {
                                    "OrderId": "11018",
                                    "CustomerId": "48",
                                    "val": "1575.00",
                                    "pct": "36.98"
                                },
                                {
                                    "OrderId": "10275",
                                    "CustomerId": "49",
                                    "val": "291.84",
                                    "pct": "4.07"
                                },
                                {
                                    "OrderId": "10300",
                                    "CustomerId": "49",
                                    "val": "608.00",
                                    "pct": "8.47"
                                },
                                {
                                    "OrderId": "10404",
                                    "CustomerId": "49",
                                    "val": "1591.25",
                                    "pct": "22.17"
                                },
                                {
                                    "OrderId": "10467",
                                    "CustomerId": "49",
                                    "val": "235.20",
                                    "pct": "3.28"
                                },
                                {
                                    "OrderId": "10635",
                                    "CustomerId": "49",
                                    "val": "1326.23",
                                    "pct": "18.48"
                                },
                                {
                                    "OrderId": "10754",
                                    "CustomerId": "49",
                                    "val": "55.20",
                                    "pct": "0.77"
                                },
                                {
                                    "OrderId": "10784",
                                    "CustomerId": "49",
                                    "val": "1488.00",
                                    "pct": "20.74"
                                },
                                {
                                    "OrderId": "10818",
                                    "CustomerId": "49",
                                    "val": "833.00",
                                    "pct": "11.61"
                                },
                                {
                                    "OrderId": "10939",
                                    "CustomerId": "49",
                                    "val": "637.50",
                                    "pct": "8.88"
                                },
                                {
                                    "OrderId": "10950",
                                    "CustomerId": "49",
                                    "val": "110.00",
                                    "pct": "1.53"
                                },
                                {
                                    "OrderId": "10529",
                                    "CustomerId": "50",
                                    "val": "946.00",
                                    "pct": "9.72"
                                },
                                {
                                    "OrderId": "10649",
                                    "CustomerId": "50",
                                    "val": "1434.00",
                                    "pct": "14.73"
                                },
                                {
                                    "OrderId": "10760",
                                    "CustomerId": "50",
                                    "val": "2917.00",
                                    "pct": "29.96"
                                },
                                {
                                    "OrderId": "10892",
                                    "CustomerId": "50",
                                    "val": "2090.00",
                                    "pct": "21.47"
                                },
                                {
                                    "OrderId": "10896",
                                    "CustomerId": "50",
                                    "val": "750.50",
                                    "pct": "7.71"
                                },
                                {
                                    "OrderId": "10978",
                                    "CustomerId": "50",
                                    "val": "1303.20",
                                    "pct": "13.39"
                                },
                                {
                                    "OrderId": "11004",
                                    "CustomerId": "50",
                                    "val": "295.38",
                                    "pct": "3.03"
                                },
                                {
                                    "OrderId": "10332",
                                    "CustomerId": "51",
                                    "val": "1786.88",
                                    "pct": "6.19"
                                },
                                {
                                    "OrderId": "10339",
                                    "CustomerId": "51",
                                    "val": "3354.00",
                                    "pct": "11.62"
                                },
                                {
                                    "OrderId": "10376",
                                    "CustomerId": "51",
                                    "val": "399.00",
                                    "pct": "1.38"
                                },
                                {
                                    "OrderId": "10424",
                                    "CustomerId": "51",
                                    "val": "9194.56",
                                    "pct": "31.85"
                                },
                                {
                                    "OrderId": "10439",
                                    "CustomerId": "51",
                                    "val": "1078.00",
                                    "pct": "3.73"
                                },
                                {
                                    "OrderId": "10505",
                                    "CustomerId": "51",
                                    "val": "147.90",
                                    "pct": "0.51"
                                },
                                {
                                    "OrderId": "10565",
                                    "CustomerId": "51",
                                    "val": "639.90",
                                    "pct": "2.22"
                                },
                                {
                                    "OrderId": "10570",
                                    "CustomerId": "51",
                                    "val": "2465.25",
                                    "pct": "8.54"
                                },
                                {
                                    "OrderId": "10590",
                                    "CustomerId": "51",
                                    "val": "1101.00",
                                    "pct": "3.81"
                                },
                                {
                                    "OrderId": "10605",
                                    "CustomerId": "51",
                                    "val": "4109.70",
                                    "pct": "14.23"
                                },
                                {
                                    "OrderId": "10618",
                                    "CustomerId": "51",
                                    "val": "2697.50",
                                    "pct": "9.34"
                                },
                                {
                                    "OrderId": "10619",
                                    "CustomerId": "51",
                                    "val": "1260.00",
                                    "pct": "4.36"
                                },
                                {
                                    "OrderId": "10724",
                                    "CustomerId": "51",
                                    "val": "638.50",
                                    "pct": "2.21"
                                },
                                {
                                    "OrderId": "10277",
                                    "CustomerId": "52",
                                    "val": "1200.80",
                                    "pct": "23.82"
                                },
                                {
                                    "OrderId": "10575",
                                    "CustomerId": "52",
                                    "val": "2147.40",
                                    "pct": "42.59"
                                },
                                {
                                    "OrderId": "10699",
                                    "CustomerId": "52",
                                    "val": "114.00",
                                    "pct": "2.26"
                                },
                                {
                                    "OrderId": "10779",
                                    "CustomerId": "52",
                                    "val": "1335.00",
                                    "pct": "26.48"
                                },
                                {
                                    "OrderId": "10945",
                                    "CustomerId": "52",
                                    "val": "245.00",
                                    "pct": "4.86"
                                },
                                {
                                    "OrderId": "10517",
                                    "CustomerId": "53",
                                    "val": "352.00",
                                    "pct": "54.24"
                                },
                                {
                                    "OrderId": "10752",
                                    "CustomerId": "53",
                                    "val": "252.00",
                                    "pct": "38.83"
                                },
                                {
                                    "OrderId": "11057",
                                    "CustomerId": "53",
                                    "val": "45.00",
                                    "pct": "6.93"
                                },
                                {
                                    "OrderId": "10409",
                                    "CustomerId": "54",
                                    "val": "319.20",
                                    "pct": "9.22"
                                },
                                {
                                    "OrderId": "10531",
                                    "CustomerId": "54",
                                    "val": "110.00",
                                    "pct": "3.18"
                                },
                                {
                                    "OrderId": "10898",
                                    "CustomerId": "54",
                                    "val": "30.00",
                                    "pct": "0.87"
                                },
                                {
                                    "OrderId": "10958",
                                    "CustomerId": "54",
                                    "val": "781.00",
                                    "pct": "22.57"
                                },
                                {
                                    "OrderId": "10986",
                                    "CustomerId": "54",
                                    "val": "2220.00",
                                    "pct": "64.16"
                                },
                                {
                                    "OrderId": "10305",
                                    "CustomerId": "55",
                                    "val": "3741.30",
                                    "pct": "24.65"
                                },
                                {
                                    "OrderId": "10338",
                                    "CustomerId": "55",
                                    "val": "934.50",
                                    "pct": "6.16"
                                },
                                {
                                    "OrderId": "10441",
                                    "CustomerId": "55",
                                    "val": "1755.00",
                                    "pct": "11.56"
                                },
                                {
                                    "OrderId": "10594",
                                    "CustomerId": "55",
                                    "val": "565.50",
                                    "pct": "3.73"
                                },
                                {
                                    "OrderId": "10680",
                                    "CustomerId": "55",
                                    "val": "1261.88",
                                    "pct": "8.31"
                                },
                                {
                                    "OrderId": "10706",
                                    "CustomerId": "55",
                                    "val": "1893.00",
                                    "pct": "12.47"
                                },
                                {
                                    "OrderId": "10808",
                                    "CustomerId": "55",
                                    "val": "1411.00",
                                    "pct": "9.30"
                                },
                                {
                                    "OrderId": "10855",
                                    "CustomerId": "55",
                                    "val": "2227.89",
                                    "pct": "14.68"
                                },
                                {
                                    "OrderId": "10965",
                                    "CustomerId": "55",
                                    "val": "848.00",
                                    "pct": "5.59"
                                },
                                {
                                    "OrderId": "11034",
                                    "CustomerId": "55",
                                    "val": "539.40",
                                    "pct": "3.55"
                                },
                                {
                                    "OrderId": "10260",
                                    "CustomerId": "56",
                                    "val": "1504.65",
                                    "pct": "12.04"
                                },
                                {
                                    "OrderId": "10407",
                                    "CustomerId": "56",
                                    "val": "1194.00",
                                    "pct": "9.55"
                                },
                                {
                                    "OrderId": "10508",
                                    "CustomerId": "56",
                                    "val": "240.00",
                                    "pct": "1.92"
                                },
                                {
                                    "OrderId": "10554",
                                    "CustomerId": "56",
                                    "val": "1728.53",
                                    "pct": "13.83"
                                },
                                {
                                    "OrderId": "10580",
                                    "CustomerId": "56",
                                    "val": "1013.75",
                                    "pct": "8.11"
                                },
                                {
                                    "OrderId": "10684",
                                    "CustomerId": "56",
                                    "val": "1768.00",
                                    "pct": "14.15"
                                },
                                {
                                    "OrderId": "10766",
                                    "CustomerId": "56",
                                    "val": "2310.00",
                                    "pct": "18.49"
                                },
                                {
                                    "OrderId": "10833",
                                    "CustomerId": "56",
                                    "val": "906.93",
                                    "pct": "7.26"
                                },
                                {
                                    "OrderId": "10999",
                                    "CustomerId": "56",
                                    "val": "1197.95",
                                    "pct": "9.59"
                                },
                                {
                                    "OrderId": "11020",
                                    "CustomerId": "56",
                                    "val": "632.40",
                                    "pct": "5.06"
                                },
                                {
                                    "OrderId": "10322",
                                    "CustomerId": "58",
                                    "val": "112.00",
                                    "pct": "2.64"
                                },
                                {
                                    "OrderId": "10354",
                                    "CustomerId": "58",
                                    "val": "568.80",
                                    "pct": "13.41"
                                },
                                {
                                    "OrderId": "10474",
                                    "CustomerId": "58",
                                    "val": "1249.10",
                                    "pct": "29.44"
                                },
                                {
                                    "OrderId": "10502",
                                    "CustomerId": "58",
                                    "val": "816.30",
                                    "pct": "19.24"
                                },
                                {
                                    "OrderId": "10995",
                                    "CustomerId": "58",
                                    "val": "1196.00",
                                    "pct": "28.19"
                                },
                                {
                                    "OrderId": "11073",
                                    "CustomerId": "58",
                                    "val": "300.00",
                                    "pct": "7.07"
                                },
                                {
                                    "OrderId": "10353",
                                    "CustomerId": "59",
                                    "val": "8593.28",
                                    "pct": "37.15"
                                },
                                {
                                    "OrderId": "10392",
                                    "CustomerId": "59",
                                    "val": "1440.00",
                                    "pct": "6.23"
                                },
                                {
                                    "OrderId": "10427",
                                    "CustomerId": "59",
                                    "val": "651.00",
                                    "pct": "2.81"
                                },
                                {
                                    "OrderId": "10489",
                                    "CustomerId": "59",
                                    "val": "439.20",
                                    "pct": "1.90"
                                },
                                {
                                    "OrderId": "10530",
                                    "CustomerId": "59",
                                    "val": "4180.00",
                                    "pct": "18.07"
                                },
                                {
                                    "OrderId": "10597",
                                    "CustomerId": "59",
                                    "val": "718.08",
                                    "pct": "3.10"
                                },
                                {
                                    "OrderId": "10686",
                                    "CustomerId": "59",
                                    "val": "1404.45",
                                    "pct": "6.07"
                                },
                                {
                                    "OrderId": "10747",
                                    "CustomerId": "59",
                                    "val": "1912.85",
                                    "pct": "8.27"
                                },
                                {
                                    "OrderId": "10844",
                                    "CustomerId": "59",
                                    "val": "735.00",
                                    "pct": "3.18"
                                },
                                {
                                    "OrderId": "11053",
                                    "CustomerId": "59",
                                    "val": "3055.00",
                                    "pct": "13.21"
                                },
                                {
                                    "OrderId": "10336",
                                    "CustomerId": "60",
                                    "val": "285.12",
                                    "pct": "5.65"
                                },
                                {
                                    "OrderId": "10397",
                                    "CustomerId": "60",
                                    "val": "716.72",
                                    "pct": "14.21"
                                },
                                {
                                    "OrderId": "10433",
                                    "CustomerId": "60",
                                    "val": "851.20",
                                    "pct": "16.87"
                                },
                                {
                                    "OrderId": "10477",
                                    "CustomerId": "60",
                                    "val": "558.00",
                                    "pct": "11.06"
                                },
                                {
                                    "OrderId": "11007",
                                    "CustomerId": "60",
                                    "val": "2633.90",
                                    "pct": "52.21"
                                },
                                {
                                    "OrderId": "10261",
                                    "CustomerId": "61",
                                    "val": "448.00",
                                    "pct": "6.72"
                                },
                                {
                                    "OrderId": "10291",
                                    "CustomerId": "61",
                                    "val": "497.52",
                                    "pct": "7.46"
                                },
                                {
                                    "OrderId": "10379",
                                    "CustomerId": "61",
                                    "val": "863.28",
                                    "pct": "12.95"
                                },
                                {
                                    "OrderId": "10421",
                                    "CustomerId": "61",
                                    "val": "1194.27",
                                    "pct": "17.92"
                                },
                                {
                                    "OrderId": "10587",
                                    "CustomerId": "61",
                                    "val": "807.38",
                                    "pct": "12.11"
                                },
                                {
                                    "OrderId": "10647",
                                    "CustomerId": "61",
                                    "val": "636.00",
                                    "pct": "9.54"
                                },
                                {
                                    "OrderId": "10720",
                                    "CustomerId": "61",
                                    "val": "550.00",
                                    "pct": "8.25"
                                },
                                {
                                    "OrderId": "10794",
                                    "CustomerId": "61",
                                    "val": "314.76",
                                    "pct": "4.72"
                                },
                                {
                                    "OrderId": "10989",
                                    "CustomerId": "61",
                                    "val": "1353.60",
                                    "pct": "20.31"
                                },
                                {
                                    "OrderId": "10372",
                                    "CustomerId": "62",
                                    "val": "9210.90",
                                    "pct": "35.82"
                                },
                                {
                                    "OrderId": "10406",
                                    "CustomerId": "62",
                                    "val": "1830.78",
                                    "pct": "7.12"
                                },
                                {
                                    "OrderId": "10487",
                                    "CustomerId": "62",
                                    "val": "889.70",
                                    "pct": "3.46"
                                },
                                {
                                    "OrderId": "10637",
                                    "CustomerId": "62",
                                    "val": "2761.94",
                                    "pct": "10.74"
                                },
                                {
                                    "OrderId": "10659",
                                    "CustomerId": "62",
                                    "val": "1227.02",
                                    "pct": "4.77"
                                },
                                {
                                    "OrderId": "10704",
                                    "CustomerId": "62",
                                    "val": "595.50",
                                    "pct": "2.32"
                                },
                                {
                                    "OrderId": "10728",
                                    "CustomerId": "62",
                                    "val": "1296.75",
                                    "pct": "5.04"
                                },
                                {
                                    "OrderId": "10786",
                                    "CustomerId": "62",
                                    "val": "1531.08",
                                    "pct": "5.95"
                                },
                                {
                                    "OrderId": "10868",
                                    "CustomerId": "62",
                                    "val": "1920.60",
                                    "pct": "7.47"
                                },
                                {
                                    "OrderId": "10913",
                                    "CustomerId": "62",
                                    "val": "768.75",
                                    "pct": "2.99"
                                },
                                {
                                    "OrderId": "10914",
                                    "CustomerId": "62",
                                    "val": "537.50",
                                    "pct": "2.09"
                                },
                                {
                                    "OrderId": "10961",
                                    "CustomerId": "62",
                                    "val": "1119.90",
                                    "pct": "4.35"
                                },
                                {
                                    "OrderId": "11068",
                                    "CustomerId": "62",
                                    "val": "2027.08",
                                    "pct": "7.88"
                                },
                                {
                                    "OrderId": "10273",
                                    "CustomerId": "63",
                                    "val": "2037.28",
                                    "pct": "1.85"
                                },
                                {
                                    "OrderId": "10285",
                                    "CustomerId": "63",
                                    "val": "1743.36",
                                    "pct": "1.58"
                                },
                                {
                                    "OrderId": "10286",
                                    "CustomerId": "63",
                                    "val": "3016.00",
                                    "pct": "2.73"
                                },
                                {
                                    "OrderId": "10313",
                                    "CustomerId": "63",
                                    "val": "182.40",
                                    "pct": "0.17"
                                },
                                {
                                    "OrderId": "10345",
                                    "CustomerId": "63",
                                    "val": "2924.80",
                                    "pct": "2.65"
                                },
                                {
                                    "OrderId": "10361",
                                    "CustomerId": "63",
                                    "val": "2046.24",
                                    "pct": "1.86"
                                },
                                {
                                    "OrderId": "10418",
                                    "CustomerId": "63",
                                    "val": "1814.80",
                                    "pct": "1.65"
                                },
                                {
                                    "OrderId": "10451",
                                    "CustomerId": "63",
                                    "val": "3849.66",
                                    "pct": "3.49"
                                },
                                {
                                    "OrderId": "10515",
                                    "CustomerId": "63",
                                    "val": "9921.30",
                                    "pct": "9.00"
                                },
                                {
                                    "OrderId": "10527",
                                    "CustomerId": "63",
                                    "val": "1503.00",
                                    "pct": "1.36"
                                },
                                {
                                    "OrderId": "10540",
                                    "CustomerId": "63",
                                    "val": "10191.70",
                                    "pct": "9.24"
                                },
                                {
                                    "OrderId": "10549",
                                    "CustomerId": "63",
                                    "val": "3554.28",
                                    "pct": "3.22"
                                },
                                {
                                    "OrderId": "10588",
                                    "CustomerId": "63",
                                    "val": "3120.00",
                                    "pct": "2.83"
                                },
                                {
                                    "OrderId": "10658",
                                    "CustomerId": "63",
                                    "val": "4464.60",
                                    "pct": "4.05"
                                },
                                {
                                    "OrderId": "10691",
                                    "CustomerId": "63",
                                    "val": "10164.80",
                                    "pct": "9.22"
                                },
                                {
                                    "OrderId": "10694",
                                    "CustomerId": "63",
                                    "val": "4825.00",
                                    "pct": "4.38"
                                },
                                {
                                    "OrderId": "10721",
                                    "CustomerId": "63",
                                    "val": "923.88",
                                    "pct": "0.84"
                                },
                                {
                                    "OrderId": "10745",
                                    "CustomerId": "63",
                                    "val": "4529.80",
                                    "pct": "4.11"
                                },
                                {
                                    "OrderId": "10765",
                                    "CustomerId": "63",
                                    "val": "1515.60",
                                    "pct": "1.37"
                                },
                                {
                                    "OrderId": "10788",
                                    "CustomerId": "63",
                                    "val": "731.50",
                                    "pct": "0.66"
                                },
                                {
                                    "OrderId": "10845",
                                    "CustomerId": "63",
                                    "val": "3812.70",
                                    "pct": "3.46"
                                },
                                {
                                    "OrderId": "10865",
                                    "CustomerId": "63",
                                    "val": "16387.50",
                                    "pct": "14.86"
                                },
                                {
                                    "OrderId": "10878",
                                    "CustomerId": "63",
                                    "val": "1539.00",
                                    "pct": "1.40"
                                },
                                {
                                    "OrderId": "10938",
                                    "CustomerId": "63",
                                    "val": "2731.88",
                                    "pct": "2.48"
                                },
                                {
                                    "OrderId": "10962",
                                    "CustomerId": "63",
                                    "val": "3584.00",
                                    "pct": "3.25"
                                },
                                {
                                    "OrderId": "10991",
                                    "CustomerId": "63",
                                    "val": "2296.00",
                                    "pct": "2.08"
                                },
                                {
                                    "OrderId": "10996",
                                    "CustomerId": "63",
                                    "val": "560.00",
                                    "pct": "0.51"
                                },
                                {
                                    "OrderId": "11021",
                                    "CustomerId": "63",
                                    "val": "6306.24",
                                    "pct": "5.72"
                                },
                                {
                                    "OrderId": "10448",
                                    "CustomerId": "64",
                                    "val": "443.40",
                                    "pct": "15.59"
                                },
                                {
                                    "OrderId": "10716",
                                    "CustomerId": "64",
                                    "val": "706.00",
                                    "pct": "24.82"
                                },
                                {
                                    "OrderId": "10828",
                                    "CustomerId": "64",
                                    "val": "932.00",
                                    "pct": "32.77"
                                },
                                {
                                    "OrderId": "10916",
                                    "CustomerId": "64",
                                    "val": "686.70",
                                    "pct": "24.14"
                                },
                                {
                                    "OrderId": "11019",
                                    "CustomerId": "64",
                                    "val": "76.00",
                                    "pct": "2.67"
                                },
                                {
                                    "OrderId": "10262",
                                    "CustomerId": "65",
                                    "val": "584.00",
                                    "pct": "1.14"
                                },
                                {
                                    "OrderId": "10272",
                                    "CustomerId": "65",
                                    "val": "1456.00",
                                    "pct": "2.85"
                                },
                                {
                                    "OrderId": "10294",
                                    "CustomerId": "65",
                                    "val": "1887.60",
                                    "pct": "3.69"
                                },
                                {
                                    "OrderId": "10314",
                                    "CustomerId": "65",
                                    "val": "2094.30",
                                    "pct": "4.10"
                                },
                                {
                                    "OrderId": "10316",
                                    "CustomerId": "65",
                                    "val": "2835.00",
                                    "pct": "5.55"
                                },
                                {
                                    "OrderId": "10346",
                                    "CustomerId": "65",
                                    "val": "1618.88",
                                    "pct": "3.17"
                                },
                                {
                                    "OrderId": "10401",
                                    "CustomerId": "65",
                                    "val": "3868.60",
                                    "pct": "7.57"
                                },
                                {
                                    "OrderId": "10479",
                                    "CustomerId": "65",
                                    "val": "10495.60",
                                    "pct": "20.54"
                                },
                                {
                                    "OrderId": "10564",
                                    "CustomerId": "65",
                                    "val": "1234.05",
                                    "pct": "2.42"
                                },
                                {
                                    "OrderId": "10569",
                                    "CustomerId": "65",
                                    "val": "890.00",
                                    "pct": "1.74"
                                },
                                {
                                    "OrderId": "10598",
                                    "CustomerId": "65",
                                    "val": "2388.50",
                                    "pct": "4.67"
                                },
                                {
                                    "OrderId": "10761",
                                    "CustomerId": "65",
                                    "val": "507.00",
                                    "pct": "0.99"
                                },
                                {
                                    "OrderId": "10820",
                                    "CustomerId": "65",
                                    "val": "1140.00",
                                    "pct": "2.23"
                                },
                                {
                                    "OrderId": "10852",
                                    "CustomerId": "65",
                                    "val": "2984.00",
                                    "pct": "5.84"
                                },
                                {
                                    "OrderId": "10889",
                                    "CustomerId": "65",
                                    "val": "11380.00",
                                    "pct": "22.27"
                                },
                                {
                                    "OrderId": "10988",
                                    "CustomerId": "65",
                                    "val": "3574.80",
                                    "pct": "7.00"
                                },
                                {
                                    "OrderId": "11000",
                                    "CustomerId": "65",
                                    "val": "903.75",
                                    "pct": "1.77"
                                },
                                {
                                    "OrderId": "11077",
                                    "CustomerId": "65",
                                    "val": "1255.72",
                                    "pct": "2.46"
                                },
                                {
                                    "OrderId": "10288",
                                    "CustomerId": "66",
                                    "val": "80.10",
                                    "pct": "1.14"
                                },
                                {
                                    "OrderId": "10428",
                                    "CustomerId": "66",
                                    "val": "192.00",
                                    "pct": "2.72"
                                },
                                {
                                    "OrderId": "10443",
                                    "CustomerId": "66",
                                    "val": "517.44",
                                    "pct": "7.34"
                                },
                                {
                                    "OrderId": "10562",
                                    "CustomerId": "66",
                                    "val": "488.70",
                                    "pct": "6.93"
                                },
                                {
                                    "OrderId": "10586",
                                    "CustomerId": "66",
                                    "val": "23.80",
                                    "pct": "0.34"
                                },
                                {
                                    "OrderId": "10655",
                                    "CustomerId": "66",
                                    "val": "154.40",
                                    "pct": "2.19"
                                },
                                {
                                    "OrderId": "10727",
                                    "CustomerId": "66",
                                    "val": "1624.50",
                                    "pct": "23.05"
                                },
                                {
                                    "OrderId": "10812",
                                    "CustomerId": "66",
                                    "val": "1692.80",
                                    "pct": "24.02"
                                },
                                {
                                    "OrderId": "10908",
                                    "CustomerId": "66",
                                    "val": "663.10",
                                    "pct": "9.41"
                                },
                                {
                                    "OrderId": "10942",
                                    "CustomerId": "66",
                                    "val": "560.00",
                                    "pct": "7.95"
                                },
                                {
                                    "OrderId": "11010",
                                    "CustomerId": "66",
                                    "val": "645.00",
                                    "pct": "9.15"
                                },
                                {
                                    "OrderId": "11062",
                                    "CustomerId": "66",
                                    "val": "406.40",
                                    "pct": "5.77"
                                },
                                {
                                    "OrderId": "10287",
                                    "CustomerId": "67",
                                    "val": "819.00",
                                    "pct": "6.58"
                                },
                                {
                                    "OrderId": "10299",
                                    "CustomerId": "67",
                                    "val": "349.50",
                                    "pct": "2.81"
                                },
                                {
                                    "OrderId": "10447",
                                    "CustomerId": "67",
                                    "val": "914.40",
                                    "pct": "7.34"
                                },
                                {
                                    "OrderId": "10481",
                                    "CustomerId": "67",
                                    "val": "1472.00",
                                    "pct": "11.82"
                                },
                                {
                                    "OrderId": "10563",
                                    "CustomerId": "67",
                                    "val": "965.00",
                                    "pct": "7.75"
                                },
                                {
                                    "OrderId": "10622",
                                    "CustomerId": "67",
                                    "val": "560.00",
                                    "pct": "4.50"
                                },
                                {
                                    "OrderId": "10648",
                                    "CustomerId": "67",
                                    "val": "372.38",
                                    "pct": "2.99"
                                },
                                {
                                    "OrderId": "10813",
                                    "CustomerId": "67",
                                    "val": "602.40",
                                    "pct": "4.84"
                                },
                                {
                                    "OrderId": "10851",
                                    "CustomerId": "67",
                                    "val": "2603.00",
                                    "pct": "20.91"
                                },
                                {
                                    "OrderId": "10877",
                                    "CustomerId": "67",
                                    "val": "1955.13",
                                    "pct": "15.70"
                                },
                                {
                                    "OrderId": "11059",
                                    "CustomerId": "67",
                                    "val": "1838.00",
                                    "pct": "14.76"
                                },
                                {
                                    "OrderId": "10255",
                                    "CustomerId": "68",
                                    "val": "2490.50",
                                    "pct": "12.87"
                                },
                                {
                                    "OrderId": "10419",
                                    "CustomerId": "68",
                                    "val": "2097.60",
                                    "pct": "10.84"
                                },
                                {
                                    "OrderId": "10537",
                                    "CustomerId": "68",
                                    "val": "1823.80",
                                    "pct": "9.43"
                                },
                                {
                                    "OrderId": "10666",
                                    "CustomerId": "68",
                                    "val": "4666.94",
                                    "pct": "24.13"
                                },
                                {
                                    "OrderId": "10751",
                                    "CustomerId": "68",
                                    "val": "1631.48",
                                    "pct": "8.43"
                                },
                                {
                                    "OrderId": "10758",
                                    "CustomerId": "68",
                                    "val": "1644.60",
                                    "pct": "8.50"
                                },
                                {
                                    "OrderId": "10931",
                                    "CustomerId": "68",
                                    "val": "799.20",
                                    "pct": "4.13"
                                },
                                {
                                    "OrderId": "10951",
                                    "CustomerId": "68",
                                    "val": "458.76",
                                    "pct": "2.37"
                                },
                                {
                                    "OrderId": "11033",
                                    "CustomerId": "68",
                                    "val": "3232.80",
                                    "pct": "16.71"
                                },
                                {
                                    "OrderId": "11075",
                                    "CustomerId": "68",
                                    "val": "498.10",
                                    "pct": "2.57"
                                },
                                {
                                    "OrderId": "10281",
                                    "CustomerId": "69",
                                    "val": "86.50",
                                    "pct": "5.90"
                                },
                                {
                                    "OrderId": "10282",
                                    "CustomerId": "69",
                                    "val": "155.40",
                                    "pct": "10.59"
                                },
                                {
                                    "OrderId": "10306",
                                    "CustomerId": "69",
                                    "val": "498.50",
                                    "pct": "33.97"
                                },
                                {
                                    "OrderId": "10917",
                                    "CustomerId": "69",
                                    "val": "365.89",
                                    "pct": "24.94"
                                },
                                {
                                    "OrderId": "11013",
                                    "CustomerId": "69",
                                    "val": "361.00",
                                    "pct": "24.60"
                                },
                                {
                                    "OrderId": "10387",
                                    "CustomerId": "70",
                                    "val": "1058.40",
                                    "pct": "18.45"
                                },
                                {
                                    "OrderId": "10520",
                                    "CustomerId": "70",
                                    "val": "200.00",
                                    "pct": "3.49"
                                },
                                {
                                    "OrderId": "10639",
                                    "CustomerId": "70",
                                    "val": "500.00",
                                    "pct": "8.72"
                                },
                                {
                                    "OrderId": "10831",
                                    "CustomerId": "70",
                                    "val": "2684.40",
                                    "pct": "46.81"
                                },
                                {
                                    "OrderId": "10909",
                                    "CustomerId": "70",
                                    "val": "670.00",
                                    "pct": "11.68"
                                },
                                {
                                    "OrderId": "11015",
                                    "CustomerId": "70",
                                    "val": "622.35",
                                    "pct": "10.85"
                                },
                                {
                                    "OrderId": "10324",
                                    "CustomerId": "71",
                                    "val": "5275.72",
                                    "pct": "5.06"
                                },
                                {
                                    "OrderId": "10393",
                                    "CustomerId": "71",
                                    "val": "2556.95",
                                    "pct": "2.45"
                                },
                                {
                                    "OrderId": "10398",
                                    "CustomerId": "71",
                                    "val": "2505.60",
                                    "pct": "2.40"
                                },
                                {
                                    "OrderId": "10440",
                                    "CustomerId": "71",
                                    "val": "4924.14",
                                    "pct": "4.72"
                                },
                                {
                                    "OrderId": "10452",
                                    "CustomerId": "71",
                                    "val": "2018.50",
                                    "pct": "1.93"
                                },
                                {
                                    "OrderId": "10510",
                                    "CustomerId": "71",
                                    "val": "4707.54",
                                    "pct": "4.51"
                                },
                                {
                                    "OrderId": "10555",
                                    "CustomerId": "71",
                                    "val": "2944.40",
                                    "pct": "2.82"
                                },
                                {
                                    "OrderId": "10603",
                                    "CustomerId": "71",
                                    "val": "1483.00",
                                    "pct": "1.42"
                                },
                                {
                                    "OrderId": "10607",
                                    "CustomerId": "71",
                                    "val": "6475.40",
                                    "pct": "6.20"
                                },
                                {
                                    "OrderId": "10612",
                                    "CustomerId": "71",
                                    "val": "6375.00",
                                    "pct": "6.11"
                                },
                                {
                                    "OrderId": "10627",
                                    "CustomerId": "71",
                                    "val": "1185.75",
                                    "pct": "1.14"
                                },
                                {
                                    "OrderId": "10657",
                                    "CustomerId": "71",
                                    "val": "4371.60",
                                    "pct": "4.19"
                                },
                                {
                                    "OrderId": "10678",
                                    "CustomerId": "71",
                                    "val": "5256.50",
                                    "pct": "5.04"
                                },
                                {
                                    "OrderId": "10700",
                                    "CustomerId": "71",
                                    "val": "1638.40",
                                    "pct": "1.57"
                                },
                                {
                                    "OrderId": "10711",
                                    "CustomerId": "71",
                                    "val": "4451.70",
                                    "pct": "4.27"
                                },
                                {
                                    "OrderId": "10713",
                                    "CustomerId": "71",
                                    "val": "2827.90",
                                    "pct": "2.71"
                                },
                                {
                                    "OrderId": "10714",
                                    "CustomerId": "71",
                                    "val": "2205.75",
                                    "pct": "2.11"
                                },
                                {
                                    "OrderId": "10722",
                                    "CustomerId": "71",
                                    "val": "1570.00",
                                    "pct": "1.50"
                                },
                                {
                                    "OrderId": "10748",
                                    "CustomerId": "71",
                                    "val": "2196.00",
                                    "pct": "2.10"
                                },
                                {
                                    "OrderId": "10757",
                                    "CustomerId": "71",
                                    "val": "3082.00",
                                    "pct": "2.95"
                                },
                                {
                                    "OrderId": "10815",
                                    "CustomerId": "71",
                                    "val": "40.00",
                                    "pct": "0.04"
                                },
                                {
                                    "OrderId": "10847",
                                    "CustomerId": "71",
                                    "val": "4931.92",
                                    "pct": "4.73"
                                },
                                {
                                    "OrderId": "10882",
                                    "CustomerId": "71",
                                    "val": "892.64",
                                    "pct": "0.86"
                                },
                                {
                                    "OrderId": "10894",
                                    "CustomerId": "71",
                                    "val": "2753.10",
                                    "pct": "2.64"
                                },
                                {
                                    "OrderId": "10941",
                                    "CustomerId": "71",
                                    "val": "4011.75",
                                    "pct": "3.84"
                                },
                                {
                                    "OrderId": "10983",
                                    "CustomerId": "71",
                                    "val": "720.90",
                                    "pct": "0.69"
                                },
                                {
                                    "OrderId": "10984",
                                    "CustomerId": "71",
                                    "val": "1809.75",
                                    "pct": "1.73"
                                },
                                {
                                    "OrderId": "11002",
                                    "CustomerId": "71",
                                    "val": "1811.10",
                                    "pct": "1.74"
                                },
                                {
                                    "OrderId": "11030",
                                    "CustomerId": "71",
                                    "val": "12615.05",
                                    "pct": "12.09"
                                },
                                {
                                    "OrderId": "11031",
                                    "CustomerId": "71",
                                    "val": "2393.50",
                                    "pct": "2.29"
                                },
                                {
                                    "OrderId": "11064",
                                    "CustomerId": "71",
                                    "val": "4330.40",
                                    "pct": "4.15"
                                },
                                {
                                    "OrderId": "10359",
                                    "CustomerId": "72",
                                    "val": "3471.68",
                                    "pct": "21.41"
                                },
                                {
                                    "OrderId": "10377",
                                    "CustomerId": "72",
                                    "val": "863.60",
                                    "pct": "5.33"
                                },
                                {
                                    "OrderId": "10388",
                                    "CustomerId": "72",
                                    "val": "1228.80",
                                    "pct": "7.58"
                                },
                                {
                                    "OrderId": "10472",
                                    "CustomerId": "72",
                                    "val": "1036.80",
                                    "pct": "6.39"
                                },
                                {
                                    "OrderId": "10523",
                                    "CustomerId": "72",
                                    "val": "2444.31",
                                    "pct": "15.07"
                                },
                                {
                                    "OrderId": "10547",
                                    "CustomerId": "72",
                                    "val": "1792.80",
                                    "pct": "11.06"
                                },
                                {
                                    "OrderId": "10800",
                                    "CustomerId": "72",
                                    "val": "1468.94",
                                    "pct": "9.06"
                                },
                                {
                                    "OrderId": "10804",
                                    "CustomerId": "72",
                                    "val": "2278.40",
                                    "pct": "14.05"
                                },
                                {
                                    "OrderId": "10869",
                                    "CustomerId": "72",
                                    "val": "1630.00",
                                    "pct": "10.05"
                                },
                                {
                                    "OrderId": "10341",
                                    "CustomerId": "73",
                                    "val": "352.60",
                                    "pct": "2.10"
                                },
                                {
                                    "OrderId": "10417",
                                    "CustomerId": "73",
                                    "val": "11188.40",
                                    "pct": "66.53"
                                },
                                {
                                    "OrderId": "10556",
                                    "CustomerId": "73",
                                    "val": "835.20",
                                    "pct": "4.97"
                                },
                                {
                                    "OrderId": "10642",
                                    "CustomerId": "73",
                                    "val": "696.00",
                                    "pct": "4.14"
                                },
                                {
                                    "OrderId": "10669",
                                    "CustomerId": "73",
                                    "val": "570.00",
                                    "pct": "3.39"
                                },
                                {
                                    "OrderId": "10802",
                                    "CustomerId": "73",
                                    "val": "2942.81",
                                    "pct": "17.50"
                                },
                                {
                                    "OrderId": "11074",
                                    "CustomerId": "73",
                                    "val": "232.09",
                                    "pct": "1.38"
                                },
                                {
                                    "OrderId": "10738",
                                    "CustomerId": "74",
                                    "val": "52.35",
                                    "pct": "2.16"
                                },
                                {
                                    "OrderId": "10907",
                                    "CustomerId": "74",
                                    "val": "108.50",
                                    "pct": "4.48"
                                },
                                {
                                    "OrderId": "10964",
                                    "CustomerId": "74",
                                    "val": "2052.50",
                                    "pct": "84.70"
                                },
                                {
                                    "OrderId": "11043",
                                    "CustomerId": "74",
                                    "val": "210.00",
                                    "pct": "8.67"
                                },
                                {
                                    "OrderId": "10271",
                                    "CustomerId": "75",
                                    "val": "48.00",
                                    "pct": "0.42"
                                },
                                {
                                    "OrderId": "10329",
                                    "CustomerId": "75",
                                    "val": "4578.43",
                                    "pct": "40.02"
                                },
                                {
                                    "OrderId": "10349",
                                    "CustomerId": "75",
                                    "val": "141.60",
                                    "pct": "1.24"
                                },
                                {
                                    "OrderId": "10369",
                                    "CustomerId": "75",
                                    "val": "2390.40",
                                    "pct": "20.89"
                                },
                                {
                                    "OrderId": "10385",
                                    "CustomerId": "75",
                                    "val": "691.20",
                                    "pct": "6.04"
                                },
                                {
                                    "OrderId": "10432",
                                    "CustomerId": "75",
                                    "val": "485.00",
                                    "pct": "4.24"
                                },
                                {
                                    "OrderId": "10756",
                                    "CustomerId": "75",
                                    "val": "1990.00",
                                    "pct": "17.39"
                                },
                                {
                                    "OrderId": "10821",
                                    "CustomerId": "75",
                                    "val": "678.00",
                                    "pct": "5.93"
                                },
                                {
                                    "OrderId": "10974",
                                    "CustomerId": "75",
                                    "val": "439.00",
                                    "pct": "3.84"
                                },
                                {
                                    "OrderId": "10252",
                                    "CustomerId": "76",
                                    "val": "3597.90",
                                    "pct": "14.94"
                                },
                                {
                                    "OrderId": "10302",
                                    "CustomerId": "76",
                                    "val": "2708.80",
                                    "pct": "11.25"
                                },
                                {
                                    "OrderId": "10458",
                                    "CustomerId": "76",
                                    "val": "3891.00",
                                    "pct": "16.15"
                                },
                                {
                                    "OrderId": "10463",
                                    "CustomerId": "76",
                                    "val": "713.30",
                                    "pct": "2.96"
                                },
                                {
                                    "OrderId": "10475",
                                    "CustomerId": "76",
                                    "val": "1505.18",
                                    "pct": "6.25"
                                },
                                {
                                    "OrderId": "10767",
                                    "CustomerId": "76",
                                    "val": "28.00",
                                    "pct": "0.12"
                                },
                                {
                                    "OrderId": "10841",
                                    "CustomerId": "76",
                                    "val": "4581.00",
                                    "pct": "19.02"
                                },
                                {
                                    "OrderId": "10846",
                                    "CustomerId": "76",
                                    "val": "1112.00",
                                    "pct": "4.62"
                                },
                                {
                                    "OrderId": "10885",
                                    "CustomerId": "76",
                                    "val": "1209.00",
                                    "pct": "5.02"
                                },
                                {
                                    "OrderId": "10930",
                                    "CustomerId": "76",
                                    "val": "2255.50",
                                    "pct": "9.36"
                                },
                                {
                                    "OrderId": "11035",
                                    "CustomerId": "76",
                                    "val": "1754.50",
                                    "pct": "7.28"
                                },
                                {
                                    "OrderId": "11038",
                                    "CustomerId": "76",
                                    "val": "732.60",
                                    "pct": "3.04"
                                },
                                {
                                    "OrderId": "10310",
                                    "CustomerId": "77",
                                    "val": "336.00",
                                    "pct": "10.00"
                                },
                                {
                                    "OrderId": "10708",
                                    "CustomerId": "77",
                                    "val": "180.40",
                                    "pct": "5.37"
                                },
                                {
                                    "OrderId": "10805",
                                    "CustomerId": "77",
                                    "val": "2775.00",
                                    "pct": "82.56"
                                },
                                {
                                    "OrderId": "10992",
                                    "CustomerId": "77",
                                    "val": "69.60",
                                    "pct": "2.07"
                                },
                                {
                                    "OrderId": "10624",
                                    "CustomerId": "78",
                                    "val": "1393.24",
                                    "pct": "71.55"
                                },
                                {
                                    "OrderId": "10775",
                                    "CustomerId": "78",
                                    "val": "228.00",
                                    "pct": "11.71"
                                },
                                {
                                    "OrderId": "11003",
                                    "CustomerId": "78",
                                    "val": "326.00",
                                    "pct": "16.74"
                                },
                                {
                                    "OrderId": "10249",
                                    "CustomerId": "79",
                                    "val": "1863.40",
                                    "pct": "39.00"
                                },
                                {
                                    "OrderId": "10438",
                                    "CustomerId": "79",
                                    "val": "454.00",
                                    "pct": "9.50"
                                },
                                {
                                    "OrderId": "10446",
                                    "CustomerId": "79",
                                    "val": "246.24",
                                    "pct": "5.15"
                                },
                                {
                                    "OrderId": "10548",
                                    "CustomerId": "79",
                                    "val": "240.10",
                                    "pct": "5.02"
                                },
                                {
                                    "OrderId": "10608",
                                    "CustomerId": "79",
                                    "val": "1064.00",
                                    "pct": "22.27"
                                },
                                {
                                    "OrderId": "10967",
                                    "CustomerId": "79",
                                    "val": "910.40",
                                    "pct": "19.05"
                                },
                                {
                                    "OrderId": "10276",
                                    "CustomerId": "80",
                                    "val": "420.00",
                                    "pct": "3.88"
                                },
                                {
                                    "OrderId": "10293",
                                    "CustomerId": "80",
                                    "val": "848.70",
                                    "pct": "7.85"
                                },
                                {
                                    "OrderId": "10304",
                                    "CustomerId": "80",
                                    "val": "954.40",
                                    "pct": "8.83"
                                },
                                {
                                    "OrderId": "10319",
                                    "CustomerId": "80",
                                    "val": "1191.20",
                                    "pct": "11.02"
                                },
                                {
                                    "OrderId": "10518",
                                    "CustomerId": "80",
                                    "val": "4150.05",
                                    "pct": "38.38"
                                },
                                {
                                    "OrderId": "10576",
                                    "CustomerId": "80",
                                    "val": "838.45",
                                    "pct": "7.75"
                                },
                                {
                                    "OrderId": "10676",
                                    "CustomerId": "80",
                                    "val": "534.85",
                                    "pct": "4.95"
                                },
                                {
                                    "OrderId": "10842",
                                    "CustomerId": "80",
                                    "val": "975.00",
                                    "pct": "9.02"
                                },
                                {
                                    "OrderId": "10915",
                                    "CustomerId": "80",
                                    "val": "539.50",
                                    "pct": "4.99"
                                },
                                {
                                    "OrderId": "11069",
                                    "CustomerId": "80",
                                    "val": "360.00",
                                    "pct": "3.33"
                                },
                                {
                                    "OrderId": "10292",
                                    "CustomerId": "81",
                                    "val": "1296.00",
                                    "pct": "18.92"
                                },
                                {
                                    "OrderId": "10496",
                                    "CustomerId": "81",
                                    "val": "190.00",
                                    "pct": "2.77"
                                },
                                {
                                    "OrderId": "10606",
                                    "CustomerId": "81",
                                    "val": "1130.40",
                                    "pct": "16.50"
                                },
                                {
                                    "OrderId": "10830",
                                    "CustomerId": "81",
                                    "val": "1974.00",
                                    "pct": "28.81"
                                },
                                {
                                    "OrderId": "10834",
                                    "CustomerId": "81",
                                    "val": "1432.71",
                                    "pct": "20.91"
                                },
                                {
                                    "OrderId": "10839",
                                    "CustomerId": "81",
                                    "val": "827.55",
                                    "pct": "12.08"
                                },
                                {
                                    "OrderId": "10574",
                                    "CustomerId": "82",
                                    "val": "764.30",
                                    "pct": "48.64"
                                },
                                {
                                    "OrderId": "10577",
                                    "CustomerId": "82",
                                    "val": "569.00",
                                    "pct": "36.21"
                                },
                                {
                                    "OrderId": "10822",
                                    "CustomerId": "82",
                                    "val": "237.90",
                                    "pct": "15.14"
                                },
                                {
                                    "OrderId": "10367",
                                    "CustomerId": "83",
                                    "val": "834.20",
                                    "pct": "5.27"
                                },
                                {
                                    "OrderId": "10399",
                                    "CustomerId": "83",
                                    "val": "1765.60",
                                    "pct": "11.14"
                                },
                                {
                                    "OrderId": "10465",
                                    "CustomerId": "83",
                                    "val": "2518.00",
                                    "pct": "15.89"
                                },
                                {
                                    "OrderId": "10591",
                                    "CustomerId": "83",
                                    "val": "812.50",
                                    "pct": "5.13"
                                },
                                {
                                    "OrderId": "10602",
                                    "CustomerId": "83",
                                    "val": "48.75",
                                    "pct": "0.31"
                                },
                                {
                                    "OrderId": "10688",
                                    "CustomerId": "83",
                                    "val": "3160.60",
                                    "pct": "19.95"
                                },
                                {
                                    "OrderId": "10744",
                                    "CustomerId": "83",
                                    "val": "736.00",
                                    "pct": "4.65"
                                },
                                {
                                    "OrderId": "10769",
                                    "CustomerId": "83",
                                    "val": "1684.28",
                                    "pct": "10.63"
                                },
                                {
                                    "OrderId": "10921",
                                    "CustomerId": "83",
                                    "val": "1936.00",
                                    "pct": "12.22"
                                },
                                {
                                    "OrderId": "10946",
                                    "CustomerId": "83",
                                    "val": "1407.50",
                                    "pct": "8.88"
                                },
                                {
                                    "OrderId": "10994",
                                    "CustomerId": "83",
                                    "val": "940.50",
                                    "pct": "5.94"
                                },
                                {
                                    "OrderId": "10251",
                                    "CustomerId": "84",
                                    "val": "654.06",
                                    "pct": "7.12"
                                },
                                {
                                    "OrderId": "10334",
                                    "CustomerId": "84",
                                    "val": "144.80",
                                    "pct": "1.58"
                                },
                                {
                                    "OrderId": "10450",
                                    "CustomerId": "84",
                                    "val": "425.12",
                                    "pct": "4.63"
                                },
                                {
                                    "OrderId": "10459",
                                    "CustomerId": "84",
                                    "val": "1659.20",
                                    "pct": "18.07"
                                },
                                {
                                    "OrderId": "10478",
                                    "CustomerId": "84",
                                    "val": "471.20",
                                    "pct": "5.13"
                                },
                                {
                                    "OrderId": "10546",
                                    "CustomerId": "84",
                                    "val": "2812.00",
                                    "pct": "30.62"
                                },
                                {
                                    "OrderId": "10806",
                                    "CustomerId": "84",
                                    "val": "439.60",
                                    "pct": "4.79"
                                },
                                {
                                    "OrderId": "10814",
                                    "CustomerId": "84",
                                    "val": "1788.45",
                                    "pct": "19.48"
                                },
                                {
                                    "OrderId": "10843",
                                    "CustomerId": "84",
                                    "val": "159.00",
                                    "pct": "1.73"
                                },
                                {
                                    "OrderId": "10850",
                                    "CustomerId": "84",
                                    "val": "629.00",
                                    "pct": "6.85"
                                },
                                {
                                    "OrderId": "10248",
                                    "CustomerId": "85",
                                    "val": "440.00",
                                    "pct": "29.73"
                                },
                                {
                                    "OrderId": "10274",
                                    "CustomerId": "85",
                                    "val": "538.60",
                                    "pct": "36.39"
                                },
                                {
                                    "OrderId": "10295",
                                    "CustomerId": "85",
                                    "val": "121.60",
                                    "pct": "8.22"
                                },
                                {
                                    "OrderId": "10737",
                                    "CustomerId": "85",
                                    "val": "139.80",
                                    "pct": "9.45"
                                },
                                {
                                    "OrderId": "10739",
                                    "CustomerId": "85",
                                    "val": "240.00",
                                    "pct": "16.22"
                                },
                                {
                                    "OrderId": "10301",
                                    "CustomerId": "86",
                                    "val": "755.00",
                                    "pct": "7.87"
                                },
                                {
                                    "OrderId": "10312",
                                    "CustomerId": "86",
                                    "val": "1614.80",
                                    "pct": "16.84"
                                },
                                {
                                    "OrderId": "10348",
                                    "CustomerId": "86",
                                    "val": "363.60",
                                    "pct": "3.79"
                                },
                                {
                                    "OrderId": "10356",
                                    "CustomerId": "86",
                                    "val": "1106.40",
                                    "pct": "11.54"
                                },
                                {
                                    "OrderId": "10513",
                                    "CustomerId": "86",
                                    "val": "1942.00",
                                    "pct": "20.25"
                                },
                                {
                                    "OrderId": "10632",
                                    "CustomerId": "86",
                                    "val": "589.00",
                                    "pct": "6.14"
                                },
                                {
                                    "OrderId": "10640",
                                    "CustomerId": "86",
                                    "val": "708.75",
                                    "pct": "7.39"
                                },
                                {
                                    "OrderId": "10651",
                                    "CustomerId": "86",
                                    "val": "397.80",
                                    "pct": "4.15"
                                },
                                {
                                    "OrderId": "10668",
                                    "CustomerId": "86",
                                    "val": "625.28",
                                    "pct": "6.52"
                                },
                                {
                                    "OrderId": "11046",
                                    "CustomerId": "86",
                                    "val": "1485.80",
                                    "pct": "15.50"
                                },
                                {
                                    "OrderId": "10266",
                                    "CustomerId": "87",
                                    "val": "346.56",
                                    "pct": "2.21"
                                },
                                {
                                    "OrderId": "10270",
                                    "CustomerId": "87",
                                    "val": "1376.00",
                                    "pct": "8.79"
                                },
                                {
                                    "OrderId": "10320",
                                    "CustomerId": "87",
                                    "val": "516.00",
                                    "pct": "3.30"
                                },
                                {
                                    "OrderId": "10333",
                                    "CustomerId": "87",
                                    "val": "877.20",
                                    "pct": "5.61"
                                },
                                {
                                    "OrderId": "10412",
                                    "CustomerId": "87",
                                    "val": "334.80",
                                    "pct": "2.14"
                                },
                                {
                                    "OrderId": "10416",
                                    "CustomerId": "87",
                                    "val": "720.00",
                                    "pct": "4.60"
                                },
                                {
                                    "OrderId": "10437",
                                    "CustomerId": "87",
                                    "val": "393.00",
                                    "pct": "2.51"
                                },
                                {
                                    "OrderId": "10455",
                                    "CustomerId": "87",
                                    "val": "2684.00",
                                    "pct": "17.15"
                                },
                                {
                                    "OrderId": "10526",
                                    "CustomerId": "87",
                                    "val": "1151.40",
                                    "pct": "7.36"
                                },
                                {
                                    "OrderId": "10553",
                                    "CustomerId": "87",
                                    "val": "1546.30",
                                    "pct": "9.88"
                                },
                                {
                                    "OrderId": "10583",
                                    "CustomerId": "87",
                                    "val": "2237.50",
                                    "pct": "14.30"
                                },
                                {
                                    "OrderId": "10636",
                                    "CustomerId": "87",
                                    "val": "629.50",
                                    "pct": "4.02"
                                },
                                {
                                    "OrderId": "10750",
                                    "CustomerId": "87",
                                    "val": "1590.56",
                                    "pct": "10.16"
                                },
                                {
                                    "OrderId": "10781",
                                    "CustomerId": "87",
                                    "val": "975.88",
                                    "pct": "6.24"
                                },
                                {
                                    "OrderId": "11025",
                                    "CustomerId": "87",
                                    "val": "270.00",
                                    "pct": "1.73"
                                },
                                {
                                    "OrderId": "10256",
                                    "CustomerId": "88",
                                    "val": "517.80",
                                    "pct": "8.53"
                                },
                                {
                                    "OrderId": "10420",
                                    "CustomerId": "88",
                                    "val": "1707.84",
                                    "pct": "28.14"
                                },
                                {
                                    "OrderId": "10585",
                                    "CustomerId": "88",
                                    "val": "142.50",
                                    "pct": "2.35"
                                },
                                {
                                    "OrderId": "10644",
                                    "CustomerId": "88",
                                    "val": "1371.80",
                                    "pct": "22.61"
                                },
                                {
                                    "OrderId": "10803",
                                    "CustomerId": "88",
                                    "val": "1193.01",
                                    "pct": "19.66"
                                },
                                {
                                    "OrderId": "10809",
                                    "CustomerId": "88",
                                    "val": "140.00",
                                    "pct": "2.31"
                                },
                                {
                                    "OrderId": "10900",
                                    "CustomerId": "88",
                                    "val": "33.75",
                                    "pct": "0.56"
                                },
                                {
                                    "OrderId": "10905",
                                    "CustomerId": "88",
                                    "val": "342.00",
                                    "pct": "5.64"
                                },
                                {
                                    "OrderId": "10935",
                                    "CustomerId": "88",
                                    "val": "619.50",
                                    "pct": "10.21"
                                },
                                {
                                    "OrderId": "10269",
                                    "CustomerId": "89",
                                    "val": "642.20",
                                    "pct": "2.35"
                                },
                                {
                                    "OrderId": "10344",
                                    "CustomerId": "89",
                                    "val": "2296.00",
                                    "pct": "8.39"
                                },
                                {
                                    "OrderId": "10469",
                                    "CustomerId": "89",
                                    "val": "956.68",
                                    "pct": "3.50"
                                },
                                {
                                    "OrderId": "10483",
                                    "CustomerId": "89",
                                    "val": "668.80",
                                    "pct": "2.44"
                                },
                                {
                                    "OrderId": "10504",
                                    "CustomerId": "89",
                                    "val": "1388.50",
                                    "pct": "5.07"
                                },
                                {
                                    "OrderId": "10596",
                                    "CustomerId": "89",
                                    "val": "1180.88",
                                    "pct": "4.32"
                                },
                                {
                                    "OrderId": "10693",
                                    "CustomerId": "89",
                                    "val": "2071.20",
                                    "pct": "7.57"
                                },
                                {
                                    "OrderId": "10696",
                                    "CustomerId": "89",
                                    "val": "996.00",
                                    "pct": "3.64"
                                },
                                {
                                    "OrderId": "10723",
                                    "CustomerId": "89",
                                    "val": "468.45",
                                    "pct": "1.71"
                                },
                                {
                                    "OrderId": "10740",
                                    "CustomerId": "89",
                                    "val": "1416.00",
                                    "pct": "5.17"
                                },
                                {
                                    "OrderId": "10861",
                                    "CustomerId": "89",
                                    "val": "3523.40",
                                    "pct": "12.88"
                                },
                                {
                                    "OrderId": "10904",
                                    "CustomerId": "89",
                                    "val": "1924.25",
                                    "pct": "7.03"
                                },
                                {
                                    "OrderId": "11032",
                                    "CustomerId": "89",
                                    "val": "8902.50",
                                    "pct": "32.53"
                                },
                                {
                                    "OrderId": "11066",
                                    "CustomerId": "89",
                                    "val": "928.75",
                                    "pct": "3.39"
                                },
                                {
                                    "OrderId": "10615",
                                    "CustomerId": "90",
                                    "val": "120.00",
                                    "pct": "3.80"
                                },
                                {
                                    "OrderId": "10673",
                                    "CustomerId": "90",
                                    "val": "412.35",
                                    "pct": "13.04"
                                },
                                {
                                    "OrderId": "10695",
                                    "CustomerId": "90",
                                    "val": "642.00",
                                    "pct": "20.31"
                                },
                                {
                                    "OrderId": "10873",
                                    "CustomerId": "90",
                                    "val": "336.80",
                                    "pct": "10.65"
                                },
                                {
                                    "OrderId": "10879",
                                    "CustomerId": "90",
                                    "val": "611.30",
                                    "pct": "19.34"
                                },
                                {
                                    "OrderId": "10910",
                                    "CustomerId": "90",
                                    "val": "452.90",
                                    "pct": "14.33"
                                },
                                {
                                    "OrderId": "11005",
                                    "CustomerId": "90",
                                    "val": "586.00",
                                    "pct": "18.54"
                                },
                                {
                                    "OrderId": "10374",
                                    "CustomerId": "91",
                                    "val": "459.00",
                                    "pct": "13.00"
                                },
                                {
                                    "OrderId": "10611",
                                    "CustomerId": "91",
                                    "val": "808.00",
                                    "pct": "22.88"
                                },
                                {
                                    "OrderId": "10792",
                                    "CustomerId": "91",
                                    "val": "399.85",
                                    "pct": "11.32"
                                },
                                {
                                    "OrderId": "10870",
                                    "CustomerId": "91",
                                    "val": "160.00",
                                    "pct": "4.53"
                                },
                                {
                                    "OrderId": "10906",
                                    "CustomerId": "91",
                                    "val": "427.50",
                                    "pct": "12.10"
                                },
                                {
                                    "OrderId": "10998",
                                    "CustomerId": "91",
                                    "val": "686.00",
                                    "pct": "19.42"
                                },
                                {
                                    "OrderId": "11044",
                                    "CustomerId": "91",
                                    "val": "591.60",
                                    "pct": "16.75"
                                }
                            ]
                        },
                        "text/html": [
                            "<table>",
                            "<tr><th>OrderId</th><th>CustomerId</th><th>val</th><th>pct</th></tr>",
                            "<tr><td>10643</td><td>1</td><td>814.50</td><td>19.06</td></tr>",
                            "<tr><td>10692</td><td>1</td><td>878.00</td><td>20.55</td></tr>",
                            "<tr><td>10702</td><td>1</td><td>330.00</td><td>7.72</td></tr>",
                            "<tr><td>10835</td><td>1</td><td>845.80</td><td>19.79</td></tr>",
                            "<tr><td>10952</td><td>1</td><td>471.20</td><td>11.03</td></tr>",
                            "<tr><td>11011</td><td>1</td><td>933.50</td><td>21.85</td></tr>",
                            "<tr><td>10308</td><td>2</td><td>88.80</td><td>6.33</td></tr>",
                            "<tr><td>10625</td><td>2</td><td>479.75</td><td>34.20</td></tr>",
                            "<tr><td>10759</td><td>2</td><td>320.00</td><td>22.81</td></tr>",
                            "<tr><td>10926</td><td>2</td><td>514.40</td><td>36.67</td></tr>",
                            "<tr><td>10365</td><td>3</td><td>403.20</td><td>5.74</td></tr>",
                            "<tr><td>10507</td><td>3</td><td>749.06</td><td>10.66</td></tr>",
                            "<tr><td>10535</td><td>3</td><td>1940.85</td><td>27.63</td></tr>",
                            "<tr><td>10573</td><td>3</td><td>2082.00</td><td>29.64</td></tr>",
                            "<tr><td>10677</td><td>3</td><td>813.37</td><td>11.58</td></tr>",
                            "<tr><td>10682</td><td>3</td><td>375.50</td><td>5.35</td></tr>",
                            "<tr><td>10856</td><td>3</td><td>660.00</td><td>9.40</td></tr>",
                            "<tr><td>10355</td><td>4</td><td>480.00</td><td>3.58</td></tr>",
                            "<tr><td>10383</td><td>4</td><td>899.00</td><td>6.71</td></tr>",
                            "<tr><td>10453</td><td>4</td><td>407.70</td><td>3.04</td></tr>",
                            "<tr><td>10558</td><td>4</td><td>2142.90</td><td>16.00</td></tr>",
                            "<tr><td>10707</td><td>4</td><td>1641.00</td><td>12.25</td></tr>",
                            "<tr><td>10741</td><td>4</td><td>228.00</td><td>1.70</td></tr>",
                            "<tr><td>10743</td><td>4</td><td>319.20</td><td>2.38</td></tr>",
                            "<tr><td>10768</td><td>4</td><td>1477.00</td><td>11.03</td></tr>",
                            "<tr><td>10793</td><td>4</td><td>191.10</td><td>1.43</td></tr>",
                            "<tr><td>10864</td><td>4</td><td>282.00</td><td>2.11</td></tr>",
                            "<tr><td>10920</td><td>4</td><td>390.00</td><td>2.91</td></tr>",
                            "<tr><td>10953</td><td>4</td><td>4441.25</td><td>33.17</td></tr>",
                            "<tr><td>11016</td><td>4</td><td>491.50</td><td>3.67</td></tr>",
                            "<tr><td>10278</td><td>5</td><td>1488.80</td><td>5.97</td></tr>",
                            "<tr><td>10280</td><td>5</td><td>613.20</td><td>2.46</td></tr>",
                            "<tr><td>10384</td><td>5</td><td>2222.40</td><td>8.92</td></tr>",
                            "<tr><td>10444</td><td>5</td><td>1031.70</td><td>4.14</td></tr>",
                            "<tr><td>10445</td><td>5</td><td>174.90</td><td>0.70</td></tr>",
                            "<tr><td>10524</td><td>5</td><td>3192.65</td><td>12.81</td></tr>",
                            "<tr><td>10572</td><td>5</td><td>1501.09</td><td>6.02</td></tr>",
                            "<tr><td>10626</td><td>5</td><td>1503.60</td><td>6.03</td></tr>",
                            "<tr><td>10654</td><td>5</td><td>601.83</td><td>2.41</td></tr>",
                            "<tr><td>10672</td><td>5</td><td>3815.25</td><td>15.31</td></tr>",
                            "<tr><td>10689</td><td>5</td><td>472.50</td><td>1.90</td></tr>",
                            "<tr><td>10733</td><td>5</td><td>1459.00</td><td>5.85</td></tr>",
                            "<tr><td>10778</td><td>5</td><td>96.50</td><td>0.39</td></tr>",
                            "<tr><td>10837</td><td>5</td><td>1064.50</td><td>4.27</td></tr>",
                            "<tr><td>10857</td><td>5</td><td>2048.21</td><td>8.22</td></tr>",
                            "<tr><td>10866</td><td>5</td><td>1096.20</td><td>4.40</td></tr>",
                            "<tr><td>10875</td><td>5</td><td>709.55</td><td>2.85</td></tr>",
                            "<tr><td>10924</td><td>5</td><td>1835.70</td><td>7.36</td></tr>",
                            "<tr><td>10501</td><td>6</td><td>149.00</td><td>4.60</td></tr>",
                            "<tr><td>10509</td><td>6</td><td>136.80</td><td>4.22</td></tr>",
                            "<tr><td>10582</td><td>6</td><td>330.00</td><td>10.19</td></tr>",
                            "<tr><td>10614</td><td>6</td><td>464.00</td><td>14.32</td></tr>",
                            "<tr><td>10853</td><td>6</td><td>625.00</td><td>19.29</td></tr>",
                            "<tr><td>10956</td><td>6</td><td>677.00</td><td>20.90</td></tr>",
                            "<tr><td>11058</td><td>6</td><td>858.00</td><td>26.48</td></tr>",
                            "<tr><td>10265</td><td>7</td><td>1176.00</td><td>6.35</td></tr>",
                            "<tr><td>10297</td><td>7</td><td>1420.00</td><td>7.66</td></tr>",
                            "<tr><td>10360</td><td>7</td><td>7390.20</td><td>39.87</td></tr>",
                            "<tr><td>10436</td><td>7</td><td>1994.52</td><td>10.76</td></tr>",
                            "<tr><td>10449</td><td>7</td><td>1838.20</td><td>9.92</td></tr>",
                            "<tr><td>10559</td><td>7</td><td>520.41</td><td>2.81</td></tr>",
                            "<tr><td>10566</td><td>7</td><td>1761.00</td><td>9.50</td></tr>",
                            "<tr><td>10584</td><td>7</td><td>593.75</td><td>3.20</td></tr>",
                            "<tr><td>10628</td><td>7</td><td>450.00</td><td>2.43</td></tr>",
                            "<tr><td>10679</td><td>7</td><td>660.00</td><td>3.56</td></tr>",
                            "<tr><td>10826</td><td>7</td><td>730.00</td><td>3.94</td></tr>",
                            "<tr><td>10326</td><td>8</td><td>982.00</td><td>23.20</td></tr>",
                            "<tr><td>10801</td><td>8</td><td>3026.85</td><td>71.51</td></tr>",
                            "<tr><td>10970</td><td>8</td><td>224.00</td><td>5.29</td></tr>",
                            "<tr><td>10331</td><td>9</td><td>88.50</td><td>0.40</td></tr>",
                            "<tr><td>10340</td><td>9</td><td>2436.18</td><td>11.09</td></tr>",
                            "<tr><td>10362</td><td>9</td><td>1549.60</td><td>7.06</td></tr>",
                            "<tr><td>10470</td><td>9</td><td>1820.80</td><td>8.29</td></tr>",
                            "<tr><td>10511</td><td>9</td><td>2550.00</td><td>11.61</td></tr>",
                            "<tr><td>10525</td><td>9</td><td>818.40</td><td>3.73</td></tr>",
                            "<tr><td>10663</td><td>9</td><td>1930.40</td><td>8.79</td></tr>",
                            "<tr><td>10715</td><td>9</td><td>1296.00</td><td>5.90</td></tr>",
                            "<tr><td>10730</td><td>9</td><td>484.26</td><td>2.20</td></tr>",
                            "<tr><td>10732</td><td>9</td><td>360.00</td><td>1.64</td></tr>",
                            "<tr><td>10755</td><td>9</td><td>1948.50</td><td>8.87</td></tr>",
                            "<tr><td>10827</td><td>9</td><td>843.00</td><td>3.84</td></tr>",
                            "<tr><td>10871</td><td>9</td><td>1979.23</td><td>9.01</td></tr>",
                            "<tr><td>10876</td><td>9</td><td>917.00</td><td>4.18</td></tr>",
                            "<tr><td>10932</td><td>9</td><td>1788.63</td><td>8.14</td></tr>",
                            "<tr><td>10940</td><td>9</td><td>360.00</td><td>1.64</td></tr>",
                            "<tr><td>11076</td><td>9</td><td>792.75</td><td>3.61</td></tr>",
                            "<tr><td>10389</td><td>10</td><td>1832.80</td><td>8.81</td></tr>",
                            "<tr><td>10410</td><td>10</td><td>802.00</td><td>3.86</td></tr>",
                            "<tr><td>10411</td><td>10</td><td>966.80</td><td>4.65</td></tr>",
                            "<tr><td>10431</td><td>10</td><td>1892.25</td><td>9.10</td></tr>",
                            "<tr><td>10492</td><td>10</td><td>851.20</td><td>4.09</td></tr>",
                            "<tr><td>10742</td><td>10</td><td>3118.00</td><td>14.99</td></tr>",
                            "<tr><td>10918</td><td>10</td><td>1447.50</td><td>6.96</td></tr>",
                            "<tr><td>10944</td><td>10</td><td>1025.33</td><td>4.93</td></tr>",
                            "<tr><td>10949</td><td>10</td><td>4422.00</td><td>21.26</td></tr>",
                            "<tr><td>10975</td><td>10</td><td>717.50</td><td>3.45</td></tr>",
                            "<tr><td>10982</td><td>10</td><td>1014.00</td><td>4.87</td></tr>",
                            "<tr><td>11027</td><td>10</td><td>877.73</td><td>4.22</td></tr>",
                            "<tr><td>11045</td><td>10</td><td>1309.50</td><td>6.30</td></tr>",
                            "<tr><td>11048</td><td>10</td><td>525.00</td><td>2.52</td></tr>",
                            "<tr><td>10289</td><td>11</td><td>479.40</td><td>7.87</td></tr>",
                            "<tr><td>10471</td><td>11</td><td>1328.00</td><td>21.81</td></tr>",
                            "<tr><td>10484</td><td>11</td><td>386.20</td><td>6.34</td></tr>",
                            "<tr><td>10538</td><td>11</td><td>139.80</td><td>2.30</td></tr>",
                            "<tr><td>10539</td><td>11</td><td>355.50</td><td>5.84</td></tr>",
                            "<tr><td>10578</td><td>11</td><td>477.00</td><td>7.83</td></tr>",
                            "<tr><td>10599</td><td>11</td><td>493.00</td><td>8.10</td></tr>",
                            "<tr><td>10943</td><td>11</td><td>711.00</td><td>11.68</td></tr>",
                            "<tr><td>10947</td><td>11</td><td>220.00</td><td>3.61</td></tr>",
                            "<tr><td>11023</td><td>11</td><td>1500.00</td><td>24.63</td></tr>",
                            "<tr><td>10521</td><td>12</td><td>225.50</td><td>12.43</td></tr>",
                            "<tr><td>10782</td><td>12</td><td>12.50</td><td>0.69</td></tr>",
                            "<tr><td>10819</td><td>12</td><td>477.00</td><td>26.28</td></tr>",
                            "<tr><td>10881</td><td>12</td><td>150.00</td><td>8.27</td></tr>",
                            "<tr><td>10937</td><td>12</td><td>644.80</td><td>35.53</td></tr>",
                            "<tr><td>11054</td><td>12</td><td>305.00</td><td>16.81</td></tr>",
                            "<tr><td>10259</td><td>13</td><td>100.80</td><td>100.00</td></tr>",
                            "<tr><td>10254</td><td>14</td><td>556.62</td><td>4.51</td></tr>",
                            "<tr><td>10370</td><td>14</td><td>1117.60</td><td>9.05</td></tr>",
                            "<tr><td>10519</td><td>14</td><td>2314.20</td><td>18.74</td></tr>",
                            "<tr><td>10731</td><td>14</td><td>1890.50</td><td>15.31</td></tr>",
                            "<tr><td>10746</td><td>14</td><td>2311.70</td><td>18.72</td></tr>",
                            "<tr><td>10966</td><td>14</td><td>1098.46</td><td>8.90</td></tr>",
                            "<tr><td>11029</td><td>14</td><td>1286.80</td><td>10.42</td></tr>",
                            "<tr><td>11041</td><td>14</td><td>1773.00</td><td>14.36</td></tr>",
                            "<tr><td>10290</td><td>15</td><td>2169.00</td><td>56.92</td></tr>",
                            "<tr><td>10466</td><td>15</td><td>216.00</td><td>5.67</td></tr>",
                            "<tr><td>10494</td><td>15</td><td>912.00</td><td>23.93</td></tr>",
                            "<tr><td>10969</td><td>15</td><td>108.00</td><td>2.83</td></tr>",
                            "<tr><td>11042</td><td>15</td><td>405.75</td><td>10.65</td></tr>",
                            "<tr><td>10435</td><td>16</td><td>631.60</td><td>36.74</td></tr>",
                            "<tr><td>10462</td><td>16</td><td>156.00</td><td>9.07</td></tr>",
                            "<tr><td>10848</td><td>16</td><td>931.50</td><td>54.19</td></tr>",
                            "<tr><td>10363</td><td>17</td><td>447.20</td><td>11.88</td></tr>",
                            "<tr><td>10391</td><td>17</td><td>86.40</td><td>2.30</td></tr>",
                            "<tr><td>10797</td><td>17</td><td>420.00</td><td>11.16</td></tr>",
                            "<tr><td>10825</td><td>17</td><td>1030.76</td><td>27.39</td></tr>",
                            "<tr><td>11036</td><td>17</td><td>1692.00</td><td>44.96</td></tr>",
                            "<tr><td>11067</td><td>17</td><td>86.85</td><td>2.31</td></tr>",
                            "<tr><td>10311</td><td>18</td><td>268.80</td><td>16.63</td></tr>",
                            "<tr><td>10609</td><td>18</td><td>424.00</td><td>26.24</td></tr>",
                            "<tr><td>10683</td><td>18</td><td>63.00</td><td>3.90</td></tr>",
                            "<tr><td>10890</td><td>18</td><td>860.10</td><td>53.23</td></tr>",
                            "<tr><td>10364</td><td>19</td><td>950.00</td><td>6.44</td></tr>",
                            "<tr><td>10400</td><td>19</td><td>3063.00</td><td>20.75</td></tr>",
                            "<tr><td>10532</td><td>19</td><td>796.35</td><td>5.39</td></tr>",
                            "<tr><td>10726</td><td>19</td><td>655.00</td><td>4.44</td></tr>",
                            "<tr><td>10987</td><td>19</td><td>2772.00</td><td>18.78</td></tr>",
                            "<tr><td>11024</td><td>19</td><td>1966.81</td><td>13.32</td></tr>",
                            "<tr><td>11047</td><td>19</td><td>817.88</td><td>5.54</td></tr>",
                            "<tr><td>11056</td><td>19</td><td>3740.00</td><td>25.34</td></tr>",
                            "<tr><td>10258</td><td>20</td><td>1614.88</td><td>1.54</td></tr>",
                            "<tr><td>10263</td><td>20</td><td>1873.80</td><td>1.79</td></tr>",
                            "<tr><td>10351</td><td>20</td><td>5398.73</td><td>5.15</td></tr>",
                            "<tr><td>10368</td><td>20</td><td>1689.78</td><td>1.61</td></tr>",
                            "<tr><td>10382</td><td>20</td><td>2900.00</td><td>2.77</td></tr>",
                            "<tr><td>10390</td><td>20</td><td>2090.88</td><td>1.99</td></tr>",
                            "<tr><td>10402</td><td>20</td><td>2713.50</td><td>2.59</td></tr>",
                            "<tr><td>10403</td><td>20</td><td>855.02</td><td>0.82</td></tr>",
                            "<tr><td>10430</td><td>20</td><td>4899.20</td><td>4.67</td></tr>",
                            "<tr><td>10442</td><td>20</td><td>1792.00</td><td>1.71</td></tr>",
                            "<tr><td>10514</td><td>20</td><td>8623.45</td><td>8.22</td></tr>",
                            "<tr><td>10571</td><td>20</td><td>550.59</td><td>0.52</td></tr>",
                            "<tr><td>10595</td><td>20</td><td>4725.00</td><td>4.51</td></tr>",
                            "<tr><td>10633</td><td>20</td><td>5510.59</td><td>5.25</td></tr>",
                            "<tr><td>10667</td><td>20</td><td>1536.80</td><td>1.47</td></tr>",
                            "<tr><td>10698</td><td>20</td><td>3436.44</td><td>3.28</td></tr>",
                            "<tr><td>10764</td><td>20</td><td>2286.00</td><td>2.18</td></tr>",
                            "<tr><td>10771</td><td>20</td><td>344.00</td><td>0.33</td></tr>",
                            "<tr><td>10773</td><td>20</td><td>2030.40</td><td>1.94</td></tr>",
                            "<tr><td>10776</td><td>20</td><td>6635.28</td><td>6.33</td></tr>",
                            "<tr><td>10795</td><td>20</td><td>2158.00</td><td>2.06</td></tr>",
                            "<tr><td>10836</td><td>20</td><td>4705.50</td><td>4.49</td></tr>",
                            "<tr><td>10854</td><td>20</td><td>2966.50</td><td>2.83</td></tr>",
                            "<tr><td>10895</td><td>20</td><td>6379.40</td><td>6.08</td></tr>",
                            "<tr><td>10968</td><td>20</td><td>1408.00</td><td>1.34</td></tr>",
                            "<tr><td>10979</td><td>20</td><td>4813.50</td><td>4.59</td></tr>",
                            "<tr><td>10990</td><td>20</td><td>4288.85</td><td>4.09</td></tr>",
                            "<tr><td>11008</td><td>20</td><td>4680.90</td><td>4.46</td></tr>",
                            "<tr><td>11017</td><td>20</td><td>6750.00</td><td>6.44</td></tr>",
                            "<tr><td>11072</td><td>20</td><td>5218.00</td><td>4.98</td></tr>",
                            "<tr><td>10347</td><td>21</td><td>814.42</td><td>19.83</td></tr>",
                            "<tr><td>10386</td><td>21</td><td>166.00</td><td>4.04</td></tr>",
                            "<tr><td>10414</td><td>21</td><td>224.83</td><td>5.47</td></tr>",
                            "<tr><td>10512</td><td>21</td><td>525.30</td><td>12.79</td></tr>",
                            "<tr><td>10581</td><td>21</td><td>310.00</td><td>7.55</td></tr>",
                            "<tr><td>10650</td><td>21</td><td>1779.20</td><td>43.32</td></tr>",
                            "<tr><td>10725</td><td>21</td><td>287.80</td><td>7.01</td></tr>",
                            "<tr><td>10408</td><td>23</td><td>1622.40</td><td>13.91</td></tr>",
                            "<tr><td>10480</td><td>23</td><td>756.00</td><td>6.48</td></tr>",
                            "<tr><td>10634</td><td>23</td><td>4985.50</td><td>42.73</td></tr>",
                            "<tr><td>10763</td><td>23</td><td>616.00</td><td>5.28</td></tr>",
                            "<tr><td>10789</td><td>23</td><td>3687.00</td><td>31.60</td></tr>",
                            "<tr><td>10264</td><td>24</td><td>695.63</td><td>2.35</td></tr>",
                            "<tr><td>10327</td><td>24</td><td>1810.00</td><td>6.12</td></tr>",
                            "<tr><td>10378</td><td>24</td><td>103.20</td><td>0.35</td></tr>",
                            "<tr><td>10434</td><td>24</td><td>321.12</td><td>1.09</td></tr>",
                            "<tr><td>10460</td><td>24</td><td>176.10</td><td>0.60</td></tr>",
                            "<tr><td>10533</td><td>24</td><td>2222.20</td><td>7.52</td></tr>",
                            "<tr><td>10561</td><td>24</td><td>2844.50</td><td>9.62</td></tr>",
                            "<tr><td>10703</td><td>24</td><td>2545.00</td><td>8.61</td></tr>",
                            "<tr><td>10762</td><td>24</td><td>4337.00</td><td>14.67</td></tr>",
                            "<tr><td>10774</td><td>24</td><td>868.75</td><td>2.94</td></tr>",
                            "<tr><td>10824</td><td>24</td><td>250.80</td><td>0.85</td></tr>",
                            "<tr><td>10880</td><td>24</td><td>1500.00</td><td>5.07</td></tr>",
                            "<tr><td>10902</td><td>24</td><td>863.43</td><td>2.92</td></tr>",
                            "<tr><td>10955</td><td>24</td><td>74.40</td><td>0.25</td></tr>",
                            "<tr><td>10977</td><td>24</td><td>2233.00</td><td>7.55</td></tr>",
                            "<tr><td>10980</td><td>24</td><td>248.00</td><td>0.84</td></tr>",
                            "<tr><td>10993</td><td>24</td><td>4895.44</td><td>16.56</td></tr>",
                            "<tr><td>11001</td><td>24</td><td>2769.00</td><td>9.36</td></tr>",
                            "<tr><td>11050</td><td>24</td><td>810.00</td><td>2.74</td></tr>",
                            "<tr><td>10267</td><td>25</td><td>3536.60</td><td>13.27</td></tr>",
                            "<tr><td>10337</td><td>25</td><td>2467.00</td><td>9.25</td></tr>",
                            "<tr><td>10342</td><td>25</td><td>1840.64</td><td>6.91</td></tr>",
                            "<tr><td>10396</td><td>25</td><td>1903.80</td><td>7.14</td></tr>",
                            "<tr><td>10488</td><td>25</td><td>1512.00</td><td>5.67</td></tr>",
                            "<tr><td>10560</td><td>25</td><td>1072.43</td><td>4.02</td></tr>",
                            "<tr><td>10623</td><td>25</td><td>1336.95</td><td>5.02</td></tr>",
                            "<tr><td>10653</td><td>25</td><td>1083.15</td><td>4.06</td></tr>",
                            "<tr><td>10670</td><td>25</td><td>2301.75</td><td>8.63</td></tr>",
                            "<tr><td>10675</td><td>25</td><td>1423.00</td><td>5.34</td></tr>",
                            "<tr><td>10717</td><td>25</td><td>1270.75</td><td>4.77</td></tr>",
                            "<tr><td>10791</td><td>25</td><td>1829.76</td><td>6.86</td></tr>",
                            "<tr><td>10859</td><td>25</td><td>1078.69</td><td>4.05</td></tr>",
                            "<tr><td>10929</td><td>25</td><td>1174.75</td><td>4.41</td></tr>",
                            "<tr><td>11012</td><td>25</td><td>2825.30</td><td>10.60</td></tr>",
                            "<tr><td>10671</td><td>26</td><td>920.10</td><td>29.01</td></tr>",
                            "<tr><td>10860</td><td>26</td><td>519.00</td><td>16.36</td></tr>",
                            "<tr><td>10971</td><td>26</td><td>1733.06</td><td>54.63</td></tr>",
                            "<tr><td>10422</td><td>27</td><td>49.80</td><td>3.22</td></tr>",
                            "<tr><td>10710</td><td>27</td><td>93.50</td><td>6.05</td></tr>",
                            "<tr><td>10753</td><td>27</td><td>88.00</td><td>5.69</td></tr>",
                            "<tr><td>10807</td><td>27</td><td>18.40</td><td>1.19</td></tr>",
                            "<tr><td>11026</td><td>27</td><td>1030.00</td><td>66.64</td></tr>",
                            "<tr><td>11060</td><td>27</td><td>266.00</td><td>17.21</td></tr>",
                            "<tr><td>10328</td><td>28</td><td>1168.00</td><td>18.17</td></tr>",
                            "<tr><td>10352</td><td>28</td><td>136.30</td><td>2.12</td></tr>",
                            "<tr><td>10464</td><td>28</td><td>1609.28</td><td>25.04</td></tr>",
                            "<tr><td>10491</td><td>28</td><td>259.51</td><td>4.04</td></tr>",
                            "<tr><td>10551</td><td>28</td><td>1677.30</td><td>26.10</td></tr>",
                            "<tr><td>10604</td><td>28</td><td>230.85</td><td>3.59</td></tr>",
                            "<tr><td>10664</td><td>28</td><td>1288.39</td><td>20.05</td></tr>",
                            "<tr><td>10963</td><td>28</td><td>57.80</td><td>0.90</td></tr>",
                            "<tr><td>10366</td><td>29</td><td>136.00</td><td>16.25</td></tr>",
                            "<tr><td>10426</td><td>29</td><td>338.20</td><td>40.42</td></tr>",
                            "<tr><td>10568</td><td>29</td><td>155.00</td><td>18.53</td></tr>",
                            "<tr><td>10887</td><td>29</td><td>70.00</td><td>8.37</td></tr>",
                            "<tr><td>10928</td><td>29</td><td>137.50</td><td>16.43</td></tr>",
                            "<tr><td>10303</td><td>30</td><td>1117.80</td><td>9.77</td></tr>",
                            "<tr><td>10550</td><td>30</td><td>683.30</td><td>5.97</td></tr>",
                            "<tr><td>10629</td><td>30</td><td>2775.05</td><td>24.24</td></tr>",
                            "<tr><td>10872</td><td>30</td><td>2058.46</td><td>17.98</td></tr>",
                            "<tr><td>10874</td><td>30</td><td>310.00</td><td>2.71</td></tr>",
                            "<tr><td>10888</td><td>30</td><td>605.00</td><td>5.29</td></tr>",
                            "<tr><td>10911</td><td>30</td><td>858.00</td><td>7.50</td></tr>",
                            "<tr><td>10948</td><td>30</td><td>2362.25</td><td>20.64</td></tr>",
                            "<tr><td>11009</td><td>30</td><td>616.50</td><td>5.39</td></tr>",
                            "<tr><td>11037</td><td>30</td><td>60.00</td><td>0.52</td></tr>",
                            "<tr><td>10423</td><td>31</td><td>1020.00</td><td>12.12</td></tr>",
                            "<tr><td>10652</td><td>31</td><td>318.84</td><td>3.79</td></tr>",
                            "<tr><td>10685</td><td>31</td><td>801.10</td><td>9.52</td></tr>",
                            "<tr><td>10709</td><td>31</td><td>3424.00</td><td>40.69</td></tr>",
                            "<tr><td>10734</td><td>31</td><td>1498.35</td><td>17.81</td></tr>",
                            "<tr><td>10777</td><td>31</td><td>224.00</td><td>2.66</td></tr>",
                            "<tr><td>10790</td><td>31</td><td>722.50</td><td>8.59</td></tr>",
                            "<tr><td>10959</td><td>31</td><td>131.75</td><td>1.57</td></tr>",
                            "<tr><td>11049</td><td>31</td><td>273.60</td><td>3.25</td></tr>",
                            "<tr><td>10528</td><td>32</td><td>392.20</td><td>2.12</td></tr>",
                            "<tr><td>10589</td><td>32</td><td>72.00</td><td>0.39</td></tr>",
                            "<tr><td>10616</td><td>32</td><td>4807.00</td><td>25.97</td></tr>",
                            "<tr><td>10617</td><td>32</td><td>1402.50</td><td>7.58</td></tr>",
                            "<tr><td>10656</td><td>32</td><td>604.22</td><td>3.26</td></tr>",
                            "<tr><td>10681</td><td>32</td><td>1287.40</td><td>6.96</td></tr>",
                            "<tr><td>10816</td><td>32</td><td>8446.45</td><td>45.64</td></tr>",
                            "<tr><td>10936</td><td>32</td><td>456.00</td><td>2.46</td></tr>",
                            "<tr><td>11006</td><td>32</td><td>329.69</td><td>1.78</td></tr>",
                            "<tr><td>11040</td><td>32</td><td>200.00</td><td>1.08</td></tr>",
                            "<tr><td>11061</td><td>32</td><td>510.00</td><td>2.76</td></tr>",
                            "<tr><td>10268</td><td>33</td><td>1101.20</td><td>73.97</td></tr>",
                            "<tr><td>10785</td><td>33</td><td>387.50</td><td>26.03</td></tr>",
                            "<tr><td>10250</td><td>34</td><td>1552.60</td><td>4.73</td></tr>",
                            "<tr><td>10253</td><td>34</td><td>1444.80</td><td>4.40</td></tr>",
                            "<tr><td>10541</td><td>34</td><td>1946.52</td><td>5.93</td></tr>",
                            "<tr><td>10645</td><td>34</td><td>1535.00</td><td>4.67</td></tr>",
                            "<tr><td>10690</td><td>34</td><td>862.50</td><td>2.63</td></tr>",
                            "<tr><td>10770</td><td>34</td><td>236.25</td><td>0.72</td></tr>",
                            "<tr><td>10783</td><td>34</td><td>1442.50</td><td>4.39</td></tr>",
                            "<tr><td>10886</td><td>34</td><td>3127.50</td><td>9.52</td></tr>",
                            "<tr><td>10903</td><td>34</td><td>932.05</td><td>2.84</td></tr>",
                            "<tr><td>10922</td><td>34</td><td>742.50</td><td>2.26</td></tr>",
                            "<tr><td>10925</td><td>34</td><td>475.15</td><td>1.45</td></tr>",
                            "<tr><td>10981</td><td>34</td><td>15810.00</td><td>48.14</td></tr>",
                            "<tr><td>11022</td><td>34</td><td>1402.00</td><td>4.27</td></tr>",
                            "<tr><td>11052</td><td>34</td><td>1332.00</td><td>4.06</td></tr>",
                            "<tr><td>10257</td><td>35</td><td>1119.90</td><td>4.92</td></tr>",
                            "<tr><td>10395</td><td>35</td><td>2122.92</td><td>9.32</td></tr>",
                            "<tr><td>10476</td><td>35</td><td>180.48</td><td>0.79</td></tr>",
                            "<tr><td>10486</td><td>35</td><td>1272.00</td><td>5.59</td></tr>",
                            "<tr><td>10490</td><td>35</td><td>3163.20</td><td>13.89</td></tr>",
                            "<tr><td>10498</td><td>35</td><td>575.00</td><td>2.53</td></tr>",
                            "<tr><td>10552</td><td>35</td><td>880.50</td><td>3.87</td></tr>",
                            "<tr><td>10601</td><td>35</td><td>2285.00</td><td>10.04</td></tr>",
                            "<tr><td>10613</td><td>35</td><td>353.20</td><td>1.55</td></tr>",
                            "<tr><td>10641</td><td>35</td><td>2054.00</td><td>9.02</td></tr>",
                            "<tr><td>10705</td><td>35</td><td>378.00</td><td>1.66</td></tr>",
                            "<tr><td>10796</td><td>35</td><td>2341.36</td><td>10.28</td></tr>",
                            "<tr><td>10863</td><td>35</td><td>441.15</td><td>1.94</td></tr>",
                            "<tr><td>10901</td><td>35</td><td>934.50</td><td>4.10</td></tr>",
                            "<tr><td>10957</td><td>35</td><td>1762.70</td><td>7.74</td></tr>",
                            "<tr><td>10960</td><td>35</td><td>265.35</td><td>1.17</td></tr>",
                            "<tr><td>10976</td><td>35</td><td>912.00</td><td>4.01</td></tr>",
                            "<tr><td>11055</td><td>35</td><td>1727.50</td><td>7.59</td></tr>",
                            "<tr><td>10375</td><td>36</td><td>338.00</td><td>11.03</td></tr>",
                            "<tr><td>10394</td><td>36</td><td>442.00</td><td>14.43</td></tr>",
                            "<tr><td>10415</td><td>36</td><td>102.40</td><td>3.34</td></tr>",
                            "<tr><td>10600</td><td>36</td><td>479.80</td><td>15.66</td></tr>",
                            "<tr><td>10660</td><td>36</td><td>1701.00</td><td>55.53</td></tr>",
                            "<tr><td>10298</td><td>37</td><td>2645.00</td><td>5.29</td></tr>",
                            "<tr><td>10309</td><td>37</td><td>1762.00</td><td>3.53</td></tr>",
                            "<tr><td>10335</td><td>37</td><td>2036.16</td><td>4.07</td></tr>",
                            "<tr><td>10373</td><td>37</td><td>1366.40</td><td>2.73</td></tr>",
                            "<tr><td>10380</td><td>37</td><td>1313.82</td><td>2.63</td></tr>",
                            "<tr><td>10429</td><td>37</td><td>1441.38</td><td>2.88</td></tr>",
                            "<tr><td>10503</td><td>37</td><td>2048.50</td><td>4.10</td></tr>",
                            "<tr><td>10516</td><td>37</td><td>2381.05</td><td>4.76</td></tr>",
                            "<tr><td>10567</td><td>37</td><td>2519.00</td><td>5.04</td></tr>",
                            "<tr><td>10646</td><td>37</td><td>1446.00</td><td>2.89</td></tr>",
                            "<tr><td>10661</td><td>37</td><td>562.60</td><td>1.13</td></tr>",
                            "<tr><td>10687</td><td>37</td><td>4960.90</td><td>9.93</td></tr>",
                            "<tr><td>10701</td><td>37</td><td>2864.50</td><td>5.73</td></tr>",
                            "<tr><td>10712</td><td>37</td><td>1233.48</td><td>2.47</td></tr>",
                            "<tr><td>10736</td><td>37</td><td>997.00</td><td>1.99</td></tr>",
                            "<tr><td>10897</td><td>37</td><td>10835.24</td><td>21.68</td></tr>",
                            "<tr><td>10912</td><td>37</td><td>6200.55</td><td>12.41</td></tr>",
                            "<tr><td>10985</td><td>37</td><td>2023.38</td><td>4.05</td></tr>",
                            "<tr><td>11063</td><td>37</td><td>1342.95</td><td>2.69</td></tr>",
                            "<tr><td>10315</td><td>38</td><td>516.80</td><td>8.41</td></tr>",
                            "<tr><td>10318</td><td>38</td><td>240.40</td><td>3.91</td></tr>",
                            "<tr><td>10321</td><td>38</td><td>144.00</td><td>2.34</td></tr>",
                            "<tr><td>10473</td><td>38</td><td>230.40</td><td>3.75</td></tr>",
                            "<tr><td>10621</td><td>38</td><td>758.50</td><td>12.34</td></tr>",
                            "<tr><td>10674</td><td>38</td><td>45.00</td><td>0.73</td></tr>",
                            "<tr><td>10749</td><td>38</td><td>1080.00</td><td>17.57</td></tr>",
                            "<tr><td>10798</td><td>38</td><td>446.60</td><td>7.27</td></tr>",
                            "<tr><td>10829</td><td>38</td><td>1764.00</td><td>28.70</td></tr>",
                            "<tr><td>10933</td><td>38</td><td>920.60</td><td>14.98</td></tr>",
                            "<tr><td>10323</td><td>39</td><td>164.40</td><td>0.53</td></tr>",
                            "<tr><td>10325</td><td>39</td><td>1497.00</td><td>4.84</td></tr>",
                            "<tr><td>10456</td><td>39</td><td>557.60</td><td>1.80</td></tr>",
                            "<tr><td>10457</td><td>39</td><td>1584.00</td><td>5.12</td></tr>",
                            "<tr><td>10468</td><td>39</td><td>717.60</td><td>2.32</td></tr>",
                            "<tr><td>10506</td><td>39</td><td>415.80</td><td>1.35</td></tr>",
                            "<tr><td>10542</td><td>39</td><td>469.11</td><td>1.52</td></tr>",
                            "<tr><td>10630</td><td>39</td><td>903.60</td><td>2.92</td></tr>",
                            "<tr><td>10718</td><td>39</td><td>3463.00</td><td>11.20</td></tr>",
                            "<tr><td>10799</td><td>39</td><td>1553.50</td><td>5.03</td></tr>",
                            "<tr><td>10817</td><td>39</td><td>10952.85</td><td>35.44</td></tr>",
                            "<tr><td>10849</td><td>39</td><td>967.82</td><td>3.13</td></tr>",
                            "<tr><td>10893</td><td>39</td><td>5502.11</td><td>17.80</td></tr>",
                            "<tr><td>11028</td><td>39</td><td>2160.00</td><td>6.99</td></tr>",
                            "<tr><td>10858</td><td>40</td><td>649.00</td><td>32.58</td></tr>",
                            "<tr><td>10927</td><td>40</td><td>800.00</td><td>40.16</td></tr>",
                            "<tr><td>10972</td><td>40</td><td>251.50</td><td>12.63</td></tr>",
                            "<tr><td>10973</td><td>40</td><td>291.55</td><td>14.64</td></tr>",
                            "<tr><td>10350</td><td>41</td><td>642.06</td><td>6.88</td></tr>",
                            "<tr><td>10358</td><td>41</td><td>429.40</td><td>4.60</td></tr>",
                            "<tr><td>10371</td><td>41</td><td>72.96</td><td>0.78</td></tr>",
                            "<tr><td>10413</td><td>41</td><td>2123.20</td><td>22.76</td></tr>",
                            "<tr><td>10425</td><td>41</td><td>360.00</td><td>3.86</td></tr>",
                            "<tr><td>10454</td><td>41</td><td>331.20</td><td>3.55</td></tr>",
                            "<tr><td>10493</td><td>41</td><td>608.40</td><td>6.52</td></tr>",
                            "<tr><td>10500</td><td>41</td><td>523.26</td><td>5.61</td></tr>",
                            "<tr><td>10610</td><td>41</td><td>299.25</td><td>3.21</td></tr>",
                            "<tr><td>10631</td><td>41</td><td>55.80</td><td>0.60</td></tr>",
                            "<tr><td>10787</td><td>41</td><td>2622.76</td><td>28.12</td></tr>",
                            "<tr><td>10832</td><td>41</td><td>475.11</td><td>5.09</td></tr>",
                            "<tr><td>10923</td><td>41</td><td>748.80</td><td>8.03</td></tr>",
                            "<tr><td>11051</td><td>41</td><td>36.00</td><td>0.39</td></tr>",
                            "<tr><td>10495</td><td>42</td><td>278.00</td><td>53.21</td></tr>",
                            "<tr><td>10620</td><td>42</td><td>57.50</td><td>11.00</td></tr>",
                            "<tr><td>10810</td><td>42</td><td>187.00</td><td>35.79</td></tr>",
                            "<tr><td>10482</td><td>43</td><td>147.00</td><td>41.18</td></tr>",
                            "<tr><td>10545</td><td>43</td><td>210.00</td><td>58.82</td></tr>",
                            "<tr><td>10279</td><td>44</td><td>351.00</td><td>1.82</td></tr>",
                            "<tr><td>10284</td><td>44</td><td>1170.38</td><td>6.08</td></tr>",
                            "<tr><td>10343</td><td>44</td><td>1584.00</td><td>8.22</td></tr>",
                            "<tr><td>10497</td><td>44</td><td>1380.60</td><td>7.17</td></tr>",
                            "<tr><td>10522</td><td>44</td><td>2318.24</td><td>12.04</td></tr>",
                            "<tr><td>10534</td><td>44</td><td>465.70</td><td>2.42</td></tr>",
                            "<tr><td>10536</td><td>44</td><td>1645.00</td><td>8.54</td></tr>",
                            "<tr><td>10557</td><td>44</td><td>1152.50</td><td>5.98</td></tr>",
                            "<tr><td>10592</td><td>44</td><td>516.47</td><td>2.68</td></tr>",
                            "<tr><td>10593</td><td>44</td><td>1994.40</td><td>10.35</td></tr>",
                            "<tr><td>10772</td><td>44</td><td>3603.22</td><td>18.71</td></tr>",
                            "<tr><td>10862</td><td>44</td><td>581.00</td><td>3.02</td></tr>",
                            "<tr><td>10891</td><td>44</td><td>368.93</td><td>1.92</td></tr>",
                            "<tr><td>10934</td><td>44</td><td>500.00</td><td>2.60</td></tr>",
                            "<tr><td>11070</td><td>44</td><td>1629.98</td><td>8.46</td></tr>",
                            "<tr><td>10579</td><td>45</td><td>317.75</td><td>10.33</td></tr>",
                            "<tr><td>10719</td><td>45</td><td>844.25</td><td>27.44</td></tr>",
                            "<tr><td>10735</td><td>45</td><td>536.40</td><td>17.44</td></tr>",
                            "<tr><td>10884</td><td>45</td><td>1378.07</td><td>44.79</td></tr>",
                            "<tr><td>10283</td><td>46</td><td>1414.80</td><td>8.80</td></tr>",
                            "<tr><td>10296</td><td>46</td><td>1050.60</td><td>6.53</td></tr>",
                            "<tr><td>10330</td><td>46</td><td>1649.00</td><td>10.26</td></tr>",
                            "<tr><td>10357</td><td>46</td><td>1167.68</td><td>7.26</td></tr>",
                            "<tr><td>10381</td><td>46</td><td>112.00</td><td>0.70</td></tr>",
                            "<tr><td>10461</td><td>46</td><td>1538.70</td><td>9.57</td></tr>",
                            "<tr><td>10499</td><td>46</td><td>1412.00</td><td>8.78</td></tr>",
                            "<tr><td>10543</td><td>46</td><td>1504.50</td><td>9.36</td></tr>",
                            "<tr><td>10780</td><td>46</td><td>720.00</td><td>4.48</td></tr>",
                            "<tr><td>10823</td><td>46</td><td>2826.00</td><td>17.58</td></tr>",
                            "<tr><td>10899</td><td>46</td><td>122.40</td><td>0.76</td></tr>",
                            "<tr><td>10997</td><td>46</td><td>1885.00</td><td>11.73</td></tr>",
                            "<tr><td>11065</td><td>46</td><td>189.42</td><td>1.18</td></tr>",
                            "<tr><td>11071</td><td>46</td><td>484.50</td><td>3.01</td></tr>",
                            "<tr><td>10405</td><td>47</td><td>400.00</td><td>2.43</td></tr>",
                            "<tr><td>10485</td><td>47</td><td>1584.00</td><td>9.61</td></tr>",
                            "<tr><td>10638</td><td>47</td><td>2720.05</td><td>16.51</td></tr>",
                            "<tr><td>10697</td><td>47</td><td>805.43</td><td>4.89</td></tr>",
                            "<tr><td>10729</td><td>47</td><td>1850.00</td><td>11.23</td></tr>",
                            "<tr><td>10811</td><td>47</td><td>852.00</td><td>5.17</td></tr>",
                            "<tr><td>10838</td><td>47</td><td>1938.38</td><td>11.76</td></tr>",
                            "<tr><td>10840</td><td>47</td><td>211.20</td><td>1.28</td></tr>",
                            "<tr><td>10919</td><td>47</td><td>1122.80</td><td>6.81</td></tr>",
                            "<tr><td>10954</td><td>47</td><td>1659.54</td><td>10.07</td></tr>",
                            "<tr><td>11014</td><td>47</td><td>243.18</td><td>1.48</td></tr>",
                            "<tr><td>11039</td><td>47</td><td>3090.00</td><td>18.75</td></tr>",
                            "<tr><td>10307</td><td>48</td><td>424.00</td><td>9.96</td></tr>",
                            "<tr><td>10317</td><td>48</td><td>288.00</td><td>6.76</td></tr>",
                            "<tr><td>10544</td><td>48</td><td>417.20</td><td>9.80</td></tr>",
                            "<tr><td>10662</td><td>48</td><td>125.00</td><td>2.94</td></tr>",
                            "<tr><td>10665</td><td>48</td><td>1295.00</td><td>30.41</td></tr>",
                            "<tr><td>10867</td><td>48</td><td>98.40</td><td>2.31</td></tr>",
                            "<tr><td>10883</td><td>48</td><td>36.00</td><td>0.85</td></tr>",
                            "<tr><td>11018</td><td>48</td><td>1575.00</td><td>36.98</td></tr>",
                            "<tr><td>10275</td><td>49</td><td>291.84</td><td>4.07</td></tr>",
                            "<tr><td>10300</td><td>49</td><td>608.00</td><td>8.47</td></tr>",
                            "<tr><td>10404</td><td>49</td><td>1591.25</td><td>22.17</td></tr>",
                            "<tr><td>10467</td><td>49</td><td>235.20</td><td>3.28</td></tr>",
                            "<tr><td>10635</td><td>49</td><td>1326.23</td><td>18.48</td></tr>",
                            "<tr><td>10754</td><td>49</td><td>55.20</td><td>0.77</td></tr>",
                            "<tr><td>10784</td><td>49</td><td>1488.00</td><td>20.74</td></tr>",
                            "<tr><td>10818</td><td>49</td><td>833.00</td><td>11.61</td></tr>",
                            "<tr><td>10939</td><td>49</td><td>637.50</td><td>8.88</td></tr>",
                            "<tr><td>10950</td><td>49</td><td>110.00</td><td>1.53</td></tr>",
                            "<tr><td>10529</td><td>50</td><td>946.00</td><td>9.72</td></tr>",
                            "<tr><td>10649</td><td>50</td><td>1434.00</td><td>14.73</td></tr>",
                            "<tr><td>10760</td><td>50</td><td>2917.00</td><td>29.96</td></tr>",
                            "<tr><td>10892</td><td>50</td><td>2090.00</td><td>21.47</td></tr>",
                            "<tr><td>10896</td><td>50</td><td>750.50</td><td>7.71</td></tr>",
                            "<tr><td>10978</td><td>50</td><td>1303.20</td><td>13.39</td></tr>",
                            "<tr><td>11004</td><td>50</td><td>295.38</td><td>3.03</td></tr>",
                            "<tr><td>10332</td><td>51</td><td>1786.88</td><td>6.19</td></tr>",
                            "<tr><td>10339</td><td>51</td><td>3354.00</td><td>11.62</td></tr>",
                            "<tr><td>10376</td><td>51</td><td>399.00</td><td>1.38</td></tr>",
                            "<tr><td>10424</td><td>51</td><td>9194.56</td><td>31.85</td></tr>",
                            "<tr><td>10439</td><td>51</td><td>1078.00</td><td>3.73</td></tr>",
                            "<tr><td>10505</td><td>51</td><td>147.90</td><td>0.51</td></tr>",
                            "<tr><td>10565</td><td>51</td><td>639.90</td><td>2.22</td></tr>",
                            "<tr><td>10570</td><td>51</td><td>2465.25</td><td>8.54</td></tr>",
                            "<tr><td>10590</td><td>51</td><td>1101.00</td><td>3.81</td></tr>",
                            "<tr><td>10605</td><td>51</td><td>4109.70</td><td>14.23</td></tr>",
                            "<tr><td>10618</td><td>51</td><td>2697.50</td><td>9.34</td></tr>",
                            "<tr><td>10619</td><td>51</td><td>1260.00</td><td>4.36</td></tr>",
                            "<tr><td>10724</td><td>51</td><td>638.50</td><td>2.21</td></tr>",
                            "<tr><td>10277</td><td>52</td><td>1200.80</td><td>23.82</td></tr>",
                            "<tr><td>10575</td><td>52</td><td>2147.40</td><td>42.59</td></tr>",
                            "<tr><td>10699</td><td>52</td><td>114.00</td><td>2.26</td></tr>",
                            "<tr><td>10779</td><td>52</td><td>1335.00</td><td>26.48</td></tr>",
                            "<tr><td>10945</td><td>52</td><td>245.00</td><td>4.86</td></tr>",
                            "<tr><td>10517</td><td>53</td><td>352.00</td><td>54.24</td></tr>",
                            "<tr><td>10752</td><td>53</td><td>252.00</td><td>38.83</td></tr>",
                            "<tr><td>11057</td><td>53</td><td>45.00</td><td>6.93</td></tr>",
                            "<tr><td>10409</td><td>54</td><td>319.20</td><td>9.22</td></tr>",
                            "<tr><td>10531</td><td>54</td><td>110.00</td><td>3.18</td></tr>",
                            "<tr><td>10898</td><td>54</td><td>30.00</td><td>0.87</td></tr>",
                            "<tr><td>10958</td><td>54</td><td>781.00</td><td>22.57</td></tr>",
                            "<tr><td>10986</td><td>54</td><td>2220.00</td><td>64.16</td></tr>",
                            "<tr><td>10305</td><td>55</td><td>3741.30</td><td>24.65</td></tr>",
                            "<tr><td>10338</td><td>55</td><td>934.50</td><td>6.16</td></tr>",
                            "<tr><td>10441</td><td>55</td><td>1755.00</td><td>11.56</td></tr>",
                            "<tr><td>10594</td><td>55</td><td>565.50</td><td>3.73</td></tr>",
                            "<tr><td>10680</td><td>55</td><td>1261.88</td><td>8.31</td></tr>",
                            "<tr><td>10706</td><td>55</td><td>1893.00</td><td>12.47</td></tr>",
                            "<tr><td>10808</td><td>55</td><td>1411.00</td><td>9.30</td></tr>",
                            "<tr><td>10855</td><td>55</td><td>2227.89</td><td>14.68</td></tr>",
                            "<tr><td>10965</td><td>55</td><td>848.00</td><td>5.59</td></tr>",
                            "<tr><td>11034</td><td>55</td><td>539.40</td><td>3.55</td></tr>",
                            "<tr><td>10260</td><td>56</td><td>1504.65</td><td>12.04</td></tr>",
                            "<tr><td>10407</td><td>56</td><td>1194.00</td><td>9.55</td></tr>",
                            "<tr><td>10508</td><td>56</td><td>240.00</td><td>1.92</td></tr>",
                            "<tr><td>10554</td><td>56</td><td>1728.53</td><td>13.83</td></tr>",
                            "<tr><td>10580</td><td>56</td><td>1013.75</td><td>8.11</td></tr>",
                            "<tr><td>10684</td><td>56</td><td>1768.00</td><td>14.15</td></tr>",
                            "<tr><td>10766</td><td>56</td><td>2310.00</td><td>18.49</td></tr>",
                            "<tr><td>10833</td><td>56</td><td>906.93</td><td>7.26</td></tr>",
                            "<tr><td>10999</td><td>56</td><td>1197.95</td><td>9.59</td></tr>",
                            "<tr><td>11020</td><td>56</td><td>632.40</td><td>5.06</td></tr>",
                            "<tr><td>10322</td><td>58</td><td>112.00</td><td>2.64</td></tr>",
                            "<tr><td>10354</td><td>58</td><td>568.80</td><td>13.41</td></tr>",
                            "<tr><td>10474</td><td>58</td><td>1249.10</td><td>29.44</td></tr>",
                            "<tr><td>10502</td><td>58</td><td>816.30</td><td>19.24</td></tr>",
                            "<tr><td>10995</td><td>58</td><td>1196.00</td><td>28.19</td></tr>",
                            "<tr><td>11073</td><td>58</td><td>300.00</td><td>7.07</td></tr>",
                            "<tr><td>10353</td><td>59</td><td>8593.28</td><td>37.15</td></tr>",
                            "<tr><td>10392</td><td>59</td><td>1440.00</td><td>6.23</td></tr>",
                            "<tr><td>10427</td><td>59</td><td>651.00</td><td>2.81</td></tr>",
                            "<tr><td>10489</td><td>59</td><td>439.20</td><td>1.90</td></tr>",
                            "<tr><td>10530</td><td>59</td><td>4180.00</td><td>18.07</td></tr>",
                            "<tr><td>10597</td><td>59</td><td>718.08</td><td>3.10</td></tr>",
                            "<tr><td>10686</td><td>59</td><td>1404.45</td><td>6.07</td></tr>",
                            "<tr><td>10747</td><td>59</td><td>1912.85</td><td>8.27</td></tr>",
                            "<tr><td>10844</td><td>59</td><td>735.00</td><td>3.18</td></tr>",
                            "<tr><td>11053</td><td>59</td><td>3055.00</td><td>13.21</td></tr>",
                            "<tr><td>10336</td><td>60</td><td>285.12</td><td>5.65</td></tr>",
                            "<tr><td>10397</td><td>60</td><td>716.72</td><td>14.21</td></tr>",
                            "<tr><td>10433</td><td>60</td><td>851.20</td><td>16.87</td></tr>",
                            "<tr><td>10477</td><td>60</td><td>558.00</td><td>11.06</td></tr>",
                            "<tr><td>11007</td><td>60</td><td>2633.90</td><td>52.21</td></tr>",
                            "<tr><td>10261</td><td>61</td><td>448.00</td><td>6.72</td></tr>",
                            "<tr><td>10291</td><td>61</td><td>497.52</td><td>7.46</td></tr>",
                            "<tr><td>10379</td><td>61</td><td>863.28</td><td>12.95</td></tr>",
                            "<tr><td>10421</td><td>61</td><td>1194.27</td><td>17.92</td></tr>",
                            "<tr><td>10587</td><td>61</td><td>807.38</td><td>12.11</td></tr>",
                            "<tr><td>10647</td><td>61</td><td>636.00</td><td>9.54</td></tr>",
                            "<tr><td>10720</td><td>61</td><td>550.00</td><td>8.25</td></tr>",
                            "<tr><td>10794</td><td>61</td><td>314.76</td><td>4.72</td></tr>",
                            "<tr><td>10989</td><td>61</td><td>1353.60</td><td>20.31</td></tr>",
                            "<tr><td>10372</td><td>62</td><td>9210.90</td><td>35.82</td></tr>",
                            "<tr><td>10406</td><td>62</td><td>1830.78</td><td>7.12</td></tr>",
                            "<tr><td>10487</td><td>62</td><td>889.70</td><td>3.46</td></tr>",
                            "<tr><td>10637</td><td>62</td><td>2761.94</td><td>10.74</td></tr>",
                            "<tr><td>10659</td><td>62</td><td>1227.02</td><td>4.77</td></tr>",
                            "<tr><td>10704</td><td>62</td><td>595.50</td><td>2.32</td></tr>",
                            "<tr><td>10728</td><td>62</td><td>1296.75</td><td>5.04</td></tr>",
                            "<tr><td>10786</td><td>62</td><td>1531.08</td><td>5.95</td></tr>",
                            "<tr><td>10868</td><td>62</td><td>1920.60</td><td>7.47</td></tr>",
                            "<tr><td>10913</td><td>62</td><td>768.75</td><td>2.99</td></tr>",
                            "<tr><td>10914</td><td>62</td><td>537.50</td><td>2.09</td></tr>",
                            "<tr><td>10961</td><td>62</td><td>1119.90</td><td>4.35</td></tr>",
                            "<tr><td>11068</td><td>62</td><td>2027.08</td><td>7.88</td></tr>",
                            "<tr><td>10273</td><td>63</td><td>2037.28</td><td>1.85</td></tr>",
                            "<tr><td>10285</td><td>63</td><td>1743.36</td><td>1.58</td></tr>",
                            "<tr><td>10286</td><td>63</td><td>3016.00</td><td>2.73</td></tr>",
                            "<tr><td>10313</td><td>63</td><td>182.40</td><td>0.17</td></tr>",
                            "<tr><td>10345</td><td>63</td><td>2924.80</td><td>2.65</td></tr>",
                            "<tr><td>10361</td><td>63</td><td>2046.24</td><td>1.86</td></tr>",
                            "<tr><td>10418</td><td>63</td><td>1814.80</td><td>1.65</td></tr>",
                            "<tr><td>10451</td><td>63</td><td>3849.66</td><td>3.49</td></tr>",
                            "<tr><td>10515</td><td>63</td><td>9921.30</td><td>9.00</td></tr>",
                            "<tr><td>10527</td><td>63</td><td>1503.00</td><td>1.36</td></tr>",
                            "<tr><td>10540</td><td>63</td><td>10191.70</td><td>9.24</td></tr>",
                            "<tr><td>10549</td><td>63</td><td>3554.28</td><td>3.22</td></tr>",
                            "<tr><td>10588</td><td>63</td><td>3120.00</td><td>2.83</td></tr>",
                            "<tr><td>10658</td><td>63</td><td>4464.60</td><td>4.05</td></tr>",
                            "<tr><td>10691</td><td>63</td><td>10164.80</td><td>9.22</td></tr>",
                            "<tr><td>10694</td><td>63</td><td>4825.00</td><td>4.38</td></tr>",
                            "<tr><td>10721</td><td>63</td><td>923.88</td><td>0.84</td></tr>",
                            "<tr><td>10745</td><td>63</td><td>4529.80</td><td>4.11</td></tr>",
                            "<tr><td>10765</td><td>63</td><td>1515.60</td><td>1.37</td></tr>",
                            "<tr><td>10788</td><td>63</td><td>731.50</td><td>0.66</td></tr>",
                            "<tr><td>10845</td><td>63</td><td>3812.70</td><td>3.46</td></tr>",
                            "<tr><td>10865</td><td>63</td><td>16387.50</td><td>14.86</td></tr>",
                            "<tr><td>10878</td><td>63</td><td>1539.00</td><td>1.40</td></tr>",
                            "<tr><td>10938</td><td>63</td><td>2731.88</td><td>2.48</td></tr>",
                            "<tr><td>10962</td><td>63</td><td>3584.00</td><td>3.25</td></tr>",
                            "<tr><td>10991</td><td>63</td><td>2296.00</td><td>2.08</td></tr>",
                            "<tr><td>10996</td><td>63</td><td>560.00</td><td>0.51</td></tr>",
                            "<tr><td>11021</td><td>63</td><td>6306.24</td><td>5.72</td></tr>",
                            "<tr><td>10448</td><td>64</td><td>443.40</td><td>15.59</td></tr>",
                            "<tr><td>10716</td><td>64</td><td>706.00</td><td>24.82</td></tr>",
                            "<tr><td>10828</td><td>64</td><td>932.00</td><td>32.77</td></tr>",
                            "<tr><td>10916</td><td>64</td><td>686.70</td><td>24.14</td></tr>",
                            "<tr><td>11019</td><td>64</td><td>76.00</td><td>2.67</td></tr>",
                            "<tr><td>10262</td><td>65</td><td>584.00</td><td>1.14</td></tr>",
                            "<tr><td>10272</td><td>65</td><td>1456.00</td><td>2.85</td></tr>",
                            "<tr><td>10294</td><td>65</td><td>1887.60</td><td>3.69</td></tr>",
                            "<tr><td>10314</td><td>65</td><td>2094.30</td><td>4.10</td></tr>",
                            "<tr><td>10316</td><td>65</td><td>2835.00</td><td>5.55</td></tr>",
                            "<tr><td>10346</td><td>65</td><td>1618.88</td><td>3.17</td></tr>",
                            "<tr><td>10401</td><td>65</td><td>3868.60</td><td>7.57</td></tr>",
                            "<tr><td>10479</td><td>65</td><td>10495.60</td><td>20.54</td></tr>",
                            "<tr><td>10564</td><td>65</td><td>1234.05</td><td>2.42</td></tr>",
                            "<tr><td>10569</td><td>65</td><td>890.00</td><td>1.74</td></tr>",
                            "<tr><td>10598</td><td>65</td><td>2388.50</td><td>4.67</td></tr>",
                            "<tr><td>10761</td><td>65</td><td>507.00</td><td>0.99</td></tr>",
                            "<tr><td>10820</td><td>65</td><td>1140.00</td><td>2.23</td></tr>",
                            "<tr><td>10852</td><td>65</td><td>2984.00</td><td>5.84</td></tr>",
                            "<tr><td>10889</td><td>65</td><td>11380.00</td><td>22.27</td></tr>",
                            "<tr><td>10988</td><td>65</td><td>3574.80</td><td>7.00</td></tr>",
                            "<tr><td>11000</td><td>65</td><td>903.75</td><td>1.77</td></tr>",
                            "<tr><td>11077</td><td>65</td><td>1255.72</td><td>2.46</td></tr>",
                            "<tr><td>10288</td><td>66</td><td>80.10</td><td>1.14</td></tr>",
                            "<tr><td>10428</td><td>66</td><td>192.00</td><td>2.72</td></tr>",
                            "<tr><td>10443</td><td>66</td><td>517.44</td><td>7.34</td></tr>",
                            "<tr><td>10562</td><td>66</td><td>488.70</td><td>6.93</td></tr>",
                            "<tr><td>10586</td><td>66</td><td>23.80</td><td>0.34</td></tr>",
                            "<tr><td>10655</td><td>66</td><td>154.40</td><td>2.19</td></tr>",
                            "<tr><td>10727</td><td>66</td><td>1624.50</td><td>23.05</td></tr>",
                            "<tr><td>10812</td><td>66</td><td>1692.80</td><td>24.02</td></tr>",
                            "<tr><td>10908</td><td>66</td><td>663.10</td><td>9.41</td></tr>",
                            "<tr><td>10942</td><td>66</td><td>560.00</td><td>7.95</td></tr>",
                            "<tr><td>11010</td><td>66</td><td>645.00</td><td>9.15</td></tr>",
                            "<tr><td>11062</td><td>66</td><td>406.40</td><td>5.77</td></tr>",
                            "<tr><td>10287</td><td>67</td><td>819.00</td><td>6.58</td></tr>",
                            "<tr><td>10299</td><td>67</td><td>349.50</td><td>2.81</td></tr>",
                            "<tr><td>10447</td><td>67</td><td>914.40</td><td>7.34</td></tr>",
                            "<tr><td>10481</td><td>67</td><td>1472.00</td><td>11.82</td></tr>",
                            "<tr><td>10563</td><td>67</td><td>965.00</td><td>7.75</td></tr>",
                            "<tr><td>10622</td><td>67</td><td>560.00</td><td>4.50</td></tr>",
                            "<tr><td>10648</td><td>67</td><td>372.38</td><td>2.99</td></tr>",
                            "<tr><td>10813</td><td>67</td><td>602.40</td><td>4.84</td></tr>",
                            "<tr><td>10851</td><td>67</td><td>2603.00</td><td>20.91</td></tr>",
                            "<tr><td>10877</td><td>67</td><td>1955.13</td><td>15.70</td></tr>",
                            "<tr><td>11059</td><td>67</td><td>1838.00</td><td>14.76</td></tr>",
                            "<tr><td>10255</td><td>68</td><td>2490.50</td><td>12.87</td></tr>",
                            "<tr><td>10419</td><td>68</td><td>2097.60</td><td>10.84</td></tr>",
                            "<tr><td>10537</td><td>68</td><td>1823.80</td><td>9.43</td></tr>",
                            "<tr><td>10666</td><td>68</td><td>4666.94</td><td>24.13</td></tr>",
                            "<tr><td>10751</td><td>68</td><td>1631.48</td><td>8.43</td></tr>",
                            "<tr><td>10758</td><td>68</td><td>1644.60</td><td>8.50</td></tr>",
                            "<tr><td>10931</td><td>68</td><td>799.20</td><td>4.13</td></tr>",
                            "<tr><td>10951</td><td>68</td><td>458.76</td><td>2.37</td></tr>",
                            "<tr><td>11033</td><td>68</td><td>3232.80</td><td>16.71</td></tr>",
                            "<tr><td>11075</td><td>68</td><td>498.10</td><td>2.57</td></tr>",
                            "<tr><td>10281</td><td>69</td><td>86.50</td><td>5.90</td></tr>",
                            "<tr><td>10282</td><td>69</td><td>155.40</td><td>10.59</td></tr>",
                            "<tr><td>10306</td><td>69</td><td>498.50</td><td>33.97</td></tr>",
                            "<tr><td>10917</td><td>69</td><td>365.89</td><td>24.94</td></tr>",
                            "<tr><td>11013</td><td>69</td><td>361.00</td><td>24.60</td></tr>",
                            "<tr><td>10387</td><td>70</td><td>1058.40</td><td>18.45</td></tr>",
                            "<tr><td>10520</td><td>70</td><td>200.00</td><td>3.49</td></tr>",
                            "<tr><td>10639</td><td>70</td><td>500.00</td><td>8.72</td></tr>",
                            "<tr><td>10831</td><td>70</td><td>2684.40</td><td>46.81</td></tr>",
                            "<tr><td>10909</td><td>70</td><td>670.00</td><td>11.68</td></tr>",
                            "<tr><td>11015</td><td>70</td><td>622.35</td><td>10.85</td></tr>",
                            "<tr><td>10324</td><td>71</td><td>5275.72</td><td>5.06</td></tr>",
                            "<tr><td>10393</td><td>71</td><td>2556.95</td><td>2.45</td></tr>",
                            "<tr><td>10398</td><td>71</td><td>2505.60</td><td>2.40</td></tr>",
                            "<tr><td>10440</td><td>71</td><td>4924.14</td><td>4.72</td></tr>",
                            "<tr><td>10452</td><td>71</td><td>2018.50</td><td>1.93</td></tr>",
                            "<tr><td>10510</td><td>71</td><td>4707.54</td><td>4.51</td></tr>",
                            "<tr><td>10555</td><td>71</td><td>2944.40</td><td>2.82</td></tr>",
                            "<tr><td>10603</td><td>71</td><td>1483.00</td><td>1.42</td></tr>",
                            "<tr><td>10607</td><td>71</td><td>6475.40</td><td>6.20</td></tr>",
                            "<tr><td>10612</td><td>71</td><td>6375.00</td><td>6.11</td></tr>",
                            "<tr><td>10627</td><td>71</td><td>1185.75</td><td>1.14</td></tr>",
                            "<tr><td>10657</td><td>71</td><td>4371.60</td><td>4.19</td></tr>",
                            "<tr><td>10678</td><td>71</td><td>5256.50</td><td>5.04</td></tr>",
                            "<tr><td>10700</td><td>71</td><td>1638.40</td><td>1.57</td></tr>",
                            "<tr><td>10711</td><td>71</td><td>4451.70</td><td>4.27</td></tr>",
                            "<tr><td>10713</td><td>71</td><td>2827.90</td><td>2.71</td></tr>",
                            "<tr><td>10714</td><td>71</td><td>2205.75</td><td>2.11</td></tr>",
                            "<tr><td>10722</td><td>71</td><td>1570.00</td><td>1.50</td></tr>",
                            "<tr><td>10748</td><td>71</td><td>2196.00</td><td>2.10</td></tr>",
                            "<tr><td>10757</td><td>71</td><td>3082.00</td><td>2.95</td></tr>",
                            "<tr><td>10815</td><td>71</td><td>40.00</td><td>0.04</td></tr>",
                            "<tr><td>10847</td><td>71</td><td>4931.92</td><td>4.73</td></tr>",
                            "<tr><td>10882</td><td>71</td><td>892.64</td><td>0.86</td></tr>",
                            "<tr><td>10894</td><td>71</td><td>2753.10</td><td>2.64</td></tr>",
                            "<tr><td>10941</td><td>71</td><td>4011.75</td><td>3.84</td></tr>",
                            "<tr><td>10983</td><td>71</td><td>720.90</td><td>0.69</td></tr>",
                            "<tr><td>10984</td><td>71</td><td>1809.75</td><td>1.73</td></tr>",
                            "<tr><td>11002</td><td>71</td><td>1811.10</td><td>1.74</td></tr>",
                            "<tr><td>11030</td><td>71</td><td>12615.05</td><td>12.09</td></tr>",
                            "<tr><td>11031</td><td>71</td><td>2393.50</td><td>2.29</td></tr>",
                            "<tr><td>11064</td><td>71</td><td>4330.40</td><td>4.15</td></tr>",
                            "<tr><td>10359</td><td>72</td><td>3471.68</td><td>21.41</td></tr>",
                            "<tr><td>10377</td><td>72</td><td>863.60</td><td>5.33</td></tr>",
                            "<tr><td>10388</td><td>72</td><td>1228.80</td><td>7.58</td></tr>",
                            "<tr><td>10472</td><td>72</td><td>1036.80</td><td>6.39</td></tr>",
                            "<tr><td>10523</td><td>72</td><td>2444.31</td><td>15.07</td></tr>",
                            "<tr><td>10547</td><td>72</td><td>1792.80</td><td>11.06</td></tr>",
                            "<tr><td>10800</td><td>72</td><td>1468.94</td><td>9.06</td></tr>",
                            "<tr><td>10804</td><td>72</td><td>2278.40</td><td>14.05</td></tr>",
                            "<tr><td>10869</td><td>72</td><td>1630.00</td><td>10.05</td></tr>",
                            "<tr><td>10341</td><td>73</td><td>352.60</td><td>2.10</td></tr>",
                            "<tr><td>10417</td><td>73</td><td>11188.40</td><td>66.53</td></tr>",
                            "<tr><td>10556</td><td>73</td><td>835.20</td><td>4.97</td></tr>",
                            "<tr><td>10642</td><td>73</td><td>696.00</td><td>4.14</td></tr>",
                            "<tr><td>10669</td><td>73</td><td>570.00</td><td>3.39</td></tr>",
                            "<tr><td>10802</td><td>73</td><td>2942.81</td><td>17.50</td></tr>",
                            "<tr><td>11074</td><td>73</td><td>232.09</td><td>1.38</td></tr>",
                            "<tr><td>10738</td><td>74</td><td>52.35</td><td>2.16</td></tr>",
                            "<tr><td>10907</td><td>74</td><td>108.50</td><td>4.48</td></tr>",
                            "<tr><td>10964</td><td>74</td><td>2052.50</td><td>84.70</td></tr>",
                            "<tr><td>11043</td><td>74</td><td>210.00</td><td>8.67</td></tr>",
                            "<tr><td>10271</td><td>75</td><td>48.00</td><td>0.42</td></tr>",
                            "<tr><td>10329</td><td>75</td><td>4578.43</td><td>40.02</td></tr>",
                            "<tr><td>10349</td><td>75</td><td>141.60</td><td>1.24</td></tr>",
                            "<tr><td>10369</td><td>75</td><td>2390.40</td><td>20.89</td></tr>",
                            "<tr><td>10385</td><td>75</td><td>691.20</td><td>6.04</td></tr>",
                            "<tr><td>10432</td><td>75</td><td>485.00</td><td>4.24</td></tr>",
                            "<tr><td>10756</td><td>75</td><td>1990.00</td><td>17.39</td></tr>",
                            "<tr><td>10821</td><td>75</td><td>678.00</td><td>5.93</td></tr>",
                            "<tr><td>10974</td><td>75</td><td>439.00</td><td>3.84</td></tr>",
                            "<tr><td>10252</td><td>76</td><td>3597.90</td><td>14.94</td></tr>",
                            "<tr><td>10302</td><td>76</td><td>2708.80</td><td>11.25</td></tr>",
                            "<tr><td>10458</td><td>76</td><td>3891.00</td><td>16.15</td></tr>",
                            "<tr><td>10463</td><td>76</td><td>713.30</td><td>2.96</td></tr>",
                            "<tr><td>10475</td><td>76</td><td>1505.18</td><td>6.25</td></tr>",
                            "<tr><td>10767</td><td>76</td><td>28.00</td><td>0.12</td></tr>",
                            "<tr><td>10841</td><td>76</td><td>4581.00</td><td>19.02</td></tr>",
                            "<tr><td>10846</td><td>76</td><td>1112.00</td><td>4.62</td></tr>",
                            "<tr><td>10885</td><td>76</td><td>1209.00</td><td>5.02</td></tr>",
                            "<tr><td>10930</td><td>76</td><td>2255.50</td><td>9.36</td></tr>",
                            "<tr><td>11035</td><td>76</td><td>1754.50</td><td>7.28</td></tr>",
                            "<tr><td>11038</td><td>76</td><td>732.60</td><td>3.04</td></tr>",
                            "<tr><td>10310</td><td>77</td><td>336.00</td><td>10.00</td></tr>",
                            "<tr><td>10708</td><td>77</td><td>180.40</td><td>5.37</td></tr>",
                            "<tr><td>10805</td><td>77</td><td>2775.00</td><td>82.56</td></tr>",
                            "<tr><td>10992</td><td>77</td><td>69.60</td><td>2.07</td></tr>",
                            "<tr><td>10624</td><td>78</td><td>1393.24</td><td>71.55</td></tr>",
                            "<tr><td>10775</td><td>78</td><td>228.00</td><td>11.71</td></tr>",
                            "<tr><td>11003</td><td>78</td><td>326.00</td><td>16.74</td></tr>",
                            "<tr><td>10249</td><td>79</td><td>1863.40</td><td>39.00</td></tr>",
                            "<tr><td>10438</td><td>79</td><td>454.00</td><td>9.50</td></tr>",
                            "<tr><td>10446</td><td>79</td><td>246.24</td><td>5.15</td></tr>",
                            "<tr><td>10548</td><td>79</td><td>240.10</td><td>5.02</td></tr>",
                            "<tr><td>10608</td><td>79</td><td>1064.00</td><td>22.27</td></tr>",
                            "<tr><td>10967</td><td>79</td><td>910.40</td><td>19.05</td></tr>",
                            "<tr><td>10276</td><td>80</td><td>420.00</td><td>3.88</td></tr>",
                            "<tr><td>10293</td><td>80</td><td>848.70</td><td>7.85</td></tr>",
                            "<tr><td>10304</td><td>80</td><td>954.40</td><td>8.83</td></tr>",
                            "<tr><td>10319</td><td>80</td><td>1191.20</td><td>11.02</td></tr>",
                            "<tr><td>10518</td><td>80</td><td>4150.05</td><td>38.38</td></tr>",
                            "<tr><td>10576</td><td>80</td><td>838.45</td><td>7.75</td></tr>",
                            "<tr><td>10676</td><td>80</td><td>534.85</td><td>4.95</td></tr>",
                            "<tr><td>10842</td><td>80</td><td>975.00</td><td>9.02</td></tr>",
                            "<tr><td>10915</td><td>80</td><td>539.50</td><td>4.99</td></tr>",
                            "<tr><td>11069</td><td>80</td><td>360.00</td><td>3.33</td></tr>",
                            "<tr><td>10292</td><td>81</td><td>1296.00</td><td>18.92</td></tr>",
                            "<tr><td>10496</td><td>81</td><td>190.00</td><td>2.77</td></tr>",
                            "<tr><td>10606</td><td>81</td><td>1130.40</td><td>16.50</td></tr>",
                            "<tr><td>10830</td><td>81</td><td>1974.00</td><td>28.81</td></tr>",
                            "<tr><td>10834</td><td>81</td><td>1432.71</td><td>20.91</td></tr>",
                            "<tr><td>10839</td><td>81</td><td>827.55</td><td>12.08</td></tr>",
                            "<tr><td>10574</td><td>82</td><td>764.30</td><td>48.64</td></tr>",
                            "<tr><td>10577</td><td>82</td><td>569.00</td><td>36.21</td></tr>",
                            "<tr><td>10822</td><td>82</td><td>237.90</td><td>15.14</td></tr>",
                            "<tr><td>10367</td><td>83</td><td>834.20</td><td>5.27</td></tr>",
                            "<tr><td>10399</td><td>83</td><td>1765.60</td><td>11.14</td></tr>",
                            "<tr><td>10465</td><td>83</td><td>2518.00</td><td>15.89</td></tr>",
                            "<tr><td>10591</td><td>83</td><td>812.50</td><td>5.13</td></tr>",
                            "<tr><td>10602</td><td>83</td><td>48.75</td><td>0.31</td></tr>",
                            "<tr><td>10688</td><td>83</td><td>3160.60</td><td>19.95</td></tr>",
                            "<tr><td>10744</td><td>83</td><td>736.00</td><td>4.65</td></tr>",
                            "<tr><td>10769</td><td>83</td><td>1684.28</td><td>10.63</td></tr>",
                            "<tr><td>10921</td><td>83</td><td>1936.00</td><td>12.22</td></tr>",
                            "<tr><td>10946</td><td>83</td><td>1407.50</td><td>8.88</td></tr>",
                            "<tr><td>10994</td><td>83</td><td>940.50</td><td>5.94</td></tr>",
                            "<tr><td>10251</td><td>84</td><td>654.06</td><td>7.12</td></tr>",
                            "<tr><td>10334</td><td>84</td><td>144.80</td><td>1.58</td></tr>",
                            "<tr><td>10450</td><td>84</td><td>425.12</td><td>4.63</td></tr>",
                            "<tr><td>10459</td><td>84</td><td>1659.20</td><td>18.07</td></tr>",
                            "<tr><td>10478</td><td>84</td><td>471.20</td><td>5.13</td></tr>",
                            "<tr><td>10546</td><td>84</td><td>2812.00</td><td>30.62</td></tr>",
                            "<tr><td>10806</td><td>84</td><td>439.60</td><td>4.79</td></tr>",
                            "<tr><td>10814</td><td>84</td><td>1788.45</td><td>19.48</td></tr>",
                            "<tr><td>10843</td><td>84</td><td>159.00</td><td>1.73</td></tr>",
                            "<tr><td>10850</td><td>84</td><td>629.00</td><td>6.85</td></tr>",
                            "<tr><td>10248</td><td>85</td><td>440.00</td><td>29.73</td></tr>",
                            "<tr><td>10274</td><td>85</td><td>538.60</td><td>36.39</td></tr>",
                            "<tr><td>10295</td><td>85</td><td>121.60</td><td>8.22</td></tr>",
                            "<tr><td>10737</td><td>85</td><td>139.80</td><td>9.45</td></tr>",
                            "<tr><td>10739</td><td>85</td><td>240.00</td><td>16.22</td></tr>",
                            "<tr><td>10301</td><td>86</td><td>755.00</td><td>7.87</td></tr>",
                            "<tr><td>10312</td><td>86</td><td>1614.80</td><td>16.84</td></tr>",
                            "<tr><td>10348</td><td>86</td><td>363.60</td><td>3.79</td></tr>",
                            "<tr><td>10356</td><td>86</td><td>1106.40</td><td>11.54</td></tr>",
                            "<tr><td>10513</td><td>86</td><td>1942.00</td><td>20.25</td></tr>",
                            "<tr><td>10632</td><td>86</td><td>589.00</td><td>6.14</td></tr>",
                            "<tr><td>10640</td><td>86</td><td>708.75</td><td>7.39</td></tr>",
                            "<tr><td>10651</td><td>86</td><td>397.80</td><td>4.15</td></tr>",
                            "<tr><td>10668</td><td>86</td><td>625.28</td><td>6.52</td></tr>",
                            "<tr><td>11046</td><td>86</td><td>1485.80</td><td>15.50</td></tr>",
                            "<tr><td>10266</td><td>87</td><td>346.56</td><td>2.21</td></tr>",
                            "<tr><td>10270</td><td>87</td><td>1376.00</td><td>8.79</td></tr>",
                            "<tr><td>10320</td><td>87</td><td>516.00</td><td>3.30</td></tr>",
                            "<tr><td>10333</td><td>87</td><td>877.20</td><td>5.61</td></tr>",
                            "<tr><td>10412</td><td>87</td><td>334.80</td><td>2.14</td></tr>",
                            "<tr><td>10416</td><td>87</td><td>720.00</td><td>4.60</td></tr>",
                            "<tr><td>10437</td><td>87</td><td>393.00</td><td>2.51</td></tr>",
                            "<tr><td>10455</td><td>87</td><td>2684.00</td><td>17.15</td></tr>",
                            "<tr><td>10526</td><td>87</td><td>1151.40</td><td>7.36</td></tr>",
                            "<tr><td>10553</td><td>87</td><td>1546.30</td><td>9.88</td></tr>",
                            "<tr><td>10583</td><td>87</td><td>2237.50</td><td>14.30</td></tr>",
                            "<tr><td>10636</td><td>87</td><td>629.50</td><td>4.02</td></tr>",
                            "<tr><td>10750</td><td>87</td><td>1590.56</td><td>10.16</td></tr>",
                            "<tr><td>10781</td><td>87</td><td>975.88</td><td>6.24</td></tr>",
                            "<tr><td>11025</td><td>87</td><td>270.00</td><td>1.73</td></tr>",
                            "<tr><td>10256</td><td>88</td><td>517.80</td><td>8.53</td></tr>",
                            "<tr><td>10420</td><td>88</td><td>1707.84</td><td>28.14</td></tr>",
                            "<tr><td>10585</td><td>88</td><td>142.50</td><td>2.35</td></tr>",
                            "<tr><td>10644</td><td>88</td><td>1371.80</td><td>22.61</td></tr>",
                            "<tr><td>10803</td><td>88</td><td>1193.01</td><td>19.66</td></tr>",
                            "<tr><td>10809</td><td>88</td><td>140.00</td><td>2.31</td></tr>",
                            "<tr><td>10900</td><td>88</td><td>33.75</td><td>0.56</td></tr>",
                            "<tr><td>10905</td><td>88</td><td>342.00</td><td>5.64</td></tr>",
                            "<tr><td>10935</td><td>88</td><td>619.50</td><td>10.21</td></tr>",
                            "<tr><td>10269</td><td>89</td><td>642.20</td><td>2.35</td></tr>",
                            "<tr><td>10344</td><td>89</td><td>2296.00</td><td>8.39</td></tr>",
                            "<tr><td>10469</td><td>89</td><td>956.68</td><td>3.50</td></tr>",
                            "<tr><td>10483</td><td>89</td><td>668.80</td><td>2.44</td></tr>",
                            "<tr><td>10504</td><td>89</td><td>1388.50</td><td>5.07</td></tr>",
                            "<tr><td>10596</td><td>89</td><td>1180.88</td><td>4.32</td></tr>",
                            "<tr><td>10693</td><td>89</td><td>2071.20</td><td>7.57</td></tr>",
                            "<tr><td>10696</td><td>89</td><td>996.00</td><td>3.64</td></tr>",
                            "<tr><td>10723</td><td>89</td><td>468.45</td><td>1.71</td></tr>",
                            "<tr><td>10740</td><td>89</td><td>1416.00</td><td>5.17</td></tr>",
                            "<tr><td>10861</td><td>89</td><td>3523.40</td><td>12.88</td></tr>",
                            "<tr><td>10904</td><td>89</td><td>1924.25</td><td>7.03</td></tr>",
                            "<tr><td>11032</td><td>89</td><td>8902.50</td><td>32.53</td></tr>",
                            "<tr><td>11066</td><td>89</td><td>928.75</td><td>3.39</td></tr>",
                            "<tr><td>10615</td><td>90</td><td>120.00</td><td>3.80</td></tr>",
                            "<tr><td>10673</td><td>90</td><td>412.35</td><td>13.04</td></tr>",
                            "<tr><td>10695</td><td>90</td><td>642.00</td><td>20.31</td></tr>",
                            "<tr><td>10873</td><td>90</td><td>336.80</td><td>10.65</td></tr>",
                            "<tr><td>10879</td><td>90</td><td>611.30</td><td>19.34</td></tr>",
                            "<tr><td>10910</td><td>90</td><td>452.90</td><td>14.33</td></tr>",
                            "<tr><td>11005</td><td>90</td><td>586.00</td><td>18.54</td></tr>",
                            "<tr><td>10374</td><td>91</td><td>459.00</td><td>13.00</td></tr>",
                            "<tr><td>10611</td><td>91</td><td>808.00</td><td>22.88</td></tr>",
                            "<tr><td>10792</td><td>91</td><td>399.85</td><td>11.32</td></tr>",
                            "<tr><td>10870</td><td>91</td><td>160.00</td><td>4.53</td></tr>",
                            "<tr><td>10906</td><td>91</td><td>427.50</td><td>12.10</td></tr>",
                            "<tr><td>10998</td><td>91</td><td>686.00</td><td>19.42</td></tr>",
                            "<tr><td>11044</td><td>91</td><td>591.60</td><td>16.75</td></tr>",
                            "</table>"
                        ]
                    }
                }
            ],
            "execution_count": 118
        },
        {
            "cell_type": "markdown",
            "source": [
                "\\--------\n",
                "\n",
                "EXISTS  \n",
                "\\--------\n",
                "\n",
                "Proposition: Write a query that returns a list of all the customers from Spain that have placed at least one order.\n",
                "\n",
                "Our inner query returns all rows from the Sales.\\[Order\\] table where the CustomerId is the same as the outer query row's CustomerId.  In other words, the inner query will have results only if the customer has an order recorded in the Order table.  Then we use EXISTS to filter for only the customers that have placed an order.  If the customer did place an order, the inner query will have results, and EXISTS will return true.  <span style=\"font-family: -apple-system, BlinkMacSystemFont, sans-serif; color: var(--vscode-foreground);\">If the customer did not place any orders, the inner query will return an empty result, and EXISTS will return false.&nbsp;&nbsp;</span>"
            ],
            "metadata": {
                "language": "sql",
                "azdata_cell_guid": "38b1300f-ddb1-4ed6-a897-328f719d7af4"
            },
            "attachments": {}
        },
        {
            "cell_type": "code",
            "source": [
                "USE Northwinds2022TSQLV7;\n",
                "\n",
                "SELECT CustomerId, CustomerCompanyName\n",
                "FROM Sales.[Customer] AS C\n",
                "WHERE CustomerCountry = N'Spain'\n",
                "  AND EXISTS\n",
                "    (SELECT * FROM Sales.[Order] AS O\n",
                "     WHERE O.CustomerId = C.CustomerId);"
            ],
            "metadata": {
                "language": "sql",
                "azdata_cell_guid": "96c91b65-50cd-4adf-927f-981d40146f6e"
            },
            "outputs": [
                {
                    "output_type": "display_data",
                    "data": {
                        "text/html": "(4 rows affected)"
                    },
                    "metadata": {}
                },
                {
                    "output_type": "display_data",
                    "data": {
                        "text/html": "Total execution time: 00:00:00.005"
                    },
                    "metadata": {}
                },
                {
                    "output_type": "execute_result",
                    "metadata": {},
                    "execution_count": 104,
                    "data": {
                        "application/vnd.dataresource+json": {
                            "schema": {
                                "fields": [
                                    {
                                        "name": "CustomerId"
                                    },
                                    {
                                        "name": "CustomerCompanyName"
                                    }
                                ]
                            },
                            "data": [
                                {
                                    "CustomerId": "8",
                                    "CustomerCompanyName": "Customer QUHWH"
                                },
                                {
                                    "CustomerId": "29",
                                    "CustomerCompanyName": "Customer MDLWA"
                                },
                                {
                                    "CustomerId": "30",
                                    "CustomerCompanyName": "Customer KSLQF"
                                },
                                {
                                    "CustomerId": "69",
                                    "CustomerCompanyName": "Customer SIUIH"
                                }
                            ]
                        },
                        "text/html": [
                            "<table>",
                            "<tr><th>CustomerId</th><th>CustomerCompanyName</th></tr>",
                            "<tr><td>8</td><td>Customer QUHWH</td></tr>",
                            "<tr><td>29</td><td>Customer MDLWA</td></tr>",
                            "<tr><td>30</td><td>Customer KSLQF</td></tr>",
                            "<tr><td>69</td><td>Customer SIUIH</td></tr>",
                            "</table>"
                        ]
                    }
                }
            ],
            "execution_count": 104
        },
        {
            "cell_type": "markdown",
            "source": [
                "\\--------\n",
                "\n",
                "EXISTS  \n",
                "\\--------\n",
                "\n",
                "Proposition: <span style=\"font-family: -apple-system, BlinkMacSystemFont, sans-serif; color: var(--vscode-foreground);\">Write a query that returns a list of all the customers from Spain that have not placed any orders.</span>\n",
                "\n",
                "<span style=\"font-family: -apple-system, BlinkMacSystemFont, sans-serif; color: var(--vscode-foreground);\">This query works the same as the one above except it negates the EXISTS predicate with NOT to only return true if the inner query has an empty result, and return false if the inner query returns actual results.</span>"
            ],
            "metadata": {
                "language": "sql",
                "azdata_cell_guid": "977ce82f-0738-43c9-b66e-6b7bbf87e84b"
            },
            "attachments": {}
        },
        {
            "cell_type": "code",
            "source": [
                "USE Northwinds2022TSQLV7;\n",
                "\n",
                "SELECT CustomerId, CustomerCompanyName\n",
                "FROM Sales.[Customer] AS C\n",
                "WHERE CustomerCountry = N'Spain'\n",
                "  AND NOT EXISTS\n",
                "    (SELECT * FROM Sales.[Order] AS O\n",
                "     WHERE O.CustomerId = C.CustomerId);"
            ],
            "metadata": {
                "language": "sql",
                "azdata_cell_guid": "0d9c8a3f-fb0b-4040-aedf-0d2d0610c491"
            },
            "outputs": [
                {
                    "output_type": "display_data",
                    "data": {
                        "text/html": "(1 row affected)"
                    },
                    "metadata": {}
                },
                {
                    "output_type": "display_data",
                    "data": {
                        "text/html": "Total execution time: 00:00:00.004"
                    },
                    "metadata": {}
                },
                {
                    "output_type": "execute_result",
                    "metadata": {},
                    "execution_count": 105,
                    "data": {
                        "application/vnd.dataresource+json": {
                            "schema": {
                                "fields": [
                                    {
                                        "name": "CustomerId"
                                    },
                                    {
                                        "name": "CustomerCompanyName"
                                    }
                                ]
                            },
                            "data": [
                                {
                                    "CustomerId": "22",
                                    "CustomerCompanyName": "Customer DTDMN"
                                }
                            ]
                        },
                        "text/html": [
                            "<table>",
                            "<tr><th>CustomerId</th><th>CustomerCompanyName</th></tr>",
                            "<tr><td>22</td><td>Customer DTDMN</td></tr>",
                            "</table>"
                        ]
                    }
                }
            ],
            "execution_count": 105
        },
        {
            "cell_type": "markdown",
            "source": [
                "Chapter 4 Exercise 2\n",
                "\n",
                "Proposition: Write a query that returns all of the orders that were placed by the customer who placed the most orders.\n",
                "\n",
                "Here we use a subquery to find the customer who placed the most orders.  We use the results from the subquery to filter for only the orders placed by the corrrect customer/s.  Since multiple customers can be tied for most orders placed, we use TOP (1) WITH TIES in our inner query SELECT clause. This might return a multivalued tables so we must use IN instead of = in our outer query WHERE clause."
            ],
            "metadata": {
                "language": "sql",
                "azdata_cell_guid": "4cab654d-a7d8-4994-a06f-b48ef239b273"
            },
            "attachments": {}
        },
        {
            "cell_type": "code",
            "source": [
                "USE Northwinds2022TSQLV7;\n",
                "\n",
                "SELECT CustomerId, OrderId, OrderDate, EmployeeId\n",
                "FROM Sales.[Order]\n",
                "WHERE CustomerId IN\n",
                "    (SELECT TOP (1) WITH TIES O.CustomerId\n",
                "    FROM Sales.[Order] AS O\n",
                "    GROUP BY CustomerId\n",
                "    ORDER BY COUNT(*) DESC);"
            ],
            "metadata": {
                "language": "sql",
                "azdata_cell_guid": "6b1025ce-eadc-47b5-a31a-3fa61ddde462"
            },
            "outputs": [
                {
                    "output_type": "display_data",
                    "data": {
                        "text/html": "(31 rows affected)"
                    },
                    "metadata": {}
                },
                {
                    "output_type": "display_data",
                    "data": {
                        "text/html": "Total execution time: 00:00:00.006"
                    },
                    "metadata": {}
                },
                {
                    "output_type": "execute_result",
                    "metadata": {},
                    "execution_count": 106,
                    "data": {
                        "application/vnd.dataresource+json": {
                            "schema": {
                                "fields": [
                                    {
                                        "name": "CustomerId"
                                    },
                                    {
                                        "name": "OrderId"
                                    },
                                    {
                                        "name": "OrderDate"
                                    },
                                    {
                                        "name": "EmployeeId"
                                    }
                                ]
                            },
                            "data": [
                                {
                                    "CustomerId": "71",
                                    "OrderId": "10324",
                                    "OrderDate": "2014-10-08",
                                    "EmployeeId": "9"
                                },
                                {
                                    "CustomerId": "71",
                                    "OrderId": "10393",
                                    "OrderDate": "2014-12-25",
                                    "EmployeeId": "1"
                                },
                                {
                                    "CustomerId": "71",
                                    "OrderId": "10398",
                                    "OrderDate": "2014-12-30",
                                    "EmployeeId": "2"
                                },
                                {
                                    "CustomerId": "71",
                                    "OrderId": "10440",
                                    "OrderDate": "2015-02-10",
                                    "EmployeeId": "4"
                                },
                                {
                                    "CustomerId": "71",
                                    "OrderId": "10452",
                                    "OrderDate": "2015-02-20",
                                    "EmployeeId": "8"
                                },
                                {
                                    "CustomerId": "71",
                                    "OrderId": "10510",
                                    "OrderDate": "2015-04-18",
                                    "EmployeeId": "6"
                                },
                                {
                                    "CustomerId": "71",
                                    "OrderId": "10555",
                                    "OrderDate": "2015-06-02",
                                    "EmployeeId": "6"
                                },
                                {
                                    "CustomerId": "71",
                                    "OrderId": "10603",
                                    "OrderDate": "2015-07-18",
                                    "EmployeeId": "8"
                                },
                                {
                                    "CustomerId": "71",
                                    "OrderId": "10607",
                                    "OrderDate": "2015-07-22",
                                    "EmployeeId": "5"
                                },
                                {
                                    "CustomerId": "71",
                                    "OrderId": "10612",
                                    "OrderDate": "2015-07-28",
                                    "EmployeeId": "1"
                                },
                                {
                                    "CustomerId": "71",
                                    "OrderId": "10627",
                                    "OrderDate": "2015-08-11",
                                    "EmployeeId": "8"
                                },
                                {
                                    "CustomerId": "71",
                                    "OrderId": "10657",
                                    "OrderDate": "2015-09-04",
                                    "EmployeeId": "2"
                                },
                                {
                                    "CustomerId": "71",
                                    "OrderId": "10678",
                                    "OrderDate": "2015-09-23",
                                    "EmployeeId": "7"
                                },
                                {
                                    "CustomerId": "71",
                                    "OrderId": "10700",
                                    "OrderDate": "2015-10-10",
                                    "EmployeeId": "3"
                                },
                                {
                                    "CustomerId": "71",
                                    "OrderId": "10711",
                                    "OrderDate": "2015-10-21",
                                    "EmployeeId": "5"
                                },
                                {
                                    "CustomerId": "71",
                                    "OrderId": "10713",
                                    "OrderDate": "2015-10-22",
                                    "EmployeeId": "1"
                                },
                                {
                                    "CustomerId": "71",
                                    "OrderId": "10714",
                                    "OrderDate": "2015-10-22",
                                    "EmployeeId": "5"
                                },
                                {
                                    "CustomerId": "71",
                                    "OrderId": "10722",
                                    "OrderDate": "2015-10-29",
                                    "EmployeeId": "8"
                                },
                                {
                                    "CustomerId": "71",
                                    "OrderId": "10748",
                                    "OrderDate": "2015-11-20",
                                    "EmployeeId": "3"
                                },
                                {
                                    "CustomerId": "71",
                                    "OrderId": "10757",
                                    "OrderDate": "2015-11-27",
                                    "EmployeeId": "6"
                                },
                                {
                                    "CustomerId": "71",
                                    "OrderId": "10815",
                                    "OrderDate": "2016-01-05",
                                    "EmployeeId": "2"
                                },
                                {
                                    "CustomerId": "71",
                                    "OrderId": "10847",
                                    "OrderDate": "2016-01-22",
                                    "EmployeeId": "4"
                                },
                                {
                                    "CustomerId": "71",
                                    "OrderId": "10882",
                                    "OrderDate": "2016-02-11",
                                    "EmployeeId": "4"
                                },
                                {
                                    "CustomerId": "71",
                                    "OrderId": "10894",
                                    "OrderDate": "2016-02-18",
                                    "EmployeeId": "1"
                                },
                                {
                                    "CustomerId": "71",
                                    "OrderId": "10941",
                                    "OrderDate": "2016-03-11",
                                    "EmployeeId": "7"
                                },
                                {
                                    "CustomerId": "71",
                                    "OrderId": "10983",
                                    "OrderDate": "2016-03-27",
                                    "EmployeeId": "2"
                                },
                                {
                                    "CustomerId": "71",
                                    "OrderId": "10984",
                                    "OrderDate": "2016-03-30",
                                    "EmployeeId": "1"
                                },
                                {
                                    "CustomerId": "71",
                                    "OrderId": "11002",
                                    "OrderDate": "2016-04-06",
                                    "EmployeeId": "4"
                                },
                                {
                                    "CustomerId": "71",
                                    "OrderId": "11030",
                                    "OrderDate": "2016-04-17",
                                    "EmployeeId": "7"
                                },
                                {
                                    "CustomerId": "71",
                                    "OrderId": "11031",
                                    "OrderDate": "2016-04-17",
                                    "EmployeeId": "6"
                                },
                                {
                                    "CustomerId": "71",
                                    "OrderId": "11064",
                                    "OrderDate": "2016-05-01",
                                    "EmployeeId": "1"
                                }
                            ]
                        },
                        "text/html": [
                            "<table>",
                            "<tr><th>CustomerId</th><th>OrderId</th><th>OrderDate</th><th>EmployeeId</th></tr>",
                            "<tr><td>71</td><td>10324</td><td>2014-10-08</td><td>9</td></tr>",
                            "<tr><td>71</td><td>10393</td><td>2014-12-25</td><td>1</td></tr>",
                            "<tr><td>71</td><td>10398</td><td>2014-12-30</td><td>2</td></tr>",
                            "<tr><td>71</td><td>10440</td><td>2015-02-10</td><td>4</td></tr>",
                            "<tr><td>71</td><td>10452</td><td>2015-02-20</td><td>8</td></tr>",
                            "<tr><td>71</td><td>10510</td><td>2015-04-18</td><td>6</td></tr>",
                            "<tr><td>71</td><td>10555</td><td>2015-06-02</td><td>6</td></tr>",
                            "<tr><td>71</td><td>10603</td><td>2015-07-18</td><td>8</td></tr>",
                            "<tr><td>71</td><td>10607</td><td>2015-07-22</td><td>5</td></tr>",
                            "<tr><td>71</td><td>10612</td><td>2015-07-28</td><td>1</td></tr>",
                            "<tr><td>71</td><td>10627</td><td>2015-08-11</td><td>8</td></tr>",
                            "<tr><td>71</td><td>10657</td><td>2015-09-04</td><td>2</td></tr>",
                            "<tr><td>71</td><td>10678</td><td>2015-09-23</td><td>7</td></tr>",
                            "<tr><td>71</td><td>10700</td><td>2015-10-10</td><td>3</td></tr>",
                            "<tr><td>71</td><td>10711</td><td>2015-10-21</td><td>5</td></tr>",
                            "<tr><td>71</td><td>10713</td><td>2015-10-22</td><td>1</td></tr>",
                            "<tr><td>71</td><td>10714</td><td>2015-10-22</td><td>5</td></tr>",
                            "<tr><td>71</td><td>10722</td><td>2015-10-29</td><td>8</td></tr>",
                            "<tr><td>71</td><td>10748</td><td>2015-11-20</td><td>3</td></tr>",
                            "<tr><td>71</td><td>10757</td><td>2015-11-27</td><td>6</td></tr>",
                            "<tr><td>71</td><td>10815</td><td>2016-01-05</td><td>2</td></tr>",
                            "<tr><td>71</td><td>10847</td><td>2016-01-22</td><td>4</td></tr>",
                            "<tr><td>71</td><td>10882</td><td>2016-02-11</td><td>4</td></tr>",
                            "<tr><td>71</td><td>10894</td><td>2016-02-18</td><td>1</td></tr>",
                            "<tr><td>71</td><td>10941</td><td>2016-03-11</td><td>7</td></tr>",
                            "<tr><td>71</td><td>10983</td><td>2016-03-27</td><td>2</td></tr>",
                            "<tr><td>71</td><td>10984</td><td>2016-03-30</td><td>1</td></tr>",
                            "<tr><td>71</td><td>11002</td><td>2016-04-06</td><td>4</td></tr>",
                            "<tr><td>71</td><td>11030</td><td>2016-04-17</td><td>7</td></tr>",
                            "<tr><td>71</td><td>11031</td><td>2016-04-17</td><td>6</td></tr>",
                            "<tr><td>71</td><td>11064</td><td>2016-05-01</td><td>1</td></tr>",
                            "</table>"
                        ]
                    }
                }
            ],
            "execution_count": 106
        },
        {
            "cell_type": "markdown",
            "source": [
                "Chapter 4 Exercise 4\n",
                "\n",
                "Proposition: Write a query that returns all of the countries where customers live but no employees.\n",
                "\n",
                "Here we use a subquery to find all the countries where employees live.  Then the outer query filters out all rows in the Sales.Customer table where the customers country is in the list of countries from the inner query.  We use the DISTINCT clause to ensure no duplicates in our resulting table."
            ],
            "metadata": {
                "language": "sql",
                "azdata_cell_guid": "4a40cee9-2801-471a-b061-f0861b946ea8"
            },
            "attachments": {}
        },
        {
            "cell_type": "code",
            "source": [
                "USE Northwinds2022TSQLV7;\n",
                "\n",
                "SELECT DISTINCT CustomerCountry\n",
                "FROM Sales.[Customer]\n",
                "WHERE CustomerCountry NOT IN\n",
                "    (SELECT EmployeeCountry \n",
                "    FROM HumanResources.[Employee])"
            ],
            "metadata": {
                "language": "sql",
                "azdata_cell_guid": "893f68ec-06fc-480e-8d7c-87ee968070d2"
            },
            "outputs": [
                {
                    "output_type": "display_data",
                    "data": {
                        "text/html": "(19 rows affected)"
                    },
                    "metadata": {}
                },
                {
                    "output_type": "display_data",
                    "data": {
                        "text/html": "Total execution time: 00:00:00.005"
                    },
                    "metadata": {}
                },
                {
                    "output_type": "execute_result",
                    "metadata": {},
                    "execution_count": 107,
                    "data": {
                        "application/vnd.dataresource+json": {
                            "schema": {
                                "fields": [
                                    {
                                        "name": "CustomerCountry"
                                    }
                                ]
                            },
                            "data": [
                                {
                                    "CustomerCountry": "Argentina"
                                },
                                {
                                    "CustomerCountry": "Austria"
                                },
                                {
                                    "CustomerCountry": "Belgium"
                                },
                                {
                                    "CustomerCountry": "Brazil"
                                },
                                {
                                    "CustomerCountry": "Canada"
                                },
                                {
                                    "CustomerCountry": "Denmark"
                                },
                                {
                                    "CustomerCountry": "Finland"
                                },
                                {
                                    "CustomerCountry": "France"
                                },
                                {
                                    "CustomerCountry": "Germany"
                                },
                                {
                                    "CustomerCountry": "Ireland"
                                },
                                {
                                    "CustomerCountry": "Italy"
                                },
                                {
                                    "CustomerCountry": "Mexico"
                                },
                                {
                                    "CustomerCountry": "Norway"
                                },
                                {
                                    "CustomerCountry": "Poland"
                                },
                                {
                                    "CustomerCountry": "Portugal"
                                },
                                {
                                    "CustomerCountry": "Spain"
                                },
                                {
                                    "CustomerCountry": "Sweden"
                                },
                                {
                                    "CustomerCountry": "Switzerland"
                                },
                                {
                                    "CustomerCountry": "Venezuela"
                                }
                            ]
                        },
                        "text/html": [
                            "<table>",
                            "<tr><th>CustomerCountry</th></tr>",
                            "<tr><td>Argentina</td></tr>",
                            "<tr><td>Austria</td></tr>",
                            "<tr><td>Belgium</td></tr>",
                            "<tr><td>Brazil</td></tr>",
                            "<tr><td>Canada</td></tr>",
                            "<tr><td>Denmark</td></tr>",
                            "<tr><td>Finland</td></tr>",
                            "<tr><td>France</td></tr>",
                            "<tr><td>Germany</td></tr>",
                            "<tr><td>Ireland</td></tr>",
                            "<tr><td>Italy</td></tr>",
                            "<tr><td>Mexico</td></tr>",
                            "<tr><td>Norway</td></tr>",
                            "<tr><td>Poland</td></tr>",
                            "<tr><td>Portugal</td></tr>",
                            "<tr><td>Spain</td></tr>",
                            "<tr><td>Sweden</td></tr>",
                            "<tr><td>Switzerland</td></tr>",
                            "<tr><td>Venezuela</td></tr>",
                            "</table>"
                        ]
                    }
                }
            ],
            "execution_count": 107
        },
        {
            "cell_type": "markdown",
            "source": [
                "\\---------------\n",
                "\n",
                "Derived Tables\n",
                "\n",
                "\\---------------\n",
                "\n",
                "Proposition: Write a query that returns a list of all the customers from the USA with their company name.\n",
                "\n",
                "A derived table is used just to show the syntax."
            ],
            "metadata": {
                "language": "sql",
                "azdata_cell_guid": "29e431b9-893f-4dd5-8be8-dcffa722fbc4"
            },
            "attachments": {}
        },
        {
            "cell_type": "code",
            "source": [
                "USE Northwinds2022TSQLV7;\n",
                "\n",
                "SELECT *\n",
                "FROM (SELECT CustomerId, CustomerCompanyName\n",
                "    FROM Sales.[Customer]\n",
                "    WHERE CustomerCountry = N'USA') AS USACust"
            ],
            "metadata": {
                "language": "sql",
                "azdata_cell_guid": "f1f0103d-e34e-460d-a1ff-29b933a23585"
            },
            "outputs": [
                {
                    "output_type": "display_data",
                    "data": {
                        "text/html": "(13 rows affected)"
                    },
                    "metadata": {}
                },
                {
                    "output_type": "display_data",
                    "data": {
                        "text/html": "Total execution time: 00:00:00.004"
                    },
                    "metadata": {}
                },
                {
                    "output_type": "execute_result",
                    "metadata": {},
                    "execution_count": 108,
                    "data": {
                        "application/vnd.dataresource+json": {
                            "schema": {
                                "fields": [
                                    {
                                        "name": "CustomerId"
                                    },
                                    {
                                        "name": "CustomerCompanyName"
                                    }
                                ]
                            },
                            "data": [
                                {
                                    "CustomerId": "32",
                                    "CustomerCompanyName": "Customer YSIQX"
                                },
                                {
                                    "CustomerId": "36",
                                    "CustomerCompanyName": "Customer LVJSO"
                                },
                                {
                                    "CustomerId": "43",
                                    "CustomerCompanyName": "Customer UISOJ"
                                },
                                {
                                    "CustomerId": "45",
                                    "CustomerCompanyName": "Customer QXPPT"
                                },
                                {
                                    "CustomerId": "48",
                                    "CustomerCompanyName": "Customer DVFMB"
                                },
                                {
                                    "CustomerId": "55",
                                    "CustomerCompanyName": "Customer KZQZT"
                                },
                                {
                                    "CustomerId": "65",
                                    "CustomerCompanyName": "Customer NYUHS"
                                },
                                {
                                    "CustomerId": "71",
                                    "CustomerCompanyName": "Customer LCOUJ"
                                },
                                {
                                    "CustomerId": "75",
                                    "CustomerCompanyName": "Customer XOJYP"
                                },
                                {
                                    "CustomerId": "77",
                                    "CustomerCompanyName": "Customer LCYBZ"
                                },
                                {
                                    "CustomerId": "78",
                                    "CustomerCompanyName": "Customer NLTYP"
                                },
                                {
                                    "CustomerId": "82",
                                    "CustomerCompanyName": "Customer EYHKM"
                                },
                                {
                                    "CustomerId": "89",
                                    "CustomerCompanyName": "Customer YBQTI"
                                }
                            ]
                        },
                        "text/html": [
                            "<table>",
                            "<tr><th>CustomerId</th><th>CustomerCompanyName</th></tr>",
                            "<tr><td>32</td><td>Customer YSIQX</td></tr>",
                            "<tr><td>36</td><td>Customer LVJSO</td></tr>",
                            "<tr><td>43</td><td>Customer UISOJ</td></tr>",
                            "<tr><td>45</td><td>Customer QXPPT</td></tr>",
                            "<tr><td>48</td><td>Customer DVFMB</td></tr>",
                            "<tr><td>55</td><td>Customer KZQZT</td></tr>",
                            "<tr><td>65</td><td>Customer NYUHS</td></tr>",
                            "<tr><td>71</td><td>Customer LCOUJ</td></tr>",
                            "<tr><td>75</td><td>Customer XOJYP</td></tr>",
                            "<tr><td>77</td><td>Customer LCYBZ</td></tr>",
                            "<tr><td>78</td><td>Customer NLTYP</td></tr>",
                            "<tr><td>82</td><td>Customer EYHKM</td></tr>",
                            "<tr><td>89</td><td>Customer YBQTI</td></tr>",
                            "</table>"
                        ]
                    }
                }
            ],
            "execution_count": 108
        },
        {
            "cell_type": "markdown",
            "source": [
                "\\--------------------------\n",
                "\n",
                "Assigning Column Aliases\n",
                "\n",
                "\\--------------------------\n",
                "\n",
                "Proposition: Write a query that, for every year, returns the total number of customers that placed at least one order during that year.\n",
                "\n",
                "The commented out version doesn't work.  This is because the GROUP BY clause refers to an alias which is only defined in the SELECT clause.  However, the SELECT clause is executed after the GROUP BY clause.\n",
                "\n",
                "One solution is to just use YEAR(orderdate) in the GROUP BY clause instead of the alias.  This is shown in the middle valid query.\n",
                "\n",
                "Another solution is to assign the column alias to a derived table.  Now, the alias is available to be access anywhere in the outer query.  This is shown in the first valid query.\n",
                "\n",
                "A different way to assign the alias in the derived table is shown in the last valid query."
            ],
            "metadata": {
                "language": "sql",
                "azdata_cell_guid": "b169f2d4-4ade-4b47-87fd-6ffd7aec5c76"
            },
            "attachments": {}
        },
        {
            "cell_type": "code",
            "source": [
                "USE Northwinds2022TSQLV7;\n",
                "\n",
                "/*\n",
                "SELECT\n",
                "  YEAR(OrderDate) AS orderyear,\n",
                "  COUNT(DISTINCT CustomerId) AS numcusts\n",
                "FROM Sales.[Order]\n",
                "GROUP BY orderyear;\n",
                "*/\n",
                "\n",
                "SELECT orderyear, COUNT(DISTINCT CustomerId) AS numcusts\n",
                "FROM (SELECT YEAR(OrderDate) AS orderyear, CustomerId\n",
                "      FROM Sales.[Order]) AS D\n",
                "GROUP BY orderyear;\n",
                "\n",
                "SELECT YEAR(orderdate) AS orderyear, COUNT(DISTINCT CustomerId) AS numcusts\n",
                "FROM Sales.[Order]\n",
                "GROUP BY YEAR(orderdate);\n",
                "\n",
                "SELECT orderyear, COUNT(DISTINCT custid) AS numcusts\n",
                "FROM (SELECT YEAR(orderdate), CustomerId\n",
                "      FROM Sales.[Order]) AS D(orderyear, custid)\n",
                "GROUP BY orderyear;"
            ],
            "metadata": {
                "language": "sql",
                "azdata_cell_guid": "591a6338-ebd7-4ebe-859f-ab7a6442eb78"
            },
            "outputs": [
                {
                    "output_type": "display_data",
                    "data": {
                        "text/html": "(3 rows affected)"
                    },
                    "metadata": {}
                },
                {
                    "output_type": "display_data",
                    "data": {
                        "text/html": "(3 rows affected)"
                    },
                    "metadata": {}
                },
                {
                    "output_type": "display_data",
                    "data": {
                        "text/html": "(3 rows affected)"
                    },
                    "metadata": {}
                },
                {
                    "output_type": "display_data",
                    "data": {
                        "text/html": "Total execution time: 00:00:00.013"
                    },
                    "metadata": {}
                },
                {
                    "output_type": "execute_result",
                    "metadata": {},
                    "execution_count": 109,
                    "data": {
                        "application/vnd.dataresource+json": {
                            "schema": {
                                "fields": [
                                    {
                                        "name": "orderyear"
                                    },
                                    {
                                        "name": "numcusts"
                                    }
                                ]
                            },
                            "data": [
                                {
                                    "orderyear": "2014",
                                    "numcusts": "67"
                                },
                                {
                                    "orderyear": "2015",
                                    "numcusts": "86"
                                },
                                {
                                    "orderyear": "2016",
                                    "numcusts": "81"
                                }
                            ]
                        },
                        "text/html": [
                            "<table>",
                            "<tr><th>orderyear</th><th>numcusts</th></tr>",
                            "<tr><td>2014</td><td>67</td></tr>",
                            "<tr><td>2015</td><td>86</td></tr>",
                            "<tr><td>2016</td><td>81</td></tr>",
                            "</table>"
                        ]
                    }
                },
                {
                    "output_type": "execute_result",
                    "metadata": {},
                    "execution_count": 109,
                    "data": {
                        "application/vnd.dataresource+json": {
                            "schema": {
                                "fields": [
                                    {
                                        "name": "orderyear"
                                    },
                                    {
                                        "name": "numcusts"
                                    }
                                ]
                            },
                            "data": [
                                {
                                    "orderyear": "2014",
                                    "numcusts": "67"
                                },
                                {
                                    "orderyear": "2015",
                                    "numcusts": "86"
                                },
                                {
                                    "orderyear": "2016",
                                    "numcusts": "81"
                                }
                            ]
                        },
                        "text/html": [
                            "<table>",
                            "<tr><th>orderyear</th><th>numcusts</th></tr>",
                            "<tr><td>2014</td><td>67</td></tr>",
                            "<tr><td>2015</td><td>86</td></tr>",
                            "<tr><td>2016</td><td>81</td></tr>",
                            "</table>"
                        ]
                    }
                },
                {
                    "output_type": "execute_result",
                    "metadata": {},
                    "execution_count": 109,
                    "data": {
                        "application/vnd.dataresource+json": {
                            "schema": {
                                "fields": [
                                    {
                                        "name": "orderyear"
                                    },
                                    {
                                        "name": "numcusts"
                                    }
                                ]
                            },
                            "data": [
                                {
                                    "orderyear": "2014",
                                    "numcusts": "67"
                                },
                                {
                                    "orderyear": "2015",
                                    "numcusts": "86"
                                },
                                {
                                    "orderyear": "2016",
                                    "numcusts": "81"
                                }
                            ]
                        },
                        "text/html": [
                            "<table>",
                            "<tr><th>orderyear</th><th>numcusts</th></tr>",
                            "<tr><td>2014</td><td>67</td></tr>",
                            "<tr><td>2015</td><td>86</td></tr>",
                            "<tr><td>2016</td><td>81</td></tr>",
                            "</table>"
                        ]
                    }
                }
            ],
            "execution_count": 109
        },
        {
            "cell_type": "markdown",
            "source": [
                "\\--------------\n",
                "\n",
                "ENCRYPTION\n",
                "\n",
                "\\--------------\n",
                "\n",
                "We create a view which stores all the customers from the USA and their information.  We use the OBJECT\\_DEFINITION function to get the definition of the view.  But then, if we use the ENCRYPTION attribute, the definition of the view is no longer available to any user.  Instead the OBJECT\\_DEFINITION function returns NULL.\n",
                "\n",
                "In the final line, we use sp\\_helptext to get the view definition.  Since the view is encrypted, we get a message saying so instead of the actual definition."
            ],
            "metadata": {
                "language": "sql",
                "azdata_cell_guid": "c0a6e0d8-d6ca-448f-93f0-ececb41de0bf"
            },
            "attachments": {}
        },
        {
            "cell_type": "code",
            "source": [
                "USE Northwinds2022TSQLV7;\n",
                "GO\n",
                "\n",
                "ALTER VIEW Sales.[USACusts]\n",
                "AS\n",
                "SELECT\n",
                "  CustomerId, CustomerCompanyName, CustomerContactName, CustomerContactTitle, CustomerAddress,\n",
                "  CustomerCity, CustomerRegion, CustomerPostalCode, CustomerCountry, CustomerPhoneNumber, CustomerFaxNumber\n",
                "FROM Sales.[Customer]\n",
                "WHERE CustomerCountry = N'USA';\n",
                "GO\n",
                "\n",
                "SELECT OBJECT_DEFINITION(OBJECT_ID('Sales.USACusts'));\n",
                "GO\n",
                "\n",
                "ALTER VIEW Sales.[USACusts] WITH ENCRYPTION\n",
                "AS\n",
                "SELECT\n",
                "  CustomerId, CustomerCompanyName, CustomerContactName, CustomerContactTitle, CustomerAddress,\n",
                "  CustomerCity, CustomerRegion, CustomerPostalCode, CustomerCountry, CustomerPhoneNumber, CustomerFaxNumber\n",
                "FROM Sales.[Customer]\n",
                "WHERE CustomerCountry = N'USA';\n",
                "GO\n",
                "\n",
                "SELECT OBJECT_DEFINITION(OBJECT_ID('Sales.USACusts'));\n",
                "GO\n",
                "\n",
                "EXEC sp_helptext 'Sales.USACusts';\n",
                "GO"
            ],
            "metadata": {
                "language": "sql",
                "azdata_cell_guid": "77dad787-db63-4fc7-bcee-f29273e45d60"
            },
            "outputs": [
                {
                    "output_type": "display_data",
                    "data": {
                        "text/html": "Commands completed successfully."
                    },
                    "metadata": {}
                },
                {
                    "output_type": "display_data",
                    "data": {
                        "text/html": "Commands completed successfully."
                    },
                    "metadata": {}
                },
                {
                    "output_type": "display_data",
                    "data": {
                        "text/html": "(1 row affected)"
                    },
                    "metadata": {}
                },
                {
                    "output_type": "display_data",
                    "data": {
                        "text/html": "Commands completed successfully."
                    },
                    "metadata": {}
                },
                {
                    "output_type": "display_data",
                    "data": {
                        "text/html": "(1 row affected)"
                    },
                    "metadata": {}
                },
                {
                    "output_type": "display_data",
                    "data": {
                        "text/html": "The text for object 'Sales.USACusts' is encrypted."
                    },
                    "metadata": {}
                },
                {
                    "output_type": "display_data",
                    "data": {
                        "text/html": "Total execution time: 00:00:00.026"
                    },
                    "metadata": {}
                },
                {
                    "output_type": "execute_result",
                    "metadata": {},
                    "execution_count": 110,
                    "data": {
                        "application/vnd.dataresource+json": {
                            "schema": {
                                "fields": [
                                    {
                                        "name": "(No column name)"
                                    }
                                ]
                            },
                            "data": [
                                {
                                    "(No column name)": "\nCREATE VIEW Sales.[USACusts]\nAS\nSELECT\n  CustomerId, CustomerCompanyName, CustomerContactName, CustomerContactTitle, CustomerAddress,\n  CustomerCity, CustomerRegion, CustomerPostalCode, CustomerCountry, CustomerPhoneNumber, CustomerFaxNumber\nFROM Sales.[Customer]\nWHERE CustomerCountry = N'USA';\n"
                                }
                            ]
                        },
                        "text/html": [
                            "<table>",
                            "<tr><th>(No column name)</th></tr>",
                            "<tr><td>\nCREATE VIEW Sales.[USACusts]\nAS\nSELECT\n  CustomerId, CustomerCompanyName, CustomerContactName, CustomerContactTitle, CustomerAddress,\n  CustomerCity, CustomerRegion, CustomerPostalCode, CustomerCountry, CustomerPhoneNumber, CustomerFaxNumber\nFROM Sales.[Customer]\nWHERE CustomerCountry = N&#39;USA&#39;;\n</td></tr>",
                            "</table>"
                        ]
                    }
                },
                {
                    "output_type": "execute_result",
                    "metadata": {},
                    "execution_count": 110,
                    "data": {
                        "application/vnd.dataresource+json": {
                            "schema": {
                                "fields": [
                                    {
                                        "name": "(No column name)"
                                    }
                                ]
                            },
                            "data": [
                                {
                                    "(No column name)": "NULL"
                                }
                            ]
                        },
                        "text/html": [
                            "<table>",
                            "<tr><th>(No column name)</th></tr>",
                            "<tr><td>NULL</td></tr>",
                            "</table>"
                        ]
                    }
                }
            ],
            "execution_count": 110
        },
        {
            "cell_type": "markdown",
            "source": [
                "Chapter 5 Exercise 4\n",
                "\n",
                "Proposition: Write a query that shows Patricia Doyle's supervisory chain.\n",
                "\n",
                "Here we use a recursive CTE.  EmpCTE has a anchor\\_member that is invoked once starting with the employee with id = 9 (Patricia Doyle).  It also has a recursive\\_member which invokes EmpCTE itself, making it recursive.  The recursive query matches the previous call's ManagerId to the EmployeeId."
            ],
            "metadata": {
                "language": "sql",
                "azdata_cell_guid": "82a3cf52-7d76-4d57-a33f-06f2b758bae5"
            },
            "attachments": {}
        },
        {
            "cell_type": "code",
            "source": [
                "USE Northwinds2022TSQLV7;\n",
                "\n",
                "WITH EmpCTE AS\n",
                "(\n",
                "    SELECT EmployeeId, EmployeeManagerId, EmployeeFirstName, EmployeeLastName\n",
                "    FROM HumanResources.[Employee]\n",
                "    WHERE EmployeeId = 9\n",
                "\n",
                "    UNION ALL\n",
                "\n",
                "    SELECT P.EmployeeId, P.EmployeeManagerId, P.EmployeeFirstName, P.EmployeeLastName\n",
                "    FROM EmpCTE AS C\n",
                "        INNER JOIN HumanResources.[Employee] AS P\n",
                "            ON C.EmployeeManagerId = P.EmployeeId\n",
                ")\n",
                "SELECT EmployeeId, EmployeeManagerId, EmployeeFirstName, EmployeeLastName\n",
                "FROM EmpCTE"
            ],
            "metadata": {
                "language": "sql",
                "azdata_cell_guid": "e91f8503-99aa-4778-8afd-46e736d1b925"
            },
            "outputs": [
                {
                    "output_type": "display_data",
                    "data": {
                        "text/html": "(4 rows affected)"
                    },
                    "metadata": {}
                },
                {
                    "output_type": "display_data",
                    "data": {
                        "text/html": "Total execution time: 00:00:00.004"
                    },
                    "metadata": {}
                },
                {
                    "output_type": "execute_result",
                    "metadata": {},
                    "execution_count": 111,
                    "data": {
                        "application/vnd.dataresource+json": {
                            "schema": {
                                "fields": [
                                    {
                                        "name": "EmployeeId"
                                    },
                                    {
                                        "name": "EmployeeManagerId"
                                    },
                                    {
                                        "name": "EmployeeFirstName"
                                    },
                                    {
                                        "name": "EmployeeLastName"
                                    }
                                ]
                            },
                            "data": [
                                {
                                    "EmployeeId": "9",
                                    "EmployeeManagerId": "5",
                                    "EmployeeFirstName": "Patricia",
                                    "EmployeeLastName": "Doyle"
                                },
                                {
                                    "EmployeeId": "5",
                                    "EmployeeManagerId": "2",
                                    "EmployeeFirstName": "Sven",
                                    "EmployeeLastName": "Mortensen"
                                },
                                {
                                    "EmployeeId": "2",
                                    "EmployeeManagerId": "1",
                                    "EmployeeFirstName": "Don",
                                    "EmployeeLastName": "Funk"
                                },
                                {
                                    "EmployeeId": "1",
                                    "EmployeeManagerId": "NULL",
                                    "EmployeeFirstName": "Sara",
                                    "EmployeeLastName": "Davis"
                                }
                            ]
                        },
                        "text/html": [
                            "<table>",
                            "<tr><th>EmployeeId</th><th>EmployeeManagerId</th><th>EmployeeFirstName</th><th>EmployeeLastName</th></tr>",
                            "<tr><td>9</td><td>5</td><td>Patricia</td><td>Doyle</td></tr>",
                            "<tr><td>5</td><td>2</td><td>Sven</td><td>Mortensen</td></tr>",
                            "<tr><td>2</td><td>1</td><td>Don</td><td>Funk</td></tr>",
                            "<tr><td>1</td><td>NULL</td><td>Sara</td><td>Davis</td></tr>",
                            "</table>"
                        ]
                    }
                }
            ],
            "execution_count": 111
        },
        {
            "cell_type": "markdown",
            "source": [
                "Chapter 5 Exercise 6\n",
                "\n",
                "Proposition: Given a supplier and integer value n, write a query that returns the n most expensive products provided by the supplier.\n",
                "\n",
                "Here we use an inline TVF that takes in two parameters: an integer representing the SupplierId and an integer representing the number of most expensive products we want to include.  The TVF returns a table which filtered from the Production.\\[Product\\] table for only the rows which have the correct SupplierId and then ordered them by UnitPrice, taking the top n results.  Then we query the TVF with parameters 5 and 2."
            ],
            "metadata": {
                "language": "sql",
                "azdata_cell_guid": "e35db43c-b65b-4d9a-ac1d-4540e5fcfffa"
            },
            "attachments": {}
        },
        {
            "cell_type": "code",
            "source": [
                "USE Northwinds2022TSQLV7;\n",
                "GO\n",
                "\n",
                "CREATE FUNCTION Production.TopProducts\n",
                "    (@supid AS INT, @n AS INT)\n",
                "    RETURNS TABLE\n",
                "AS\n",
                "RETURN\n",
                "    SELECT TOP (@n) ProductId, ProductName, UnitPrice\n",
                "    FROM Production.[Product]\n",
                "    WHERE SupplierId = @supid\n",
                "    ORDER BY UnitPrice DESC;\n",
                "GO\n",
                "\n",
                "SELECT * FROM Production.TopProducts(5, 2)\n",
                "GO"
            ],
            "metadata": {
                "language": "sql",
                "azdata_cell_guid": "25edde8b-5e7e-4a04-9921-45302594fe5e"
            },
            "outputs": [
                {
                    "output_type": "display_data",
                    "data": {
                        "text/html": "Commands completed successfully."
                    },
                    "metadata": {}
                },
                {
                    "output_type": "error",
                    "evalue": "Msg 2714, Level 16, State 3, Procedure TopProducts, Line 2\nThere is already an object named 'TopProducts' in the database.",
                    "ename": "",
                    "traceback": []
                },
                {
                    "output_type": "display_data",
                    "data": {
                        "text/html": "(2 rows affected)"
                    },
                    "metadata": {}
                },
                {
                    "output_type": "display_data",
                    "data": {
                        "text/html": "Total execution time: 00:00:00.017"
                    },
                    "metadata": {}
                },
                {
                    "output_type": "execute_result",
                    "metadata": {},
                    "execution_count": 112,
                    "data": {
                        "application/vnd.dataresource+json": {
                            "schema": {
                                "fields": [
                                    {
                                        "name": "ProductId"
                                    },
                                    {
                                        "name": "ProductName"
                                    },
                                    {
                                        "name": "UnitPrice"
                                    }
                                ]
                            },
                            "data": [
                                {
                                    "ProductId": "12",
                                    "ProductName": "Product OSFNS",
                                    "UnitPrice": "38.00"
                                },
                                {
                                    "ProductId": "11",
                                    "ProductName": "Product QMVUN",
                                    "UnitPrice": "21.00"
                                }
                            ]
                        },
                        "text/html": [
                            "<table>",
                            "<tr><th>ProductId</th><th>ProductName</th><th>UnitPrice</th></tr>",
                            "<tr><td>12</td><td>Product OSFNS</td><td>38.00</td></tr>",
                            "<tr><td>11</td><td>Product QMVUN</td><td>21.00</td></tr>",
                            "</table>"
                        ]
                    }
                }
            ],
            "execution_count": 112
        }
    ]
}